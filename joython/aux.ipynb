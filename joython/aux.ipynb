{
 "cells": [
  {
   "cell_type": "code",
   "execution_count": 4,
   "metadata": {},
   "outputs": [
    {
     "name": "stderr",
     "output_type": "stream",
     "text": [
      "QSocketNotifier: Can only be used with threads started with QThread\n"
     ]
    }
   ],
   "source": [
    "import pandas as pd\n",
    "import numpy as np\n",
    "import matplotlib.pyplot as plt\n",
    "from lib_new.io_lib import *\n",
    "from lib_new.average_waveforms import *\n",
    "from lib_new.ped_lib import *\n",
    "%matplotlib qt\n"
   ]
  },
  {
   "cell_type": "code",
   "execution_count": 2,
   "metadata": {},
   "outputs": [
    {
     "name": "stdout",
     "output_type": "stream",
     "text": [
      "----------\n",
      "Doing:  substract_Pedestal  on channel: 0\n",
      "----------\n",
      "Doing:  compute_Peak  on channel: 0\n",
      "----------\n",
      "Doing:  compute_AverageWaveforms  on channel: 0\n"
     ]
    }
   ],
   "source": [
    "# path =\"/media/rodrigoa/2Gb/data/SBND_XA_PDE/SBND_XA_VIS/joython/\"\n",
    "path=\"/media/rodrigoa/DiscoDuro/SBND_XA_VIS/joython/\"\n",
    "\n",
    "for run in range(15,16):\n",
    "    if run==3:continue # Rodrigo forgot one run :D\n",
    "    Run_props=open_run_properties(run,\"macros/Runs_list.xlsx\")\n",
    "    run_path=path+\"run\"+str(run).zfill(2)+\"/\";\n",
    "\n",
    "    compress=False\n",
    "    \n",
    "    \n",
    "    # One channel at a time: \n",
    "    # loading all ch waveforms might demmand too much memory, \n",
    "    # remember to always delete between runs to prevent overloading)\n",
    "\n",
    "    # for ch in Run_props[\"Channels\"]:\n",
    "    CH=0\n",
    "    for ch in [CH]:\n",
    "\n",
    "        ADC=open_run_var(run_path,\"RawADC\",[ch],compressed=compress)\n",
    "        Pedestal_vars=open_run_var(run_path,\"Pedestal_vars\",[ch],compressed=compress)\n",
    "        ADC=do_run_things((ADC,Pedestal_vars,Run_props[\"Polarity\"]),substract_Pedestal)\n",
    "        \n",
    "        Peak_vars=do_run_things(ADC,compute_Peak)\n",
    "\n",
    "        Avg_wvf=do_run_things((ADC,Peak_vars),compute_AverageWaveforms)\n",
    "        # # Average_waveform\n",
    "        # del Pedestal_vars, ADC\n",
    "        \n",
    "        # plt.plot(Avg_wvf[0])\n",
    "        # Avg_wvf=do_run_things((ADC,{0:\"shifted\"},{0:c}),Average_waveform)\n",
    "        # plt.plot(Avg_wvf[0])"
   ]
  },
  {
   "cell_type": "code",
   "execution_count": 57,
   "metadata": {},
   "outputs": [],
   "source": [
    "for key in Avg_wvf[CH]:\n",
    "    wvf=Avg_wvf[CH][key]\n",
    "    plt.plot(wvf[(np.argmax(wvf)-800):])\n",
    "    plt.yscale(\"log\")\n",
    "    \n",
    "    plt.legend([\"No centering\",\"Peak centering\",\"Threshold centering\"])\n",
    "# plt.plot(ADC[0][2])"
   ]
  },
  {
   "cell_type": "code",
   "execution_count": 9,
   "metadata": {},
   "outputs": [
    {
     "data": {
      "text/plain": [
       "[<matplotlib.lines.Line2D at 0x7f4d9ff778e0>]"
      ]
     },
     "execution_count": 9,
     "metadata": {},
     "output_type": "execute_result"
    }
   ],
   "source": [
    "plt.figure()\n",
    "plt.plot(ADC[0][3])\n",
    "# plt.yscale(\"log\")\n"
   ]
  },
  {
   "cell_type": "code",
   "execution_count": null,
   "metadata": {},
   "outputs": [],
   "source": []
  }
 ],
 "metadata": {
  "kernelspec": {
   "display_name": "Python 3",
   "language": "python",
   "name": "python3"
  },
  "language_info": {
   "codemirror_mode": {
    "name": "ipython",
    "version": 3
   },
   "file_extension": ".py",
   "mimetype": "text/x-python",
   "name": "python",
   "nbconvert_exporter": "python",
   "pygments_lexer": "ipython3",
   "version": "3.10.6"
  },
  "orig_nbformat": 4,
  "vscode": {
   "interpreter": {
    "hash": "916dbcbb3f70747c44a77c7bcd40155683ae19c65e1c03b4aa3499c5328201f1"
   }
  }
 },
 "nbformat": 4,
 "nbformat_minor": 2
}
