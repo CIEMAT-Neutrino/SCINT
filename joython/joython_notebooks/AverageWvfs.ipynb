{
 "cells": [
  {
   "cell_type": "code",
   "execution_count": 3,
   "metadata": {},
   "outputs": [],
   "source": [
    "import sys\n",
    "sys.path.insert(0, '../')\n",
    "from lib import *"
   ]
  },
  {
   "cell_type": "code",
   "execution_count": 4,
   "metadata": {},
   "outputs": [
    {
     "name": "stdout",
     "output_type": "stream",
     "text": [
      "----------\n",
      "Doing:  substract_Pedestal  on channel: 0\n",
      "----------\n",
      "Doing:  compute_Peak  on channel: 0\n",
      "----------\n",
      "Doing:  compute_AverageWaveforms  on channel: 0\n",
      "AvWvf\n",
      "AvWvf_Center_Peak\n",
      "AvWvf_Center_Rise\n"
     ]
    },
    {
     "data": {
      "image/png": "[encoded data removed]",
      "text/plain": [
       "<Figure size 432x288 with 1 Axes>"
      ]
     },
     "metadata": {
      "needs_background": "light"
     },
     "output_type": "display_data"
    }
   ],
   "source": [
    "# path =\"/media/rodrigoa/2Gb/data/SBND_XA_PDE/SBND_XA_VIS/joython/\"\n",
    "path=\"/media/rodrigoa/DiscoDuro/SBND_XA_VIS/joython/\"\n",
    "\n",
    "for run in range(6,7):\n",
    "    if run==3:continue # Rodrigo forgot one run :D\n",
    "    Run_props=open_run_properties(run,\"../macros/Runs_list.xlsx\")\n",
    "    run_path=path+\"run\"+str(run).zfill(2)+\"/\";\n",
    "\n",
    "    compress=False\n",
    "    \n",
    "    \n",
    "    # One channel at a time: \n",
    "    # loading all ch waveforms might demmand too much memory, \n",
    "    # remember to always delete between runs to prevent overloading)\n",
    "\n",
    "    # for ch in Run_props[\"Channels\"]:\n",
    "    CH=0\n",
    "    for ch in [CH]:\n",
    "\n",
    "        ADC=open_run_var(run_path,\"RawADC\",[ch],compressed=compress)\n",
    "        Pedestal_vars=open_run_var(run_path,\"Pedestal_vars\",[ch],compressed=compress)\n",
    "        ADC=do_run_things((ADC,Pedestal_vars,Run_props[\"Polarity\"]),substract_Pedestal)\n",
    "        \n",
    "        Peak_vars=do_run_things(ADC,compute_Peak)\n",
    "\n",
    "        # Average_waveform\n",
    "        \n",
    "        Avg_wvf=do_run_things((ADC,Peak_vars),compute_AverageWaveforms)\n",
    "        for alg in Avg_wvf[0]:\n",
    "            print (alg)\n",
    "            plt.plot(Avg_wvf[0][alg])\n",
    "        plt.legend([\"No centering\",\"Peak centering\",\"Threshold centering\"])\n",
    "\n",
    "        del Pedestal_vars, ADC"
   ]
  },
  {
   "cell_type": "code",
   "execution_count": null,
   "metadata": {},
   "outputs": [],
   "source": []
  }
 ],
 "metadata": {
  "kernelspec": {
   "display_name": "Python 3",
   "language": "python",
   "name": "python3"
  },
  "language_info": {
   "codemirror_mode": {
    "name": "ipython",
    "version": 3
   },
   "file_extension": ".py",
   "mimetype": "text/x-python",
   "name": "python",
   "nbconvert_exporter": "python",
   "pygments_lexer": "ipython3",
   "version": "3.10.6"
  },
  "orig_nbformat": 4,
  "vscode": {
   "interpreter": {
    "hash": "916dbcbb3f70747c44a77c7bcd40155683ae19c65e1c03b4aa3499c5328201f1"
   }
  }
 },
 "nbformat": 4,
 "nbformat_minor": 2
}
