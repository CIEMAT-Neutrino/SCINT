{
 "cells": [
  {
   "cell_type": "code",
   "execution_count": 1,
   "metadata": {},
   "outputs": [],
   "source": [
    "import sys\n",
    "sys.path.insert(0, '../')\n",
    "from lib import *\n",
    "\n",
    "%matplotlib inline"
   ]
  },
  {
   "attachments": {},
   "cell_type": "markdown",
   "metadata": {},
   "source": [
    "## Multiple runs"
   ]
  },
  {
   "cell_type": "code",
   "execution_count": 2,
   "metadata": {},
   "outputs": [
    {
     "name": "stderr",
     "output_type": "stream",
     "text": [
      "/home/rodrigoa/CYTHON_TOOLS_2/joython/joython_notebooks/../lib/dec_functions.py:12: RuntimeWarning: overflow encountered in power\n",
      "  y = a*np.exp(-(x-mean)**n/(2*sigma**n))\n",
      "/home/rodrigoa/CYTHON_TOOLS_2/joython/joython_notebooks/../lib/dec_functions.py:12: RuntimeWarning: overflow encountered in double_scalars\n",
      "  y = a*np.exp(-(x-mean)**n/(2*sigma**n))\n",
      "/home/rodrigoa/CYTHON_TOOLS_2/joython/joython_notebooks/../lib/dec_functions.py:12: RuntimeWarning: invalid value encountered in divide\n",
      "  y = a*np.exp(-(x-mean)**n/(2*sigma**n))\n",
      "/home/rodrigoa/CYTHON_TOOLS_2/joython/joython_notebooks/../lib/dec_functions.py:12: RuntimeWarning: invalid value encountered in power\n",
      "  y = a*np.exp(-(x-mean)**n/(2*sigma**n))\n",
      "/home/rodrigoa/.local/lib/python3.10/site-packages/scipy/optimize/_minpack_py.py:881: OptimizeWarning: Covariance of the parameters could not be estimated\n",
      "  warnings.warn('Covariance of the parameters could not be estimated',\n",
      "/home/rodrigoa/CYTHON_TOOLS_2/joython/joython_notebooks/../lib/dec_functions.py:12: RuntimeWarning: overflow encountered in power\n",
      "  y = a*np.exp(-(x-mean)**n/(2*sigma**n))\n",
      "/home/rodrigoa/CYTHON_TOOLS_2/joython/joython_notebooks/../lib/dec_functions.py:12: RuntimeWarning: overflow encountered in double_scalars\n",
      "  y = a*np.exp(-(x-mean)**n/(2*sigma**n))\n",
      "/home/rodrigoa/CYTHON_TOOLS_2/joython/joython_notebooks/../lib/dec_functions.py:12: RuntimeWarning: invalid value encountered in divide\n",
      "  y = a*np.exp(-(x-mean)**n/(2*sigma**n))\n",
      "/home/rodrigoa/CYTHON_TOOLS_2/joython/joython_notebooks/../lib/dec_functions.py:12: RuntimeWarning: invalid value encountered in power\n",
      "  y = a*np.exp(-(x-mean)**n/(2*sigma**n))\n",
      "/home/rodrigoa/.local/lib/python3.10/site-packages/scipy/optimize/_minpack_py.py:881: OptimizeWarning: Covariance of the parameters could not be estimated\n",
      "  warnings.warn('Covariance of the parameters could not be estimated',\n",
      "/home/rodrigoa/CYTHON_TOOLS_2/joython/joython_notebooks/../lib/dec_functions.py:12: RuntimeWarning: overflow encountered in power\n",
      "  y = a*np.exp(-(x-mean)**n/(2*sigma**n))\n",
      "/home/rodrigoa/CYTHON_TOOLS_2/joython/joython_notebooks/../lib/dec_functions.py:12: RuntimeWarning: overflow encountered in double_scalars\n",
      "  y = a*np.exp(-(x-mean)**n/(2*sigma**n))\n",
      "/home/rodrigoa/CYTHON_TOOLS_2/joython/joython_notebooks/../lib/dec_functions.py:12: RuntimeWarning: invalid value encountered in divide\n",
      "  y = a*np.exp(-(x-mean)**n/(2*sigma**n))\n",
      "/home/rodrigoa/CYTHON_TOOLS_2/joython/joython_notebooks/../lib/dec_functions.py:12: RuntimeWarning: invalid value encountered in power\n",
      "  y = a*np.exp(-(x-mean)**n/(2*sigma**n))\n",
      "/home/rodrigoa/.local/lib/python3.10/site-packages/scipy/optimize/_minpack_py.py:881: OptimizeWarning: Covariance of the parameters could not be estimated\n",
      "  warnings.warn('Covariance of the parameters could not be estimated',\n",
      "/home/rodrigoa/CYTHON_TOOLS_2/joython/joython_notebooks/../lib/dec_functions.py:12: RuntimeWarning: overflow encountered in power\n",
      "  y = a*np.exp(-(x-mean)**n/(2*sigma**n))\n",
      "/home/rodrigoa/CYTHON_TOOLS_2/joython/joython_notebooks/../lib/dec_functions.py:12: RuntimeWarning: overflow encountered in double_scalars\n",
      "  y = a*np.exp(-(x-mean)**n/(2*sigma**n))\n",
      "/home/rodrigoa/CYTHON_TOOLS_2/joython/joython_notebooks/../lib/dec_functions.py:12: RuntimeWarning: invalid value encountered in divide\n",
      "  y = a*np.exp(-(x-mean)**n/(2*sigma**n))\n",
      "/home/rodrigoa/CYTHON_TOOLS_2/joython/joython_notebooks/../lib/dec_functions.py:12: RuntimeWarning: invalid value encountered in power\n",
      "  y = a*np.exp(-(x-mean)**n/(2*sigma**n))\n",
      "/home/rodrigoa/.local/lib/python3.10/site-packages/scipy/optimize/_minpack_py.py:881: OptimizeWarning: Covariance of the parameters could not be estimated\n",
      "  warnings.warn('Covariance of the parameters could not be estimated',\n"
     ]
    },
    {
     "ename": "FileNotFoundError",
     "evalue": "[Errno 2] No such file or directory: '/media/rodrigoa/DiscoDuro/SBND_XA_PDE/APSAIA_VIS/joython/run07/Timestamp_ch0.npy'",
     "output_type": "error",
     "traceback": [
      "\u001b[0;31m---------------------------------------------------------------------------\u001b[0m",
      "\u001b[0;31mFileNotFoundError\u001b[0m                         Traceback (most recent call last)",
      "\u001b[1;32m/home/rodrigoa/CYTHON_TOOLS_2/joython/joython_notebooks/Charges.ipynb Cell 3\u001b[0m in \u001b[0;36m<cell line: 20>\u001b[0;34m()\u001b[0m\n\u001b[1;32m     <a href='vscode-notebook-cell://ssh-remote%2Brodralva_remote/home/rodrigoa/CYTHON_TOOLS_2/joython/joython_notebooks/Charges.ipynb#X10sdnNjb2RlLXJlbW90ZQ%3D%3D?line=29'>30</a>\u001b[0m Charge_vars  \u001b[39m=\u001b[39mopen_run_var(run_path ,\u001b[39m\"\u001b[39m\u001b[39mCharge_vars\u001b[39m\u001b[39m\"\u001b[39m ,[ch],compressed\u001b[39m=\u001b[39mcompress)\n\u001b[1;32m     <a href='vscode-notebook-cell://ssh-remote%2Brodralva_remote/home/rodrigoa/CYTHON_TOOLS_2/joython/joython_notebooks/Charges.ipynb#X10sdnNjb2RlLXJlbW90ZQ%3D%3D?line=30'>31</a>\u001b[0m Peak_vars    \u001b[39m=\u001b[39mopen_run_var(run_path ,\u001b[39m\"\u001b[39m\u001b[39mPeak_vars\u001b[39m\u001b[39m\"\u001b[39m   ,[ch],compressed\u001b[39m=\u001b[39mcompress)\n\u001b[0;32m---> <a href='vscode-notebook-cell://ssh-remote%2Brodralva_remote/home/rodrigoa/CYTHON_TOOLS_2/joython/joython_notebooks/Charges.ipynb#X10sdnNjb2RlLXJlbW90ZQ%3D%3D?line=31'>32</a>\u001b[0m TS\u001b[39m=\u001b[39mopen_run_var(run_path,\u001b[39m\"\u001b[39;49m\u001b[39mTimestamp\u001b[39;49m\u001b[39m\"\u001b[39;49m,[ch],compressed\u001b[39m=\u001b[39;49mcompress)\n\u001b[1;32m     <a href='vscode-notebook-cell://ssh-remote%2Brodralva_remote/home/rodrigoa/CYTHON_TOOLS_2/joython/joython_notebooks/Charges.ipynb#X10sdnNjb2RlLXJlbW90ZQ%3D%3D?line=33'>34</a>\u001b[0m Ped_CUT\u001b[39m=\u001b[39mPedestal_vars[ch][\u001b[39m\"\u001b[39m\u001b[39mSTD\u001b[39m\u001b[39m\"\u001b[39m]\u001b[39m<\u001b[39m\u001b[39m10\u001b[39m\n\u001b[1;32m     <a href='vscode-notebook-cell://ssh-remote%2Brodralva_remote/home/rodrigoa/CYTHON_TOOLS_2/joython/joython_notebooks/Charges.ipynb#X10sdnNjb2RlLXJlbW90ZQ%3D%3D?line=34'>35</a>\u001b[0m counts,bins\u001b[39m=\u001b[39mnp\u001b[39m.\u001b[39mhistogram(Charge_vars[ch][\u001b[39m\"\u001b[39m\u001b[39mChargeRange\u001b[39m\u001b[39m\"\u001b[39m][Ped_CUT\u001b[39m*\u001b[39mPeak_vars[ch][\u001b[39m\"\u001b[39m\u001b[39mPeak\u001b[39m\u001b[39m\"\u001b[39m]\u001b[39m>\u001b[39m\u001b[39m40\u001b[39m],\u001b[39m100\u001b[39m,[\u001b[39m0\u001b[39m,\u001b[39m3e4\u001b[39m]);\n",
      "File \u001b[0;32m~/CYTHON_TOOLS_2/joython/joython_notebooks/../lib/io_functions.py:23\u001b[0m, in \u001b[0;36mopen_run_var\u001b[0;34m(run_path, var_name, channels, compressed)\u001b[0m\n\u001b[1;32m     21\u001b[0m \u001b[39melse\u001b[39;00m: \n\u001b[1;32m     22\u001b[0m     full_path \u001b[39m=\u001b[39m run_path\u001b[39m+\u001b[39mvar_name\u001b[39m+\u001b[39m\u001b[39m\"\u001b[39m\u001b[39m_ch\u001b[39m\u001b[39m\"\u001b[39m\u001b[39m+\u001b[39m\u001b[39mstr\u001b[39m(ch)\u001b[39m+\u001b[39m\u001b[39m\"\u001b[39m\u001b[39m.npy\u001b[39m\u001b[39m\"\u001b[39m\n\u001b[0;32m---> 23\u001b[0m     run_var[ch]\u001b[39m=\u001b[39mnp\u001b[39m.\u001b[39;49mload(full_path ,allow_pickle\u001b[39m=\u001b[39;49m\u001b[39mTrue\u001b[39;49;00m)\n\u001b[1;32m     24\u001b[0m     \u001b[39mif\u001b[39;00m run_var[ch]\u001b[39m.\u001b[39mshape\u001b[39m==\u001b[39m():\u001b[39m# we are loading a dictionary\u001b[39;00m\n\u001b[1;32m     25\u001b[0m         run_var[ch]\u001b[39m=\u001b[39mrun_var[ch]\u001b[39m.\u001b[39mitem()\n",
      "File \u001b[0;32m~/.local/lib/python3.10/site-packages/numpy/lib/npyio.py:390\u001b[0m, in \u001b[0;36mload\u001b[0;34m(file, mmap_mode, allow_pickle, fix_imports, encoding)\u001b[0m\n\u001b[1;32m    388\u001b[0m     own_fid \u001b[39m=\u001b[39m \u001b[39mFalse\u001b[39;00m\n\u001b[1;32m    389\u001b[0m \u001b[39melse\u001b[39;00m:\n\u001b[0;32m--> 390\u001b[0m     fid \u001b[39m=\u001b[39m stack\u001b[39m.\u001b[39menter_context(\u001b[39mopen\u001b[39;49m(os_fspath(file), \u001b[39m\"\u001b[39;49m\u001b[39mrb\u001b[39;49m\u001b[39m\"\u001b[39;49m))\n\u001b[1;32m    391\u001b[0m     own_fid \u001b[39m=\u001b[39m \u001b[39mTrue\u001b[39;00m\n\u001b[1;32m    393\u001b[0m \u001b[39m# Code to distinguish from NumPy binary files and pickles.\u001b[39;00m\n",
      "\u001b[0;31mFileNotFoundError\u001b[0m: [Errno 2] No such file or directory: '/media/rodrigoa/DiscoDuro/SBND_XA_PDE/APSAIA_VIS/joython/run07/Timestamp_ch0.npy'"
     ]
    }
   ],
   "source": [
    "path=\"/media/rodrigoa/DiscoDuro/SBND_XA_PDE/APSAIA_VIS/joython/\"\n",
    "Run_props=open_run_properties(0,\"../macros/APSAIA_VIS.xlsx\")\n",
    "Runs=open_runs_table(\"../macros/APSAIA_VIS.xlsx\")\n",
    "\n",
    "\n",
    "# path=\"/media/rodrigoa/DiscoDuro/SBND_XA_PDE/APSAIA_VUV/joython/\"\n",
    "# Run_props=open_run_properties(0,\"../macros/APSAIA_VUV.xlsx\")\n",
    "# Runs=open_runs_table(\"../macros/APSAIA_VUV.xlsx\")\n",
    "\n",
    "Runs=Runs[Runs[\"Type\"]==\"Alfa\"]\n",
    "\n",
    "\n",
    "amp  =np.zeros((len(Run_props[\"Channels\"]),Runs[\"Run\"].array.shape[0]))\n",
    "mean =np.zeros((len(Run_props[\"Channels\"]),Runs[\"Run\"].array.shape[0]))\n",
    "err  =np.zeros((len(Run_props[\"Channels\"]),Runs[\"Run\"].array.shape[0]))\n",
    "rate =np.zeros((len(Run_props[\"Channels\"]),Runs[\"Run\"].array.shape[0]))\n",
    "\n",
    "i=0\n",
    "\n",
    "for ch in Run_props[\"Channels\"]:\n",
    "# for ch in [0]:\n",
    "    r=0;\n",
    "    for run in Runs[\"Run\"].array:\n",
    "    # for run in [0]:\n",
    "        \n",
    "        Run_props=open_run_properties(run,\"../macros/APSAIA_VUV.xlsx\")\n",
    "        run_path=path+\"run\"+str(run).zfill(2)+\"/\";\n",
    "        compress=False\n",
    "        Pedestal_vars=open_run_var(run_path,\"Pedestal_vars\",[ch],compressed=compress)\n",
    "        Charge_vars  =open_run_var(run_path ,\"Charge_vars\" ,[ch],compressed=compress)\n",
    "        Peak_vars    =open_run_var(run_path ,\"Peak_vars\"   ,[ch],compressed=compress)\n",
    "        TS=open_run_var(run_path,\"Timestamp\",[ch],compressed=compress)\n",
    "\n",
    "        Ped_CUT=Pedestal_vars[ch][\"STD\"]<10\n",
    "        counts,bins=np.histogram(Charge_vars[ch][\"ChargeRange\"][Ped_CUT*Peak_vars[ch][\"Peak\"]>40],100,[0,3e4]);\n",
    "\n",
    "        std=np.std(Charge_vars[ch][\"ChargeRange\"][Ped_CUT*Peak_vars[ch][\"Peak\"]>40])\n",
    "\n",
    "        popt, pcov = curve_fit(gauss, bins[1:], counts,p0=[max(counts),bins[np.argmax(counts)],std])\n",
    "        \n",
    "        \n",
    "        ym = gauss(bins[1:], popt[0], popt[1], popt[2])\n",
    "        # plt.plot  (bins[1:], ym, c='r', label='Best fit')\n",
    "        amp [i,r]=popt[0]\n",
    "        mean[i,r]=popt[1]\n",
    "        err [i,r]=popt[2]\n",
    "        \n",
    "        duration=(TS[ch][-1]-TS[ch][0])\n",
    "        rate[i,r]=np.sqrt(np.pi*2*popt[2]**2)*popt[0]*100/3e4/duration #gauss integral divided by bin tickness\n",
    "        r+=1;\n",
    "    i+=1;\n",
    "\n",
    "\n",
    "x=Runs[\"Run\"].array\n",
    "ys=mean[:4]\n",
    "yer=err[:4]\n",
    "legend=Run_props[\"ChannelName\"][:4]\n",
    "\n",
    "fig,axs=horizontal_subplots(x,ys,yer,legend)\n",
    "plt.suptitle(\"Charge over Runs\", fontsize=14)\n",
    "axs[0].set_ylabel(\"Charge,[ADCs x ticks]\")\n",
    "for ax in axs: ax.set_ylim([2,20000])\n",
    "\n",
    "plt.figure()\n",
    "ys=rate[:4]\n",
    "yer=np.zeros(ys.shape)\n",
    "fig,axs=horizontal_subplots(x,rate[:4],yer,legend)\n",
    "plt.suptitle(\"Rate over Runs\", fontsize=14)\n",
    "for ax in axs: ax.set_ylim([25,35])\n",
    "\n"
   ]
  },
  {
   "cell_type": "code",
   "execution_count": null,
   "metadata": {},
   "outputs": [
    {
     "data": {
      "text/plain": [
       "array([28.38787715, 31.32597546, 28.54391669, 30.60050305, 28.73673226,\n",
       "       30.62928438, 28.55502504, 29.64915722, 28.06675562, 29.84734698,\n",
       "       28.19779609, 30.00988133, 28.39094175, 30.3080102 , 28.07064494,\n",
       "       29.25822785, 27.846812  , 29.07423016, 27.88566834, 27.90472646])"
      ]
     },
     "execution_count": 162,
     "metadata": {},
     "output_type": "execute_result"
    }
   ],
   "source": [
    "rate[0]"
   ]
  },
  {
   "attachments": {},
   "cell_type": "markdown",
   "metadata": {},
   "source": [
    "## Single Run"
   ]
  },
  {
   "cell_type": "code",
   "execution_count": null,
   "metadata": {},
   "outputs": [
    {
     "name": "stdout",
     "output_type": "stream",
     "text": [
      "3925046.744152409\n"
     ]
    },
    {
     "data": {
      "text/plain": [
       "(1, 1000.0)"
      ]
     },
     "execution_count": 144,
     "metadata": {},
     "output_type": "execute_result"
    },
    {
     "data": {
      "image/png": "[encoded data removed]",
      "text/plain": [
       "<Figure size 432x288 with 1 Axes>"
      ]
     },
     "metadata": {
      "needs_background": "light"
     },
     "output_type": "display_data"
    }
   ],
   "source": [
    "# Let's create a function to model and create data\n",
    "\n",
    "for ch in [0]:\n",
    "    r=0;\n",
    "    # for run in Runs[\"Run\"].array:\n",
    "    for run in [0]:\n",
    "        Run_props=open_run_properties(run,\"../macros/APSAIA_VUV.xlsx\")\n",
    "        run_path=path+\"run\"+str(run).zfill(2)+\"/\";\n",
    "        compress=False\n",
    "        Pedestal_vars=open_run_var(run_path,\"Pedestal_vars\",[ch],compressed=compress)\n",
    "        Charge_vars  =open_run_var(run_path ,\"Charge_vars\" ,[ch],compressed=compress)\n",
    "        Peak_vars    =open_run_var(run_path ,\"Peak_vars\"   ,[ch],compressed=compress)\n",
    "\n",
    "def gauss(x, a, x0, sigma):\n",
    "    return a*np.exp(-(x-x0)**2/(2*sigma**2))\n",
    "\n",
    "\n",
    "Ped_CUT=Pedestal_vars[0][\"STD\"]<6\n",
    "\n",
    "plt.hist(Charge_vars[0][\"ChargeRange\"]                         ,100,[0,3e4],histtype=\"step\");\n",
    "plt.hist(Charge_vars[0][\"ChargeRange\"][Ped_CUT*Peak_vars[0][\"Peak\"]>20],100,[0,3e4],histtype=\"step\");\n",
    "plt.hist(Charge_vars[0][\"ChargeRange\"][Ped_CUT*Peak_vars[0][\"Peak\"]>40],100,[0,3e4],histtype=\"step\");\n",
    "counts,bins=np.histogram(Charge_vars[0][\"ChargeRange\"][Ped_CUT*Peak_vars[0][\"Peak\"]>40],100,[0,3e4]);\n",
    "\n",
    "std=np.std(Charge_vars[0][\"ChargeRange\"][Ped_CUT*Peak_vars[0][\"Peak\"]>40])\n",
    "\n",
    "popt, pcov = curve_fit(gauss, bins[1:], counts,p0=[max(counts),bins[np.argmax(counts)],std])\n",
    "\n",
    "\n",
    "print(sum(gauss(np.arange(0,1e8),popt[0], popt[1], popt[2])) ) \n",
    "\n",
    "ym = gauss(bins[1:], popt[0], popt[1], popt[2])\n",
    "plt.plot  (bins[1:], ym, c='r', label='Best fit')\n",
    "\n",
    "plt.semilogy()\n",
    "\n",
    "plt.legend([\"No cuts\",\"STD+Amp>20ADC Cut\",\"STD+Amp>40ADC Cut\",\"Best Fit\"])\n",
    "plt.xlabel(\"Charge [A.U.]\")\n",
    "plt.ylabel(\"Events\")\n",
    "plt.ylim([1,1e3])\n"
   ]
  },
  {
   "cell_type": "code",
   "execution_count": null,
   "metadata": {},
   "outputs": [],
   "source": []
  }
 ],
 "metadata": {
  "kernelspec": {
   "display_name": "Python 3",
   "language": "python",
   "name": "python3"
  },
  "language_info": {
   "codemirror_mode": {
    "name": "ipython",
    "version": 3
   },
   "file_extension": ".py",
   "mimetype": "text/x-python",
   "name": "python",
   "nbconvert_exporter": "python",
   "pygments_lexer": "ipython3",
   "version": "3.10.6"
  },
  "orig_nbformat": 4,
  "vscode": {
   "interpreter": {
    "hash": "916dbcbb3f70747c44a77c7bcd40155683ae19c65e1c03b4aa3499c5328201f1"
   }
  }
 },
 "nbformat": 4,
 "nbformat_minor": 2
}
