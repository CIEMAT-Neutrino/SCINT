{
 "cells": [
  {
   "cell_type": "code",
   "execution_count": 1,
   "metadata": {},
   "outputs": [],
   "source": [
    "import sys\n",
    "sys.path.insert(0, '../')\n",
    "from lib import *\n",
    "\n",
    "path=\"/media/rodrigoa/DiscoDuro/SBND_XA_VIS/joython/\"\n",
    "%matplotlib inline\n",
    "DEBUG=False"
   ]
  },
  {
   "cell_type": "code",
   "execution_count": 2,
   "metadata": {},
   "outputs": [],
   "source": [
    "# path =\"/media/rodrigoa/2Gb/data/SBND_XA_PDE/SBND_XA_VIS/joython/\"\n",
    "path=\"/media/rodrigoa/DiscoDuro/SBND_XA_VIS/joython/\"\n",
    "\n",
    "for run in range(6,7):\n",
    "    if run==3:continue # Rodrigo forgot one run :D\n",
    "    Run_props=open_run_properties(run,\"../macros/Runs_list.xlsx\")\n",
    "    run_path=path+\"run\"+str(run).zfill(2)+\"/\";\n",
    "\n",
    "    compress=False\n",
    "    Pedestal_vars=open_run_var(run_path,\"Pedestal_vars\",Run_props[\"Channels\"],compressed=compress)\n",
    "    Peak_vars    =open_run_var(run_path,\"Peak_vars\"    ,Run_props[\"Channels\"],compressed=compress)\n",
    "\n",
    "peak_cut=VARsAsDataFrame((Peak_vars,));\n"
   ]
  },
  {
   "cell_type": "code",
   "execution_count": 6,
   "metadata": {},
   "outputs": [
    {
     "name": "stdout",
     "output_type": "stream",
     "text": [
      "----------\n",
      "Doing:  substract_Pedestal  on channel: 0\n",
      "(29972,) (30001,)\n",
      "(29972, 5000) (30001, 5000)\n",
      "----------\n",
      "Doing:  compute_AverageWaveforms  on channel: 0\n",
      "AvWvf\n",
      "AvWvf_Center_Peak\n",
      "AvWvf_Center_Rise\n"
     ]
    },
    {
     "data": {
      "text/plain": [
       "<matplotlib.legend.Legend at 0x7fbbf2575900>"
      ]
     },
     "execution_count": 6,
     "metadata": {},
     "output_type": "execute_result"
    },
    {
     "data": {
      "image/png": "[encoded data removed]",
      "text/plain": [
       "<Figure size 432x288 with 1 Axes>"
      ]
     },
     "metadata": {
      "needs_background": "light"
     },
     "output_type": "display_data"
    }
   ],
   "source": [
    "for run in range(6,7):\n",
    "    RawADC=open_run_var(run_path,\"RawADC\",[0],compressed=compress)\n",
    "    ADC=do_run_things((RawADC,Pedestal_vars,Run_props[\"Polarity\"]),substract_Pedestal)\n",
    "    \n",
    "    cutted_Peak_vars=Apply_cut_to_VAR(peak_cut[\"PeakTime\"]>925,Peak_vars)\n",
    "    cutted_ADC      =Apply_cut_to_VAR(peak_cut[\"PeakTime\"]>925,ADC   )\n",
    "    print(cutted_Peak_vars[0][\"PeakTime\"].shape ,Peak_vars[0][\"PeakTime\"].shape)\n",
    "    print(cutted_ADC      [0]            .shape ,ADC      [0]            .shape)\n",
    "    del RawADC\n",
    "\n",
    "# Dummy example\n",
    "\n",
    "Avg_wvf=do_run_things((\n",
    "                       Apply_cut_to_VAR(peak_cut[\"PeakTime\"]>925,ADC   ),\n",
    "                       Apply_cut_to_VAR(peak_cut[\"PeakTime\"]>925,Peak_vars),\n",
    "                       ),compute_AverageWaveforms)\n",
    "del ADC\n",
    "for alg in Avg_wvf[0]:\n",
    "    print (alg)\n",
    "    plt.plot(Avg_wvf[0][alg])\n",
    "plt.legend([\"No centering\",\"Peak centering\",\"Threshold centering\"])\n"
   ]
  }
 ],
 "metadata": {
  "kernelspec": {
   "display_name": "Python 3",
   "language": "python",
   "name": "python3"
  },
  "language_info": {
   "codemirror_mode": {
    "name": "ipython",
    "version": 3
   },
   "file_extension": ".py",
   "mimetype": "text/x-python",
   "name": "python",
   "nbconvert_exporter": "python",
   "pygments_lexer": "ipython3",
   "version": "3.10.6"
  },
  "orig_nbformat": 4,
  "vscode": {
   "interpreter": {
    "hash": "916dbcbb3f70747c44a77c7bcd40155683ae19c65e1c03b4aa3499c5328201f1"
   }
  }
 },
 "nbformat": 4,
 "nbformat_minor": 2
}
