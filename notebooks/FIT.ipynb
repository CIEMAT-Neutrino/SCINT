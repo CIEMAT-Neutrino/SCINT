{
 "cells": [
  {
   "cell_type": "code",
   "execution_count": 1,
   "metadata": {},
   "outputs": [
    {
     "name": "stdout",
     "output_type": "stream",
     "text": [
      "\n",
      "⠀⠀⠀⠀⠀⠀⠀⠀⠀⠀⠀⠀⠀⠀⠀⠀⠀⠀⠀⠀⠀⠀⠀⠀⠀⠀⠀⠀⠀⠀⠀⠀⠀⠀⠀⠀⠀⠀⠀⣠⠀⠀⠀⠀⠀⠀⠀⠀⠀⠀⠀⠀⠀⠀⠀⠀⠀⠀⠀⠀⠀\n",
      "⠀⠀⠀⠀⠀⠀⠀⠀⠀⠀⠀⠀⠀⠀⠀⠀⠀⠀⠀⠀⠀⠀⠀⠀⠀⠀⠀⠀⠀⠀⠀⠀⠀⠀⠀⠀⠀⢸⡿⠃⠀⠀⠀⠀⠀⠀⠀⠀⠀⠀⠀⠀⠀⠀⠀⠀⠀⠀⠀⠀⠀\n",
      "⠀⠀⠀⠀⠀⠀⠀⠀⠀⠀⠀⠀⠀⠀⠀⠀⠀⠀⠀⠀⠀⠀⠀⠀⠀⠀⠀⠀⠀⠀⠀⠀⠀⠀⢠⠴⠚⠛⠓⠶⣄⠀⠀⠀⠀⠀⠀⠀⠀⠀⠀⠀⠀⠀⠀⠀⠀⠀⠀⠀⠀\n",
      "⠀⠀⣤⣄⣀⠀⠀⢀⣀⠀⠀⠀⠀⠀⠀⠀⡀⠀⠀⠀⠀⢀⣠⣴⡶⣆⠀⠀⠀⠀⠀⣠⣴⣶⣿⣦⣄⠀⠀⠀⠈⢧⠀⠀⠀⠀⠀⠀⠀⠀⠀⠀⠀⣀⡀⠀⠀⠀⠀⠀⠀\n",
      "⠀⠀⠻⣿⡏⠀⡞⣩⣍⡽⠤⢤⡿⣧⡀⢸⣿⣾⠃⠀⣰⣿⠿⠃⣰⣿⣷⠴⠤⣄⡀⣿⣥⣿⡉⣿⣿⡿⠶⢶⣦⣾⠀⠀⠀⠀⠀⠀⠀⠀⢰⡿⠋⠉⣫⡽⢿⣶⠦⣀⠀\n",
      "⠀⠀⠀⢹⡇⠈⠳⣿⡏⢴⣢⣾⣇⠀⢻⣄⠈⢿⡆⠀⠙⢷⣶⣿⣿⣿⣿⣦⡀⠀⠹⡎⠙⡟⠻⠛⠉⠀⠀⠀⠀⡇⠐⣷⣶⡆⠀⠀⠀⠀⠻⣧⣴⣞⠋⠁⣠⣿⡄⠈⡇\n",
      "⠀⠀⠀⡴⢿⡦⣄⠀⠙⠿⠿⠻⣿⣆⠀⠙⣦⠈⢿⡄⠀⠈⠛⠉⠉⠁⠈⠙⢿⣦⡀⢹⢸⠀⠀⠀⠀⠀⠀⠀⠀⡇⠀⠙⠛⢿⣦⡀⢀⣔⣀⣀⣀⠈⠛⠿⠟⠛⢿⣦⠁\n",
      "⠀⢀⣾⣷⣽⠿⠿⠇⠀⠀⠀⠀⠈⠻⣷⡀⠈⣇⣸⢻⣿⣿⡦⠀⠀⠀⠀⠀⠀⠹⣷⣀⡎⠠⠤⠤⠖⠛⠀⠀⢀⡇⠀⠀⠀⠀⠙⢻⠏⠘⣷⣶⣯⣽⡦⠀⠀⠀⠀⣻⠇\n",
      "⠀⣼⣷⣿⣿⣿⣦⣄⡀⠀⠀⠀⠀⠀⠘⢿⣄⣹⣿⣆⠀⠀⠀⠀⠀⠀⠀⠀⠀⣠⠟⢸⣀⡀⠀⠀⠀⠀⣀⣠⣾⠀⠀⠀⠀⠀⠀⠘⣧⠀⠈⠉⠙⠋⠁⠀⠀⣀⡴⠋⠀\n",
      "⢰⡟⢻⣿⣧⣾⣿⠋⠙⠛⠳⢶⣤⣀⠀⢈⣿⣿⣷⣮⣹⣿⡶⠖⠛⠛⠛⠳⣾⡅⠀⣼⢻⣿⣿⣿⡿⠛⠉⠉⣘⣧⣄⠀⠀⠀⠀⣸⠝⣳⣶⣤⣤⣴⡿⠿⠛⢿⡁⠀⠀\n",
      "⢸⣷⣾⡟⢻⣿⣇⠀⠀⠀⠀⠀⠈⠛⢿⠋⢹⣿⣯⣿⣿⣿⡁⠀⠀⠀⢠⣞⣥⡇⢰⣿⣿⣿⣿⠻⣧⣤⣀⣠⡏⠉⢛⣇⠀⠀⢸⣿⣾⣿⣿⣯⣿⡇⠀⠀⣴⣿⣿⡇⠀\n",
      "⣈⠻⣏⣰⣾⡻⣿⣿⣶⣤⣄⣀⣠⠞⢹⠀⠀⠻⣿⣿⣶⣿⣿⣿⣷⣶⡿⢿⡿⠁⠈⢿⣿⣿⣿⣧⡹⣿⣿⣿⠃⠀⣹⣿⡀⠀⠘⢿⣿⣿⣿⣿⣿⣷⣶⣶⡿⠛⠋⠁⠀\n",
      "⠻⢿⣿⡿⠛⠛⠛⢻⣿⣿⡿⠛⢻⣿⡿⠀⢲⣾⣿⣿⠋⠉⣿⣿⡟⠉⠀⠀⠀⠀⠸⢿⣿⣿⠁⠙⣿⣿⠉⠁⠀⠀⠙⠿⠃⠘⢷⣾⣿⡿⠉⠉⠙⢿⣿⡏⠀⠀⠀⠀⠀\n",
      "⠀⠀⠈⠀⠀⠀⠀⠉⠉⠉⠁⠀⠈⠉⠁⠀⠀⠈⠉⠋⠀⠀⠈⠉⠁⠀⠀⠀⠀⠀⠀⠀⠈⠁⠀⠀⠉⠉⠀⠀⠀⠀⠀⠀⠀⠀⠀⠈⠉⠀⠀⠀⠀⠈⠉⠀⠀⠀⠀⠀⠀\n",
      "The CYTHON TOOLs Team\n",
      "R. Alvarez, A. de la Torre, L. Perez, S. Manthey\n",
      "Software is provided \"as is\", without warranty of any kind,\n",
      "express or implied.\n",
      "    \n"
     ]
    }
   ],
   "source": [
    "import sys; sys.path.insert(0, '../'); from lib import *; print_header()"
   ]
  },
  {
   "cell_type": "code",
   "execution_count": 2,
   "metadata": {},
   "outputs": [
    {
     "name": "stdout",
     "output_type": "stream",
     "text": [
      "\n",
      "\n",
      "dict_keys(['DAQ', 'MODEL', 'BITS', 'DYNAMIC_RANGE', 'SAMPLING', 'RAW_DATA', 'PATH', 'MONTH', 'OV_LABEL', 'MUONS_RUNS', 'LIGHT_RUNS', 'ALPHA_RUNS', 'CALIB_RUNS', 'CHAN_LABEL', 'CHAN_TOTAL', 'CHAN_POLAR', 'CHAN_AMPLI', 'LOAD_PRESET', 'SAVE_PRESET', 'TYPE', 'REF', 'I_RANGE', 'F_RANGE'])\n",
      "\n",
      "\n",
      "-> DONE!\n",
      "\n",
      "-> DONE!\n",
      "\n",
      "-> DONE!\n",
      "\n",
      "-> DONE!\n",
      "\n",
      "-> DONE!\n",
      "\n",
      "-> DONE!\n",
      "\n",
      "-> DONE!\n",
      "\n",
      "-> DONE!\n",
      "\n",
      "-> DONE!\n",
      "\n"
     ]
    }
   ],
   "source": [
    "info = read_input_file(\"Feb22_2_day1\")\n",
    "\n",
    "runs = np.asarray(info[\"ALPHA_RUNS\"]).astype(int)\n",
    "chs = np.asarray(info[\"CHAN_TOTAL\"]).astype(int)\n",
    "\n",
    "my_runs = load_npy(runs,chs,preset=\"EVA\",info=info,compressed=True)  # Select runs to be deconvolved (tipichaly alpha)"
   ]
  },
  {
   "cell_type": "code",
   "execution_count": 3,
   "metadata": {},
   "outputs": [
    {
     "ename": "KeyError",
     "evalue": "'GaussAveWvf'",
     "output_type": "error",
     "traceback": [
      "\u001b[0;31m---------------------------------------------------------------------------\u001b[0m",
      "\u001b[0;31mKeyError\u001b[0m                                  Traceback (most recent call last)",
      "Cell \u001b[0;32mIn [3], line 7\u001b[0m\n\u001b[1;32m      1\u001b[0m parameters \u001b[39m=\u001b[39m {\n\u001b[1;32m      2\u001b[0m \u001b[39m\"\u001b[39m\u001b[39msigma\u001b[39m\u001b[39m\"\u001b[39m:    \u001b[39m1e-8\u001b[39m,\n\u001b[1;32m      3\u001b[0m \u001b[39m\"\u001b[39m\u001b[39ma_fast\u001b[39m\u001b[39m\"\u001b[39m:   \u001b[39m1e-8\u001b[39m,\n\u001b[1;32m      4\u001b[0m \u001b[39m\"\u001b[39m\u001b[39ma_slow\u001b[39m\u001b[39m\"\u001b[39m:   \u001b[39m1e-8\u001b[39m,\n\u001b[1;32m      5\u001b[0m \u001b[39m\"\u001b[39m\u001b[39mtau_slow\u001b[39m\u001b[39m\"\u001b[39m: \u001b[39m1e-6\u001b[39m}\n\u001b[0;32m----> 7\u001b[0m out \u001b[39m=\u001b[39m fit_wvfs(my_runs,\u001b[39m\"\u001b[39;49m\u001b[39mScint\u001b[39;49m\u001b[39m\"\u001b[39;49m,thrld\u001b[39m=\u001b[39;49m\u001b[39m1e-6\u001b[39;49m,fit_range\u001b[39m=\u001b[39;49m[\u001b[39m50\u001b[39;49m,\u001b[39m1000\u001b[39;49m],i_param\u001b[39m=\u001b[39;49mparameters,in_key\u001b[39m=\u001b[39;49m[\u001b[39m\"\u001b[39;49m\u001b[39mGaussAveWvf\u001b[39;49m\u001b[39m\"\u001b[39;49m],OPT\u001b[39m=\u001b[39;49m{\u001b[39m\"\u001b[39;49m\u001b[39mSHOW\u001b[39;49m\u001b[39m\"\u001b[39;49m: \u001b[39mFalse\u001b[39;49;00m, \u001b[39m\"\u001b[39;49m\u001b[39mTERMINAL_OUTPUT\u001b[39;49m\u001b[39m\"\u001b[39;49m: \u001b[39mFalse\u001b[39;49;00m})\n",
      "File \u001b[0;32m~/Code/CYTHON_TOOLS/notebooks/../lib/fit_functions.py:485\u001b[0m, in \u001b[0;36mfit_wvfs\u001b[0;34m(my_runs, signal_type, thrld, fit_range, i_param, in_key, out_key, OPT)\u001b[0m\n\u001b[1;32m    483\u001b[0m \u001b[39mfor\u001b[39;00m run, ch, key \u001b[39min\u001b[39;00m product(my_runs[\u001b[39m\"\u001b[39m\u001b[39mNRun\u001b[39m\u001b[39m\"\u001b[39m], my_runs[\u001b[39m\"\u001b[39m\u001b[39mNChannel\u001b[39m\u001b[39m\"\u001b[39m], in_key):\n\u001b[1;32m    484\u001b[0m     aux \u001b[39m=\u001b[39m \u001b[39mdict\u001b[39m()\n\u001b[0;32m--> 485\u001b[0m     raw \u001b[39m=\u001b[39m my_runs[run][ch][key]        \n\u001b[1;32m    486\u001b[0m     raw_x \u001b[39m=\u001b[39m my_runs[run][ch][\u001b[39m\"\u001b[39m\u001b[39mSampling\u001b[39m\u001b[39m\"\u001b[39m]\u001b[39m*\u001b[39mnp\u001b[39m.\u001b[39marange(\u001b[39mlen\u001b[39m(raw[\u001b[39m0\u001b[39m]))\n\u001b[1;32m    488\u001b[0m     \u001b[39mfor\u001b[39;00m i \u001b[39min\u001b[39;00m \u001b[39mrange\u001b[39m(\u001b[39mlen\u001b[39m(raw)):\n",
      "\u001b[0;31mKeyError\u001b[0m: 'GaussAveWvf'"
     ]
    }
   ],
   "source": [
    "parameters = {\n",
    "\"sigma\":    1e-8,\n",
    "\"a_fast\":   1e-8,\n",
    "\"a_slow\":   1e-8,\n",
    "\"tau_slow\": 1e-6}\n",
    "\n",
    "out = fit_wvfs(my_runs,\"Scint\",thrld=1e-6,fit_range=[50,1000],i_param=parameters,in_key=[\"GaussAveWvf\"],OPT={\"SHOW\": False, \"TERMINAL_OUTPUT\": False})"
   ]
  },
  {
   "cell_type": "code",
   "execution_count": null,
   "metadata": {},
   "outputs": [],
   "source": [
    "keys = [\"GaussAveWvf\",\"FitScint\"]\n",
    "time = []\n",
    "wvfs = []\n",
    "pd_runs = []\n",
    "pd_chs = []\n",
    "pd_keys = []\n",
    "for run, ch, key in product(runs, chs, keys):\n",
    "    time = np.append(time,my_runs[run][ch][\"Sampling\"]*np.arange(len(my_runs[run][ch][key][0])))\n",
    "    wvfs = np.append(wvfs,my_runs[run][ch][key][0])\n",
    "    pd_runs = np.append(pd_runs,len(my_runs[run][ch][key][0])*[run])\n",
    "    pd_chs = np.append(pd_chs,len(my_runs[run][ch][key][0])*[ch])\n",
    "    pd_keys = np.append(pd_keys,len(my_runs[run][ch][key][0])*[key])"
   ]
  },
  {
   "cell_type": "code",
   "execution_count": null,
   "metadata": {},
   "outputs": [],
   "source": [
    "df = pd.DataFrame({\"TIME\":time,\"WVF\":wvfs,\"RUNS\":pd_runs,\"CHANNELS\":pd_chs,\"KEYS\":pd_keys})\n",
    "fig = px.line(df, x=\"TIME\", y=\"WVF\", facet_row=\"RUNS\", facet_col=\"CHANNELS\", color=\"KEYS\", log_y=True, height=1000)\n",
    "fig.show()"
   ]
  }
 ],
 "metadata": {
  "language_info": {
   "name": "python"
  },
  "orig_nbformat": 4
 },
 "nbformat": 4,
 "nbformat_minor": 2
}
