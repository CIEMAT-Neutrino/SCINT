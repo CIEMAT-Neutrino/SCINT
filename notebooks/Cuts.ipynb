{
 "cells": [
  {
   "cell_type": "code",
   "execution_count": 1,
   "metadata": {},
   "outputs": [
    {
     "name": "stdout",
     "output_type": "stream",
     "text": [
      "dict_keys(['MONTH', 'SAMPLING', 'OV_LABEL', 'MUONS_RUNS', 'LIGHT_RUNS', 'ALPHA_RUNS', 'CALIB_RUNS', 'CHAN_LABEL', 'CHAN_STNRD', 'CHAN_CALIB', 'CHAN_POLAR'])\n",
      "\n",
      "Loaded Analysis_runs with keys:\n",
      "dict_keys(['NRun', 'NChannel', 2])\n"
     ]
    },
    {
     "name": "stderr",
     "output_type": "stream",
     "text": [
      "QSocketNotifier: Can only be used with threads started with QThread\n"
     ]
    }
   ],
   "source": [
    "import sys\n",
    "sys.path.insert(0, '../')\n",
    "import numpy as np\n",
    "from itertools import product\n",
    "from lib.io_functions import read_input_file,root2npy,load_npy,save_proccesed_variables\n",
    "from lib.cut_functions import *\n",
    "from lib.ana_functions import *\n",
    "# input_file = input(\"Please select input File: \")\n",
    "# info = read_input_file(input_file)\n",
    "info = read_input_file(\"TEST\")\n",
    "\n",
    "runs = []; channels = []\n",
    "runs = np.append(runs,info[\"CALIB_RUNS\"])\n",
    "# runs = np.append(runs,info[\"LIGHT_RUNS\"])\n",
    "# runs = np.append(runs,info[\"ALPHA_RUNS\"])\n",
    "\n",
    "channels = np.append(channels,info[\"CHAN_STNRD\"])\n",
    "\n",
    "my_runs = load_npy(runs.astype(int),channels.astype(int),\"Analysis_\",\"../data/ana/\",debug=True)\n",
    "# my_runs.keys()"
   ]
  },
  {
   "cell_type": "code",
   "execution_count": 2,
   "metadata": {},
   "outputs": [
    {
     "name": "stdout",
     "output_type": "stream",
     "text": [
      "3 0\n"
     ]
    },
    {
     "name": "stderr",
     "output_type": "stream",
     "text": [
      "QSocketNotifier: Can only be used with threads started with QThread\n"
     ]
    },
    {
     "ename": "ValueError",
     "evalue": "`bins[1]` must be positive, when an integer",
     "output_type": "error",
     "traceback": [
      "\u001b[0;31m---------------------------------------------------------------------------\u001b[0m",
      "\u001b[0;31mValueError\u001b[0m                                Traceback (most recent call last)",
      "Cell \u001b[0;32mIn [2], line 6\u001b[0m\n\u001b[1;32m      3\u001b[0m get_units(my_runs)\n\u001b[1;32m      4\u001b[0m generate_cut_array(my_runs)\n\u001b[0;32m----> 6\u001b[0m cut_lin_rel(my_runs, [\u001b[39m\"\u001b[39;49m\u001b[39mPeakAmp\u001b[39;49m\u001b[39m\"\u001b[39;49m, \u001b[39m\"\u001b[39;49m\u001b[39mChargeAveRange\u001b[39;49m\u001b[39m\"\u001b[39;49m])\n\u001b[1;32m      7\u001b[0m vis_two_var_hist(my_runs, [\u001b[39m\"\u001b[39m\u001b[39mPeakAmp\u001b[39m\u001b[39m\"\u001b[39m, \u001b[39m\"\u001b[39m\u001b[39mChargeAveRange\u001b[39m\u001b[39m\"\u001b[39m], OPT\u001b[39m=\u001b[39m{\u001b[39m\"\u001b[39m\u001b[39mShow\u001b[39m\u001b[39m\"\u001b[39m: \u001b[39mFalse\u001b[39;00m})\n",
      "File \u001b[0;32m~/CYTHON_TOOLS/notebooks/../lib/cut_functions.py:119\u001b[0m, in \u001b[0;36mcut_lin_rel\u001b[0;34m(my_runs, keys)\u001b[0m\n\u001b[1;32m    117\u001b[0m     \u001b[39melse\u001b[39;00m: \u001b[39mprint\u001b[39m(\u001b[39m\"\u001b[39m\u001b[39mIAAA ERROR\u001b[39m\u001b[39m\"\u001b[39m); \u001b[39mbreak\u001b[39;00m\n\u001b[1;32m    118\u001b[0m figure_features()\n\u001b[0;32m--> 119\u001b[0m fig, ax \u001b[39m=\u001b[39m vis_two_var_hist(my_runs,[keys[\u001b[39m0\u001b[39;49m],keys[\u001b[39m1\u001b[39;49m]], [\u001b[39m0.1\u001b[39;49m,\u001b[39m99.9\u001b[39;49m], OPT \u001b[39m=\u001b[39;49m {\u001b[39m\"\u001b[39;49m\u001b[39mShow\u001b[39;49m\u001b[39m\"\u001b[39;49m: \u001b[39mFalse\u001b[39;49;00m})\n\u001b[1;32m    120\u001b[0m coords \u001b[39m=\u001b[39m fig\u001b[39m.\u001b[39mginput(\u001b[39m100\u001b[39m)\n\u001b[1;32m    121\u001b[0m polygon \u001b[39m=\u001b[39m Polygon(coords)\n",
      "File \u001b[0;32m~/CYTHON_TOOLS/notebooks/../lib/vis_functions.py:334\u001b[0m, in \u001b[0;36mvis_two_var_hist\u001b[0;34m(my_run, keys, percentile, select_range, OPT)\u001b[0m\n\u001b[1;32m    332\u001b[0m \u001b[39mif\u001b[39;00m \u001b[39m\"\u001b[39m\u001b[39mTime\u001b[39m\u001b[39m\"\u001b[39m \u001b[39min\u001b[39;00m keys[\u001b[39m0\u001b[39m]:\n\u001b[1;32m    333\u001b[0m     ax\u001b[39m.\u001b[39mhist2d(x_data\u001b[39m*\u001b[39mmy_run[run][ch][\u001b[39m\"\u001b[39m\u001b[39mSampling\u001b[39m\u001b[39m\"\u001b[39m], y_data, bins\u001b[39m=\u001b[39m[\u001b[39m600\u001b[39m,\u001b[39m600\u001b[39m], \u001b[39mrange\u001b[39m \u001b[39m=\u001b[39m [[x_ymin\u001b[39m*\u001b[39mmy_run[run][ch][\u001b[39m\"\u001b[39m\u001b[39mSampling\u001b[39m\u001b[39m\"\u001b[39m],x_ymax\u001b[39m*\u001b[39mmy_run[run][ch][\u001b[39m\"\u001b[39m\u001b[39mSampling\u001b[39m\u001b[39m\"\u001b[39m]],[y_ymin, y_ymax]], density\u001b[39m=\u001b[39m\u001b[39mTrue\u001b[39;00m, cmap \u001b[39m=\u001b[39m viridis, norm\u001b[39m=\u001b[39mLogNorm())\n\u001b[0;32m--> 334\u001b[0m \u001b[39melse\u001b[39;00m: ax\u001b[39m.\u001b[39;49mhist2d(x_data, y_data, bins\u001b[39m=\u001b[39;49m[xbin_size,ybin_size], \u001b[39mrange\u001b[39;49m \u001b[39m=\u001b[39;49m [[x_ymin,x_ymax],[y_ymin, y_ymax]], density\u001b[39m=\u001b[39;49m\u001b[39mTrue\u001b[39;49;00m, cmap \u001b[39m=\u001b[39;49m viridis, norm\u001b[39m=\u001b[39;49mLogNorm())\n\u001b[1;32m    335\u001b[0m ax\u001b[39m.\u001b[39mgrid(\u001b[39m\"\u001b[39m\u001b[39mboth\u001b[39m\u001b[39m\"\u001b[39m)\n\u001b[1;32m    336\u001b[0m fig\u001b[39m.\u001b[39msupxlabel(keys[\u001b[39m0\u001b[39m]\u001b[39m+\u001b[39m\u001b[39m\"\u001b[39m\u001b[39m (\u001b[39m\u001b[39m\"\u001b[39m\u001b[39m+\u001b[39mmy_run[run][ch][\u001b[39m\"\u001b[39m\u001b[39mUnits\u001b[39m\u001b[39m\"\u001b[39m][keys[\u001b[39m0\u001b[39m]]\u001b[39m+\u001b[39m\u001b[39m\"\u001b[39m\u001b[39m)\u001b[39m\u001b[39m\"\u001b[39m); fig\u001b[39m.\u001b[39msupylabel(keys[\u001b[39m1\u001b[39m]\u001b[39m+\u001b[39m\u001b[39m\"\u001b[39m\u001b[39m (\u001b[39m\u001b[39m\"\u001b[39m\u001b[39m+\u001b[39mmy_run[run][ch][\u001b[39m\"\u001b[39m\u001b[39mUnits\u001b[39m\u001b[39m\"\u001b[39m][keys[\u001b[39m1\u001b[39m]]\u001b[39m+\u001b[39m\u001b[39m\"\u001b[39m\u001b[39m)\u001b[39m\u001b[39m\"\u001b[39m)\n",
      "File \u001b[0;32m~/.local/lib/python3.10/site-packages/matplotlib/__init__.py:1414\u001b[0m, in \u001b[0;36m_preprocess_data.<locals>.inner\u001b[0;34m(ax, data, *args, **kwargs)\u001b[0m\n\u001b[1;32m   1411\u001b[0m \u001b[39m@functools\u001b[39m\u001b[39m.\u001b[39mwraps(func)\n\u001b[1;32m   1412\u001b[0m \u001b[39mdef\u001b[39;00m \u001b[39minner\u001b[39m(ax, \u001b[39m*\u001b[39margs, data\u001b[39m=\u001b[39m\u001b[39mNone\u001b[39;00m, \u001b[39m*\u001b[39m\u001b[39m*\u001b[39mkwargs):\n\u001b[1;32m   1413\u001b[0m     \u001b[39mif\u001b[39;00m data \u001b[39mis\u001b[39;00m \u001b[39mNone\u001b[39;00m:\n\u001b[0;32m-> 1414\u001b[0m         \u001b[39mreturn\u001b[39;00m func(ax, \u001b[39m*\u001b[39;49m\u001b[39mmap\u001b[39;49m(sanitize_sequence, args), \u001b[39m*\u001b[39;49m\u001b[39m*\u001b[39;49mkwargs)\n\u001b[1;32m   1416\u001b[0m     bound \u001b[39m=\u001b[39m new_sig\u001b[39m.\u001b[39mbind(ax, \u001b[39m*\u001b[39margs, \u001b[39m*\u001b[39m\u001b[39m*\u001b[39mkwargs)\n\u001b[1;32m   1417\u001b[0m     auto_label \u001b[39m=\u001b[39m (bound\u001b[39m.\u001b[39marguments\u001b[39m.\u001b[39mget(label_namer)\n\u001b[1;32m   1418\u001b[0m                   \u001b[39mor\u001b[39;00m bound\u001b[39m.\u001b[39mkwargs\u001b[39m.\u001b[39mget(label_namer))\n",
      "File \u001b[0;32m~/.local/lib/python3.10/site-packages/matplotlib/axes/_axes.py:6982\u001b[0m, in \u001b[0;36mAxes.hist2d\u001b[0;34m(self, x, y, bins, range, density, weights, cmin, cmax, **kwargs)\u001b[0m\n\u001b[1;32m   6884\u001b[0m \u001b[39m@_preprocess_data\u001b[39m(replace_names\u001b[39m=\u001b[39m[\u001b[39m\"\u001b[39m\u001b[39mx\u001b[39m\u001b[39m\"\u001b[39m, \u001b[39m\"\u001b[39m\u001b[39my\u001b[39m\u001b[39m\"\u001b[39m, \u001b[39m\"\u001b[39m\u001b[39mweights\u001b[39m\u001b[39m\"\u001b[39m])\n\u001b[1;32m   6885\u001b[0m \u001b[39m@docstring\u001b[39m\u001b[39m.\u001b[39mdedent_interpd\n\u001b[1;32m   6886\u001b[0m \u001b[39mdef\u001b[39;00m \u001b[39mhist2d\u001b[39m(\u001b[39mself\u001b[39m, x, y, bins\u001b[39m=\u001b[39m\u001b[39m10\u001b[39m, \u001b[39mrange\u001b[39m\u001b[39m=\u001b[39m\u001b[39mNone\u001b[39;00m, density\u001b[39m=\u001b[39m\u001b[39mFalse\u001b[39;00m, weights\u001b[39m=\u001b[39m\u001b[39mNone\u001b[39;00m,\n\u001b[1;32m   6887\u001b[0m            cmin\u001b[39m=\u001b[39m\u001b[39mNone\u001b[39;00m, cmax\u001b[39m=\u001b[39m\u001b[39mNone\u001b[39;00m, \u001b[39m*\u001b[39m\u001b[39m*\u001b[39mkwargs):\n\u001b[1;32m   6888\u001b[0m     \u001b[39m\"\"\"\u001b[39;00m\n\u001b[1;32m   6889\u001b[0m \u001b[39m    Make a 2D histogram plot.\u001b[39;00m\n\u001b[1;32m   6890\u001b[0m \n\u001b[0;32m   (...)\u001b[0m\n\u001b[1;32m   6979\u001b[0m \u001b[39m      `.colors.PowerNorm`.\u001b[39;00m\n\u001b[1;32m   6980\u001b[0m \u001b[39m    \"\"\"\u001b[39;00m\n\u001b[0;32m-> 6982\u001b[0m     h, xedges, yedges \u001b[39m=\u001b[39m np\u001b[39m.\u001b[39;49mhistogram2d(x, y, bins\u001b[39m=\u001b[39;49mbins, \u001b[39mrange\u001b[39;49m\u001b[39m=\u001b[39;49m\u001b[39mrange\u001b[39;49m,\n\u001b[1;32m   6983\u001b[0m                                        density\u001b[39m=\u001b[39;49mdensity, weights\u001b[39m=\u001b[39;49mweights)\n\u001b[1;32m   6985\u001b[0m     \u001b[39mif\u001b[39;00m cmin \u001b[39mis\u001b[39;00m \u001b[39mnot\u001b[39;00m \u001b[39mNone\u001b[39;00m:\n\u001b[1;32m   6986\u001b[0m         h[h \u001b[39m<\u001b[39m cmin] \u001b[39m=\u001b[39m \u001b[39mNone\u001b[39;00m\n",
      "File \u001b[0;32m<__array_function__ internals>:180\u001b[0m, in \u001b[0;36mhistogram2d\u001b[0;34m(*args, **kwargs)\u001b[0m\n",
      "File \u001b[0;32m~/.local/lib/python3.10/site-packages/numpy/lib/twodim_base.py:825\u001b[0m, in \u001b[0;36mhistogram2d\u001b[0;34m(x, y, bins, range, normed, weights, density)\u001b[0m\n\u001b[1;32m    823\u001b[0m     xedges \u001b[39m=\u001b[39m yedges \u001b[39m=\u001b[39m asarray(bins)\n\u001b[1;32m    824\u001b[0m     bins \u001b[39m=\u001b[39m [xedges, yedges]\n\u001b[0;32m--> 825\u001b[0m hist, edges \u001b[39m=\u001b[39m histogramdd([x, y], bins, \u001b[39mrange\u001b[39;49m, normed, weights, density)\n\u001b[1;32m    826\u001b[0m \u001b[39mreturn\u001b[39;00m hist, edges[\u001b[39m0\u001b[39m], edges[\u001b[39m1\u001b[39m]\n",
      "File \u001b[0;32m<__array_function__ internals>:180\u001b[0m, in \u001b[0;36mhistogramdd\u001b[0;34m(*args, **kwargs)\u001b[0m\n",
      "File \u001b[0;32m~/.local/lib/python3.10/site-packages/numpy/lib/histograms.py:1048\u001b[0m, in \u001b[0;36mhistogramdd\u001b[0;34m(sample, bins, range, normed, weights, density)\u001b[0m\n\u001b[1;32m   1046\u001b[0m \u001b[39mif\u001b[39;00m np\u001b[39m.\u001b[39mndim(bins[i]) \u001b[39m==\u001b[39m \u001b[39m0\u001b[39m:\n\u001b[1;32m   1047\u001b[0m     \u001b[39mif\u001b[39;00m bins[i] \u001b[39m<\u001b[39m \u001b[39m1\u001b[39m:\n\u001b[0;32m-> 1048\u001b[0m         \u001b[39mraise\u001b[39;00m \u001b[39mValueError\u001b[39;00m(\n\u001b[1;32m   1049\u001b[0m             \u001b[39m'\u001b[39m\u001b[39m`bins[\u001b[39m\u001b[39m{}\u001b[39;00m\u001b[39m]` must be positive, when an integer\u001b[39m\u001b[39m'\u001b[39m\u001b[39m.\u001b[39mformat(i))\n\u001b[1;32m   1050\u001b[0m     smin, smax \u001b[39m=\u001b[39m _get_outer_edges(sample[:,i], \u001b[39mrange\u001b[39m[i])\n\u001b[1;32m   1051\u001b[0m     \u001b[39mtry\u001b[39;00m:\n",
      "\u001b[0;31mValueError\u001b[0m: `bins[1]` must be positive, when an integer"
     ]
    }
   ],
   "source": [
    "# %matplotlib ipympl\n",
    "%matplotlib qt\n",
    "get_units(my_runs)\n",
    "generate_cut_array(my_runs)\n",
    "\n",
    "cut_lin_rel(my_runs, [\"PeakAmp\", \"ChargeAveRange\"])\n",
    "vis_two_var_hist(my_runs, [\"PeakAmp\", \"ChargeAveRange\"], OPT={\"Show\": False})"
   ]
  },
  {
   "cell_type": "code",
   "execution_count": 9,
   "metadata": {},
   "outputs": [
    {
     "name": "stderr",
     "output_type": "stream",
     "text": [
      "/home/andres/.local/lib/python3.10/site-packages/scipy/stats/_entropy.py:77: RuntimeWarning: invalid value encountered in divide\n",
      "  pk = 1.0*pk / np.sum(pk, axis=axis, keepdims=True)\n"
     ]
    },
    {
     "ename": "ValueError",
     "evalue": "setting an array element with a sequence.",
     "output_type": "error",
     "traceback": [
      "\u001b[0;31m---------------------------------------------------------------------------\u001b[0m",
      "\u001b[0;31mTypeError\u001b[0m                                 Traceback (most recent call last)",
      "\u001b[0;31mTypeError\u001b[0m: only size-1 arrays can be converted to Python scalars",
      "\nThe above exception was the direct cause of the following exception:\n",
      "\u001b[0;31mValueError\u001b[0m                                Traceback (most recent call last)",
      "Cell \u001b[0;32mIn [9], line 19\u001b[0m\n\u001b[1;32m     16\u001b[0m     entropies\u001b[39m.\u001b[39mappend(entropy(hist))\n\u001b[1;32m     18\u001b[0m \u001b[39m# Gráfica el número de bins contra la entropía\u001b[39;00m\n\u001b[0;32m---> 19\u001b[0m plt\u001b[39m.\u001b[39;49mplot(\u001b[39mrange\u001b[39;49m(\u001b[39m1\u001b[39;49m, \u001b[39m20\u001b[39;49m), entropies)\n\u001b[1;32m     20\u001b[0m plt\u001b[39m.\u001b[39mxlabel(\u001b[39m'\u001b[39m\u001b[39mNúmero de bins\u001b[39m\u001b[39m'\u001b[39m)\n\u001b[1;32m     21\u001b[0m plt\u001b[39m.\u001b[39mylabel(\u001b[39m'\u001b[39m\u001b[39mEntropía\u001b[39m\u001b[39m'\u001b[39m)\n",
      "File \u001b[0;32m~/.local/lib/python3.10/site-packages/matplotlib/pyplot.py:2767\u001b[0m, in \u001b[0;36mplot\u001b[0;34m(scalex, scaley, data, *args, **kwargs)\u001b[0m\n\u001b[1;32m   2765\u001b[0m \u001b[39m@_copy_docstring_and_deprecators\u001b[39m(Axes\u001b[39m.\u001b[39mplot)\n\u001b[1;32m   2766\u001b[0m \u001b[39mdef\u001b[39;00m \u001b[39mplot\u001b[39m(\u001b[39m*\u001b[39margs, scalex\u001b[39m=\u001b[39m\u001b[39mTrue\u001b[39;00m, scaley\u001b[39m=\u001b[39m\u001b[39mTrue\u001b[39;00m, data\u001b[39m=\u001b[39m\u001b[39mNone\u001b[39;00m, \u001b[39m*\u001b[39m\u001b[39m*\u001b[39mkwargs):\n\u001b[0;32m-> 2767\u001b[0m     \u001b[39mreturn\u001b[39;00m gca()\u001b[39m.\u001b[39;49mplot(\n\u001b[1;32m   2768\u001b[0m         \u001b[39m*\u001b[39;49margs, scalex\u001b[39m=\u001b[39;49mscalex, scaley\u001b[39m=\u001b[39;49mscaley,\n\u001b[1;32m   2769\u001b[0m         \u001b[39m*\u001b[39;49m\u001b[39m*\u001b[39;49m({\u001b[39m\"\u001b[39;49m\u001b[39mdata\u001b[39;49m\u001b[39m\"\u001b[39;49m: data} \u001b[39mif\u001b[39;49;00m data \u001b[39mis\u001b[39;49;00m \u001b[39mnot\u001b[39;49;00m \u001b[39mNone\u001b[39;49;00m \u001b[39melse\u001b[39;49;00m {}), \u001b[39m*\u001b[39;49m\u001b[39m*\u001b[39;49mkwargs)\n",
      "File \u001b[0;32m~/.local/lib/python3.10/site-packages/matplotlib/axes/_axes.py:1637\u001b[0m, in \u001b[0;36mAxes.plot\u001b[0;34m(self, scalex, scaley, data, *args, **kwargs)\u001b[0m\n\u001b[1;32m   1635\u001b[0m lines \u001b[39m=\u001b[39m [\u001b[39m*\u001b[39m\u001b[39mself\u001b[39m\u001b[39m.\u001b[39m_get_lines(\u001b[39m*\u001b[39margs, data\u001b[39m=\u001b[39mdata, \u001b[39m*\u001b[39m\u001b[39m*\u001b[39mkwargs)]\n\u001b[1;32m   1636\u001b[0m \u001b[39mfor\u001b[39;00m line \u001b[39min\u001b[39;00m lines:\n\u001b[0;32m-> 1637\u001b[0m     \u001b[39mself\u001b[39;49m\u001b[39m.\u001b[39;49madd_line(line)\n\u001b[1;32m   1638\u001b[0m \u001b[39mself\u001b[39m\u001b[39m.\u001b[39m_request_autoscale_view(scalex\u001b[39m=\u001b[39mscalex, scaley\u001b[39m=\u001b[39mscaley)\n\u001b[1;32m   1639\u001b[0m \u001b[39mreturn\u001b[39;00m lines\n",
      "File \u001b[0;32m~/.local/lib/python3.10/site-packages/matplotlib/axes/_base.py:2288\u001b[0m, in \u001b[0;36m_AxesBase.add_line\u001b[0;34m(self, line)\u001b[0m\n\u001b[1;32m   2285\u001b[0m \u001b[39mif\u001b[39;00m line\u001b[39m.\u001b[39mget_clip_path() \u001b[39mis\u001b[39;00m \u001b[39mNone\u001b[39;00m:\n\u001b[1;32m   2286\u001b[0m     line\u001b[39m.\u001b[39mset_clip_path(\u001b[39mself\u001b[39m\u001b[39m.\u001b[39mpatch)\n\u001b[0;32m-> 2288\u001b[0m \u001b[39mself\u001b[39;49m\u001b[39m.\u001b[39;49m_update_line_limits(line)\n\u001b[1;32m   2289\u001b[0m \u001b[39mif\u001b[39;00m \u001b[39mnot\u001b[39;00m line\u001b[39m.\u001b[39mget_label():\n\u001b[1;32m   2290\u001b[0m     line\u001b[39m.\u001b[39mset_label(\u001b[39mf\u001b[39m\u001b[39m'\u001b[39m\u001b[39m_child\u001b[39m\u001b[39m{\u001b[39;00m\u001b[39mlen\u001b[39m(\u001b[39mself\u001b[39m\u001b[39m.\u001b[39m_children)\u001b[39m}\u001b[39;00m\u001b[39m'\u001b[39m)\n",
      "File \u001b[0;32m~/.local/lib/python3.10/site-packages/matplotlib/axes/_base.py:2311\u001b[0m, in \u001b[0;36m_AxesBase._update_line_limits\u001b[0;34m(self, line)\u001b[0m\n\u001b[1;32m   2307\u001b[0m \u001b[39mdef\u001b[39;00m \u001b[39m_update_line_limits\u001b[39m(\u001b[39mself\u001b[39m, line):\n\u001b[1;32m   2308\u001b[0m     \u001b[39m\"\"\"\u001b[39;00m\n\u001b[1;32m   2309\u001b[0m \u001b[39m    Figures out the data limit of the given line, updating self.dataLim.\u001b[39;00m\n\u001b[1;32m   2310\u001b[0m \u001b[39m    \"\"\"\u001b[39;00m\n\u001b[0;32m-> 2311\u001b[0m     path \u001b[39m=\u001b[39m line\u001b[39m.\u001b[39;49mget_path()\n\u001b[1;32m   2312\u001b[0m     \u001b[39mif\u001b[39;00m path\u001b[39m.\u001b[39mvertices\u001b[39m.\u001b[39msize \u001b[39m==\u001b[39m \u001b[39m0\u001b[39m:\n\u001b[1;32m   2313\u001b[0m         \u001b[39mreturn\u001b[39;00m\n",
      "File \u001b[0;32m~/.local/lib/python3.10/site-packages/matplotlib/lines.py:999\u001b[0m, in \u001b[0;36mLine2D.get_path\u001b[0;34m(self)\u001b[0m\n\u001b[1;32m    997\u001b[0m \u001b[39m\"\"\"Return the `~matplotlib.path.Path` associated with this line.\"\"\"\u001b[39;00m\n\u001b[1;32m    998\u001b[0m \u001b[39mif\u001b[39;00m \u001b[39mself\u001b[39m\u001b[39m.\u001b[39m_invalidy \u001b[39mor\u001b[39;00m \u001b[39mself\u001b[39m\u001b[39m.\u001b[39m_invalidx:\n\u001b[0;32m--> 999\u001b[0m     \u001b[39mself\u001b[39;49m\u001b[39m.\u001b[39;49mrecache()\n\u001b[1;32m   1000\u001b[0m \u001b[39mreturn\u001b[39;00m \u001b[39mself\u001b[39m\u001b[39m.\u001b[39m_path\n",
      "File \u001b[0;32m~/.local/lib/python3.10/site-packages/matplotlib/lines.py:657\u001b[0m, in \u001b[0;36mLine2D.recache\u001b[0;34m(self, always)\u001b[0m\n\u001b[1;32m    655\u001b[0m \u001b[39mif\u001b[39;00m always \u001b[39mor\u001b[39;00m \u001b[39mself\u001b[39m\u001b[39m.\u001b[39m_invalidy:\n\u001b[1;32m    656\u001b[0m     yconv \u001b[39m=\u001b[39m \u001b[39mself\u001b[39m\u001b[39m.\u001b[39mconvert_yunits(\u001b[39mself\u001b[39m\u001b[39m.\u001b[39m_yorig)\n\u001b[0;32m--> 657\u001b[0m     y \u001b[39m=\u001b[39m _to_unmasked_float_array(yconv)\u001b[39m.\u001b[39mravel()\n\u001b[1;32m    658\u001b[0m \u001b[39melse\u001b[39;00m:\n\u001b[1;32m    659\u001b[0m     y \u001b[39m=\u001b[39m \u001b[39mself\u001b[39m\u001b[39m.\u001b[39m_y\n",
      "File \u001b[0;32m~/.local/lib/python3.10/site-packages/matplotlib/cbook/__init__.py:1298\u001b[0m, in \u001b[0;36m_to_unmasked_float_array\u001b[0;34m(x)\u001b[0m\n\u001b[1;32m   1296\u001b[0m     \u001b[39mreturn\u001b[39;00m np\u001b[39m.\u001b[39mma\u001b[39m.\u001b[39masarray(x, \u001b[39mfloat\u001b[39m)\u001b[39m.\u001b[39mfilled(np\u001b[39m.\u001b[39mnan)\n\u001b[1;32m   1297\u001b[0m \u001b[39melse\u001b[39;00m:\n\u001b[0;32m-> 1298\u001b[0m     \u001b[39mreturn\u001b[39;00m np\u001b[39m.\u001b[39;49masarray(x, \u001b[39mfloat\u001b[39;49m)\n",
      "\u001b[0;31mValueError\u001b[0m: setting an array element with a sequence."
     ]
    },
    {
     "data": {
      "image/png": "[encoded data removed]",
      "text/plain": [
       "<Figure size 640x480 with 1 Axes>"
      ]
     },
     "metadata": {},
     "output_type": "display_data"
    }
   ],
   "source": [
    "import numpy as np\n",
    "import matplotlib.pyplot as plt\n",
    "from scipy.stats import entropy\n",
    "\n",
    "# Genera datos aleatorios\n",
    "data = np.random.multivariate_normal([0, 0], [[1, 0], [0, 1]], 1000)\n",
    "\n",
    "# Crea una lista para almacenar las entropías para cada número de bins\n",
    "entropies = []\n",
    "\n",
    "# Prueba diferentes números de bins\n",
    "for i in range(1, 20):\n",
    "    # Crea el histograma 2D con el número de bins actual\n",
    "    hist, x_edges, y_edges = np.histogram2d(data[:, 0], data[:, 1], bins=[i,i])\n",
    "    # Calcula la entropía del histograma\n",
    "    entropies.append(entropy(hist))\n",
    "entropies = np.array(entropies).flatten()\n",
    "# Gráfica el número de bins contra la entropía\n",
    "plt.plot(range(1, 20), entropies)\n",
    "plt.xlabel('Número de bins')\n",
    "plt.ylabel('Entropía')\n",
    "plt.show()\n",
    "\n"
   ]
  },
  {
   "cell_type": "code",
   "execution_count": 10,
   "metadata": {},
   "outputs": [
    {
     "name": "stdout",
     "output_type": "stream",
     "text": [
      "19\n"
     ]
    }
   ],
   "source": [
    "print(len(range(1,20)))"
   ]
  }
 ],
 "metadata": {
  "kernelspec": {
   "display_name": "Python 3",
   "language": "python",
   "name": "python3"
  },
  "language_info": {
   "codemirror_mode": {
    "name": "ipython",
    "version": 3
   },
   "file_extension": ".py",
   "mimetype": "text/x-python",
   "name": "python",
   "nbconvert_exporter": "python",
   "pygments_lexer": "ipython3",
   "version": "3.10.6"
  },
  "orig_nbformat": 4,
  "vscode": {
   "interpreter": {
    "hash": "916dbcbb3f70747c44a77c7bcd40155683ae19c65e1c03b4aa3499c5328201f1"
   }
  }
 },
 "nbformat": 4,
 "nbformat_minor": 2
}
