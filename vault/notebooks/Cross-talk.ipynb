{
 "cells": [
  {
   "cell_type": "markdown",
   "metadata": {},
   "source": [
    "------------------------------------------------------------------------------------------------------------------------------------------------------\n",
    "\n",
    "## CROSSTALK NOTEBOOK\n",
    "\n",
    "------------------------------------------------------------------------------------------------------------------------------------------------------"
   ]
  },
  {
   "cell_type": "code",
   "execution_count": null,
   "metadata": {},
   "outputs": [],
   "source": [
    "import sys; sys.path.insert(0, '../'); from lib import *;"
   ]
  },
  {
   "cell_type": "code",
   "execution_count": null,
   "metadata": {},
   "outputs": [],
   "source": [
    "# Set options for general visualitation\n",
    "OPT  = {\n",
    "    \"MICRO_SEC\":   True,                # Time in microseconds (True/False)\n",
    "    \"NORM\":        False,               # Runs can be displayed normalised (True/False)\n",
    "    \"ALIGN\":       True,                # Aligns waveforms in peaktime (True/False)\n",
    "    \"LOGY\":        False,               # Runs can be displayed in logy (True/False)\n",
    "    \"SHOW_AVE\":    \"\",                  # If computed, vis will show average (AveWvf,AveWvfSPE,etc.)\n",
    "    \"SHOW_PARAM\":  False,               # Print terminal information (True/False)\n",
    "    \"CHARGE_KEY\":  \"ChargeAveRange\",    # Select charge info to be displayed. Default: \"ChargeAveRange\" (if computed)\n",
    "    \"PEAK_FINDER\": False,               # Finds possible peaks in the window (True/False)\n",
    "    \"LEGEND\":      True,                # Shows plot legend (True/False)\n",
    "    \"STYLE\":       \"CIEMAT_style\",      # Plot style. Default: \"CIEMAT_style\"\n",
    "    \"SHOW\":        True\n",
    "    }\n",
    "\n",
    "style_selector(OPT)"
   ]
  },
  {
   "cell_type": "markdown",
   "metadata": {},
   "source": [
    "The following cell can be used to load the configuration file.\n",
    "Check that everything is OK and choose your runs!"
   ]
  },
  {
   "cell_type": "code",
   "execution_count": null,
   "metadata": {},
   "outputs": [],
   "source": [
    "info = read_input_file(\"TUTORIAL\")     # Read input file\n",
    "for key in info: print(key,info[key])  # Print loaded info\n",
    "for key in info: print(key,info[key])  # Print loaded info"
   ]
  },
  {
   "cell_type": "code",
   "execution_count": null,
   "metadata": {},
   "outputs": [],
   "source": [
    "chs  = [0,6]\n",
    "runs = [1] \n",
    "my_runs = load_npy(np.asarray(runs).astype(int),np.asarray(chs).astype(int),preset=\"EVA\",info=info,compressed=True) # LOAD YOUR RUNS"
   ]
  },
  {
   "cell_type": "markdown",
   "metadata": {},
   "source": [
    "# Vinogradov model (Poisson+Binomial distribution)"
   ]
  },
  {
   "cell_type": "code",
   "execution_count": null,
   "metadata": {},
   "outputs": [],
   "source": [
    "def fit_gaussians(x, y, *p0):\n",
    "    assert x.shape == y.shape, \"Input arrays must have the same shape.\"\n",
    "    popt, pcov = curve_fit(gaussian_train, x,y, p0=p0[0])\n",
    "    fit_y=gaussian_train(x,*popt)\n",
    "    chi_squared = np.sum((y[abs(fit_y)>0.1] - fit_y[abs(fit_y)>0.1]) ** 2 / fit_y[abs(fit_y)>0.1]) / (y.size - len(popt))\n",
    "    return popt,fit_y, chi_squared\n"
   ]
  },
  {
   "cell_type": "code",
   "execution_count": null,
   "metadata": {},
   "outputs": [],
   "source": [
    "# file_CT=[];\n",
    "debug = True\n",
    "factor2PE = 1/3.48e2 # GAIN IN ADC*ticks TO CONVER CHARGE INTO PE\n",
    "my_bins   = 350\n",
    "my_range  = [-1,10]\n",
    "ch  = 0\n",
    "run = 1\n",
    "\n",
    "#get counts\n",
    "counts,bins= np.histogram(my_runs[run][ch][\"AnaChargePedRange1\"]*factor2PE,my_bins,my_range);#need to convert to PE\n",
    "\n",
    "#find peaks\n",
    "peaks = find_peaks(counts,height=150,width=4,distance=int(my_bins/((my_range[1]-my_range[0])*1.2))  )\n",
    "print(\"FOUNDED PEAKS:\", peaks)\n",
    "\n",
    "# right limit:(supossing same space between peaks, prevents adding more gaussians that the ones considered to be fitted)\n",
    "r_lim = peaks[0][-1]+ int (((peaks[0][-1]-peaks[0][-2]))/2)\n",
    "l_lim = peaks[0][ 0]- int (((peaks[0][ 1]-peaks[0][ 0]))/2)\n",
    "\n",
    "params       = np.zeros(len(peaks[0])*3)\n",
    "params[0::3] = peaks[1][\"peak_heights\"]\n",
    "params[1::3] = bins[peaks[0]]\n",
    "params[2::3] = 0.5\n",
    "my_vars,fit_y,qs = fit_gaussians(bins[:-1][l_lim:r_lim],counts[l_lim:r_lim],params)\n",
    "\n",
    "# 1st Plot: gaussian fits\n",
    "plt.figure(figsize=(5,3)) #dpi=200\n",
    "plt.hist(my_runs[run][ch][\"AnaChargePedRange1\"]*factor2PE,bins=my_bins,range=my_range,histtype=\"step\",label=\"Data\",linewidth=1.5)\n",
    "plt.xlim([-1,7]) \n",
    "plt.plot(bins[peaks[0]],peaks[1][\"peak_heights\"],\"x\",label=\"Peaks\")\n",
    "plt.plot(bins[:-1][l_lim:r_lim] +(bins[1]-bins[0])/2  ,fit_y,'--',color=\"red\",label=\"Best fit\")        \n",
    "plt.legend(fontsize=10)\n",
    "plt.xlabel(my_runs[run][ch][\"Label\"] +\" Charge [PEs]\")\n",
    "plt.ylabel(\"Counts\")\n",
    "plt.grid()\n",
    "\n",
    "Amp=my_vars[0::3]; sigma=np.abs(my_vars[2::3]) #Compute Gaussian areas\n",
    "PNs=Amp*sigma/sum(Amp*sigma) #prob is proportional to A*sigma (sqrt(2pi))\n",
    "\n",
    "PNs_err=(Amp*sigma)**0.5/sum(Amp*sigma) #assuming error propt to sqrt(N)\n",
    "if debug:\n",
    "    print(\"Amplitude:\" ,Amp)\n",
    "    print(\"Sigma: \",sigma)\n",
    "    print(\"PNs: \", PNs)\n",
    "    print(\"PNs_error: \",PNs_err)\n",
    "\n",
    "P0 = PNs[0]\n",
    "P1 = PNs[1]\n",
    "l  = -np.log(P0)\n",
    "p  = 1-P1/(l*P0)\n",
    "print(\"Initial vars:\",p,\"\\t\",l)\n",
    "\n",
    "# 2nd plot, Vinogradov fit\n",
    "fig, ax = plt.subplots(1,figsize=(5,3)) #dpi=200,\n",
    "plt.xlim([-.5,5.5]) \n",
    "# Get the peaks that were fitted\n",
    "a     = np.arange(my_bins)*(my_range[1]-my_range[0])/my_bins\n",
    "b     = a[peaks[0]]-1\n",
    "xdata = b.round().astype(int).tolist()\n",
    "if debug: print(b,xdata)\n",
    "\n",
    "\n",
    "plt.errorbar(x=xdata,y=PNs,yerr=PNs_err, color=\"k\",linestyle=\"none\",marker=\"s\",markersize=2,capsize=2,)\n",
    "plt.bar(np.array(xdata),PNs,label=\"Data\",width=0.4)\n",
    "\n",
    "p0 = [p,l]\n",
    "popt, pcov = curve_fit(PoissonPlusBinomial, xdata,PNs,sigma=PNs_err, p0=p0)\n",
    "plt.plot(xdata, PoissonPlusBinomial(xdata, *popt), 'x',label=\"Fit: CT=\" +str(int(popt[0]*100)) +\"%\",color=\"red\")\n",
    "\n",
    "plt.ylabel(\"Counts [Density]\")\n",
    "plt.xlabel(\"N. of photoelectrons\")\n",
    "plt.legend(fontsize=10)\n",
    "# Display also the ideal poisson dist\n",
    "ideal=poisson.pmf(xdata, mu=popt[1])\n",
    "plt.bar(np.array(xdata)+.3,ideal,width=.3)\n",
    "\n",
    "print(\"Fitted vars: \",popt)\n",
    "perr = np.sqrt(np.diag(pcov))\n",
    "print(\"Rel Error: \", perr/popt*100)\n",
    "\n",
    "#save values to file\n",
    "# file_CT.append([OV,popt[0],perr[0]])\n",
    "# arr = np.asarray(file_CT)\n",
    "# np.savetxt('CT_'+WEEK+\"_CH_\"+Calib_run[\"ChannelName\"][Chan_dic[ch]]+ '_.csv',arr, delimiter=\",\")  "
   ]
  },
  {
   "cell_type": "markdown",
   "metadata": {},
   "source": [
    "## Demostration plot: poisson vs poisson+binomial"
   ]
  },
  {
   "cell_type": "code",
   "execution_count": null,
   "metadata": {},
   "outputs": [],
   "source": [
    "L=5\n",
    "x=poisson.pmf(range(20), mu=L)\n",
    "\n",
    "# plt.figure(dpi=200)\n",
    "plt.plot(x,label=\"Pure Poisson dist\")\n",
    "for ct in np.arange(0.05,.4,0.1):\n",
    "    # x=[F(i,ct,L) for i in range(20)]\n",
    "    x=PoissonPlusBinomial(range(20), ct, L)\n",
    "    plt.plot(x,'o-',label=\"Poisson +  Binomial p*100=\"+str(int(ct*100)) )\n",
    "\n",
    "plt.legend()\n",
    "plt.show()"
   ]
  }
 ],
 "metadata": {
  "kernelspec": {
   "display_name": "Python 3",
   "language": "python",
   "name": "python3"
  },
  "language_info": {
   "codemirror_mode": {
    "name": "ipython",
    "version": 3
   },
   "file_extension": ".py",
   "mimetype": "text/x-python",
   "name": "python",
   "nbconvert_exporter": "python",
   "pygments_lexer": "ipython3",
   "version": "3.8.10"
  }
 },
 "nbformat": 4,
 "nbformat_minor": 2
}
