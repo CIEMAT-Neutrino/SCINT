{
 "cells": [
  {
   "cell_type": "markdown",
   "metadata": {},
   "source": [
    "------------------------------------------------------------------------------------------------------------------------------------------------------\n",
    "\n",
    "## 1D HISTOGRAMS NOTEBOOK\n",
    "\n",
    "Make sure you have the data accesible (either mounted or running with the correct path in the input file)\n",
    "\n",
    "------------------------------------------------------------------------------------------------------------------------------------------------------"
   ]
  },
  {
   "cell_type": "code",
   "execution_count": null,
   "metadata": {},
   "outputs": [],
   "source": [
    "import sys; sys.path.insert(0, '../'); from lib import *;"
   ]
  },
  {
   "cell_type": "code",
   "execution_count": null,
   "metadata": {},
   "outputs": [],
   "source": [
    "# Set options for general visualitation\n",
    "OPT  = {\n",
    "    \"MICRO_SEC\":   True,                # Time in microseconds (True/False)\n",
    "    \"NORM\":        False,               # Runs can be displayed normalised (True/False)\n",
    "    \"ALIGN\":       True,                # Aligns waveforms in peaktime (True/False)\n",
    "    \"LOGY\":        False,               # Runs can be displayed in logy (True/False)\n",
    "    \"SHOW_AVE\":    \"\",                  # If computed, vis will show average (AveWvf,AveWvfSPE,etc.)\n",
    "    \"SHOW_PARAM\":  False,               # Print terminal information (True/False)\n",
    "    \"CHARGE_KEY\":  \"ChargeAveRange\",    # Select charge info to be displayed. Default: \"ChargeAveRange\" (if computed)\n",
    "    \"PEAK_FINDER\": False,               # Finds possible peaks in the window (True/False)\n",
    "    \"LEGEND\":      True,                # Shows plot legend (True/False)\n",
    "    \"STYLE\":       \"CIEMAT_style\",      # Plot style. Default: \"CIEMAT_style\"\n",
    "    \"SHOW\":        True\n",
    "    }\n",
    "\n",
    "style_selector(OPT)"
   ]
  },
  {
   "cell_type": "markdown",
   "metadata": {},
   "source": [
    "The following cell can be used to load the configuration file.\n",
    "Check that everything is OK and choose your runs!"
   ]
  },
  {
   "cell_type": "code",
   "execution_count": null,
   "metadata": {},
   "outputs": [],
   "source": [
    "info = read_input_file(\"TUTORIAL\")      # Read input file\n",
    "for key in info: print(key,info[key])  # Print loaded info\n",
    "for key in info: print(key,info[key])  # Print loaded info"
   ]
  },
  {
   "cell_type": "code",
   "execution_count": null,
   "metadata": {},
   "outputs": [],
   "source": [
    "chs  = [0,6]\n",
    "runs = [1] \n",
    "my_runs = load_npy(np.asarray(runs).astype(int),np.asarray(chs).astype(int),preset=\"EVA\",info=info,compressed=True) # LOAD YOUR RUNS"
   ]
  },
  {
   "cell_type": "markdown",
   "metadata": {},
   "source": [
    "Once loaded you can see the loaded variables you have available to plot"
   ]
  },
  {
   "cell_type": "code",
   "execution_count": null,
   "metadata": {},
   "outputs": [],
   "source": [
    "if check_key(my_runs[runs[0]][chs[0]], \"UnitsDict\") == False: get_units(my_runs)\n",
    "for key in my_runs[runs[0]][chs[0]]: print(key)"
   ]
  },
  {
   "cell_type": "markdown",
   "metadata": {},
   "source": [
    "### BASIC MODE\n",
    "\n",
    "Plot a histogram with the loaded channels for each run. You can change the binning and the limits of the axis to adjust the plot."
   ]
  },
  {
   "cell_type": "code",
   "execution_count": null,
   "metadata": {},
   "outputs": [],
   "source": [
    "variable2plot = \"AnaPeakTime\"\n",
    "for run,ch in product(runs,chs): \n",
    "    plt.hist(x=my_runs[run][ch][variable2plot],bins=100, label = \"{}\".format(my_runs[run][ch][\"Label\"]).replace(\"#\",\" \") + \" (Ch {})\".format(ch))\n",
    "\n",
    "plt.xlim([300,1500])\n",
    "plt.title(\"Run {} \".format(run) + \"- {} histogram\".format(variable2plot),size = 14)\n",
    "plt.xlabel(variable2plot + \" [\"+my_runs[1][0][\"UnitsDict\"][variable2plot]+\"]\")\n",
    "plt.ylabel(\"Counts\")\n",
    "plt.legend()\n",
    "plt.show()"
   ]
  },
  {
   "cell_type": "markdown",
   "metadata": {},
   "source": [
    "### ADVANCED MODE\n",
    "\n",
    "Plot a  DYNAMICAL histogram in a similar way as before but with plotly library. You can zoom in/out of the plot and save it as png when you are done"
   ]
  },
  {
   "cell_type": "code",
   "execution_count": null,
   "metadata": {},
   "outputs": [],
   "source": [
    "variable2plot = \"AnaPeakTime\"\n",
    "fig = go.Figure()\n",
    "for r,run in enumerate(runs):\n",
    "    for c,ch in enumerate(chs):\n",
    "        fig.add_trace(go.Histogram(x=my_runs[run][ch][variable2plot], nbinsx=1000))\n",
    "fig.update_layout(title=\"Run {} \".format(run) + \"- {} histogram\".format(variable2plot), \n",
    "                  xaxis_title=variable2plot + \" [\"+my_runs[1][0][\"UnitsDict\"][variable2plot]+\"]\", \n",
    "                  yaxis_title=\"Counts\",\n",
    "                  bargap=0,barmode=\"overlay\").show()"
   ]
  },
  {
   "cell_type": "markdown",
   "metadata": {},
   "source": [
    "### PREMIUM MODE\n",
    "\n",
    "Use our functions improve the histograms."
   ]
  },
  {
   "cell_type": "code",
   "execution_count": null,
   "metadata": {},
   "outputs": [],
   "source": [
    "variable2plot = \"AnaPeakTime\"\n",
    "dict2plot = {}\n",
    "for run in runs:\n",
    "    for c,ch in enumerate(chs):\n",
    "        dict2plot[\"Channel \"+str(ch)] = my_runs[run][ch][variable2plot]\n",
    "    df2plot = pd.DataFrame.from_dict(dict2plot)\n",
    "    fig = px.histogram(df2plot,template=\"presentation\", nbins=1000)\n",
    "    # custom_legend_name(fig,[\"Legend1\",\"Legend2\"])\n",
    "    custom_plotly_layout(fig,\n",
    "                  title=\"Run {} \".format(run) + \"- {} histogram\".format(variable2plot), \n",
    "                  xaxis_title=variable2plot + \" [\"+my_runs[1][0][\"UnitsDict\"][variable2plot]+\"]\", \n",
    "                  yaxis_title=\"Counts\",barmode=\"overlay\").show()"
   ]
  }
 ],
 "metadata": {
  "kernelspec": {
   "display_name": "Python 3",
   "language": "python",
   "name": "python3"
  },
  "language_info": {
   "codemirror_mode": {
    "name": "ipython",
    "version": 3
   },
   "file_extension": ".py",
   "mimetype": "text/x-python",
   "name": "python",
   "nbconvert_exporter": "python",
   "pygments_lexer": "ipython3",
   "version": "3.8.10"
  }
 },
 "nbformat": 4,
 "nbformat_minor": 2
}
