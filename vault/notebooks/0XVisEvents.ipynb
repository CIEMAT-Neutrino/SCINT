{
 "cells": [
  {
   "cell_type": "markdown",
   "metadata": {},
   "source": [
    "------------------------------------------------------------------------------------------------------------------------------------------------------\n",
    "\n",
    "## EVENT VISUALIZER NOTEBOOK\n",
    "\n",
    "Make sure you have the data accesible (either mounted or running with the correct path in the input file)\n",
    "\n",
    "------------------------------------------------------------------------------------------------------------------------------------------------------"
   ]
  },
  {
   "cell_type": "code",
   "execution_count": null,
   "metadata": {},
   "outputs": [],
   "source": [
    "import sys; sys.path.insert(0, '../'); from lib import *;\n",
    "figure_features()"
   ]
  },
  {
   "cell_type": "code",
   "execution_count": null,
   "metadata": {},
   "outputs": [],
   "source": [
    "# Set options for general visualitation\n",
    "OPT  = {\n",
    "    \"MICRO_SEC\":   True,                # Time in microseconds (True/False)\n",
    "    \"NORM\":        False,               # Runs can be displayed normalised (True/False)\n",
    "    \"ALIGN\":       True,                # Aligns waveforms in peaktime (True/False)\n",
    "    \"LOGY\":        False,               # Runs can be displayed in logy (True/False)\n",
    "    \"SHOW_AVE\":    \"\",                  # If computed, vis will show average (AveWvf,AveWvfSPE,etc.)\n",
    "    \"SHOW_PARAM\":  False,               # Print terminal information (True/False)\n",
    "    \"CHARGE_KEY\":  \"ChargeAveRange\",    # Select charge info to be displayed. Default: \"ChargeAveRange\" (if computed)\n",
    "    \"PEAK_FINDER\": False,               # Finds possible peaks in the window (True/False)\n",
    "    \"LEGEND\":      True,                # Shows plot legend (True/False)\n",
    "    \"SHOW\":        True\n",
    "    }"
   ]
  },
  {
   "cell_type": "markdown",
   "metadata": {},
   "source": [
    "The following cell can be used to load the configuration file.\n",
    "Check that everything is OK and choose your runs!"
   ]
  },
  {
   "cell_type": "code",
   "execution_count": null,
   "metadata": {},
   "outputs": [],
   "source": [
    "info = read_input_file(\"TUTORIAL\")     # Read input file\n",
    "for key in info: print(key,info[key])  # Print loaded info\n",
    "for key in info: print(key,info[key])  # Print loaded info"
   ]
  },
  {
   "cell_type": "code",
   "execution_count": null,
   "metadata": {},
   "outputs": [],
   "source": [
    "chs  = [0,6]\n",
    "runs = [1] \n",
    "my_runs = load_npy(np.asarray(runs).astype(int),np.asarray(chs).astype(int),preset=\"RAW\",info=info,compressed=True) # LOAD YOUR RUNS"
   ]
  },
  {
   "cell_type": "markdown",
   "metadata": {},
   "source": [
    "Once loaded you can see the loaded variables you have available to plot"
   ]
  },
  {
   "cell_type": "code",
   "execution_count": null,
   "metadata": {},
   "outputs": [],
   "source": [
    "if check_key(my_runs[runs[0]][chs[0]], \"UnitsDict\") == False: get_units(my_runs)\n",
    "for key in my_runs[runs[0]][chs[0]]: print(key)"
   ]
  },
  {
   "cell_type": "markdown",
   "metadata": {},
   "source": [
    "### BASIC MODE\n",
    "\n",
    "Plot a histogram with the loaded channels for each run. You need to select the event number to plot"
   ]
  },
  {
   "cell_type": "code",
   "execution_count": null,
   "metadata": {},
   "outputs": [],
   "source": [
    "EVENT2PLOT = np.random.randint(len(my_runs[runs[0]][chs[0]][\"RawADC\"]))\n",
    "\n",
    "nch=len(chs); ncol=int((nch+1)/2); nrow=int((nch)/2); z=0; axs = []\n",
    "if nch < 4: \n",
    "        fig, ax = plt.subplots(nch ,1, figsize = (10,8))\n",
    "        axs = ax.T.flatten(); \n",
    "        if nch == 1: axs.append(ax)\n",
    "        else: axs = ax\n",
    "else: fig, ax = plt.subplots(dpi=200,ncols= ncol,nrows=nrow,figsize=[8,3],sharex=True)\n",
    "\n",
    "time = np.arange(len(my_runs[runs[0]][chs[0]][\"RawADC\"][EVENT2PLOT]))*my_runs[runs[0]][chs[0]][\"Sampling\"]\n",
    "for c,ch in enumerate(chs):\n",
    "        i = int(z/ncol)\n",
    "        j = z%ncol\n",
    "\n",
    "        RawADC  = my_runs[runs[0]][ch][\"RawADC\"]    [EVENT2PLOT]\n",
    "        PedSTD  = my_runs[runs[0]][ch][\"RawPedSTD\"] [EVENT2PLOT]\n",
    "        PedMean = my_runs[runs[0]][ch][\"RawPedMean\"][EVENT2PLOT]\n",
    "        ax[c].tick_params(axis='both', which='major', labelsize=5)\n",
    "        ax[c].grid()\n",
    "        ax[c].plot( time,  RawADC,linewidth=.5, label=\"Ch: \"+str(ch))\n",
    "        ax[c].plot([0, time[-1]], [PedMean,PedMean],                   color=\"k\"  ,linewidth=.7)\n",
    "        ax[c].plot([0, time[-1]], [PedMean+PedSTD,PedMean+PedSTD],\"--\",color=\"k\"  ,linewidth=.7)\n",
    "        ax[c].plot([0, time[-1]], [PedMean-PedSTD,PedMean-PedSTD],\"--\",color=\"k\"  ,linewidth=.7)\n",
    "        ax[c].legend()  \n",
    "        ax[c].set_title(\"Run {} - Ch {} - Event Number {}\".format(my_runs[\"NRun\"][0],ch,EVENT2PLOT),size = 14)\n",
    "        ax[c].xaxis.offsetText.set_fontsize(14) # Smaller fontsize for scientific notation\n",
    "        ax[c].grid(True, alpha = 0.7)\n",
    "\n",
    "        del RawADC,PedSTD,PedMean\n",
    "        z+=1;   \n",
    "\n",
    "fig.supylabel(\"ADC Counts\")\n",
    "fig.supxlabel(r'Time [s]')\n",
    "# fig.supxlabel(r'Time [$\\mu$s]')\n",
    "\n",
    "plt.show()"
   ]
  },
  {
   "cell_type": "markdown",
   "metadata": {},
   "source": [
    "Extra: persistence plots\n",
    "\n",
    "WARNING: plotting all the events in the run takes a while (and may crash the kernel) that is why the events are limited to 1000 to make tests"
   ]
  },
  {
   "cell_type": "code",
   "execution_count": null,
   "metadata": {},
   "outputs": [],
   "source": [
    "run = 1; ch = 6; evts2plot = 1000\n",
    "CUT = np.concatenate([np.ones(evts2plot,dtype=bool),np.zeros(len(my_runs[run][ch][\"RawADC\"])-evts2plot,dtype=bool)])\n",
    "persistence_runs = (my_runs[run][ch][\"RawADC\"][CUT].T-my_runs[run][ch][\"RawPedMean\"][CUT]).T\n",
    "data_flatten = persistence_runs.flatten() ##### Flatten the data array\n",
    "time = my_runs[run][ch][\"Sampling\"]*np.arange(len(my_runs[run][ch][\"RawADC\"][0])) # Time array\n",
    "time_flatten = np.array([time] * int(len(data_flatten)/len(time))).flatten()\n",
    "\n",
    "plt.hist2d(time_flatten,data_flatten,density=True, bins=[500,150], cmap = viridis, norm=LogNorm())\n",
    "# plt.plot(time,my_runs[run][ch][\"AnaAveWvf\"][0], \"--\", color=\"k\",label=\"Average Waveform\")\n",
    "del data_flatten, time, time_flatten\n",
    "plt.colorbar()\n",
    "plt.xlim([0.15e-5,0.65e-5])\n",
    "plt.ylim([-50,250])\n",
    "plt.grid(True, alpha = 0.7) # , zorder = 0 for grid behind hist\n",
    "plt.title(\"Run {} Ch {} - Calibration Persistence\".format(run,ch),size = 14)\n",
    "plt.xticks(size = 11); plt.yticks(size = 11)\n",
    "plt.xlabel(\"Time [s]\", size = 11); plt.ylabel(\"Amplitude [ADC]\", size = 11)\n",
    "plt.show()"
   ]
  },
  {
   "cell_type": "markdown",
   "metadata": {},
   "source": [
    "### ADVANCED MODE\n",
    "\n",
    "Use plotly to allow dynamical interaction."
   ]
  },
  {
   "cell_type": "code",
   "execution_count": null,
   "metadata": {},
   "outputs": [],
   "source": [
    "df = npy2df(my_runs)\n",
    "# display(df)\n",
    "wvf_df_index = df[\"RawADC\"].index\n",
    "# Make a new df from the exploded entries in wvf_df but conserve the index by looping over wvf_df_index\n",
    "wvf_df = pd.DataFrame()\n",
    "for i in wvf_df_index:\n",
    "    print(i)\n",
    "    index_array = df[\"RawADC\"].loc[i[0],i[1]]\n",
    "    index_df = pd.DataFrame(index_array).T\n",
    "    index_df = index_df.assign(run=i[0], channel=i[1]).set_index([\"run\",\"channel\"])\n",
    "    index_df[\"tick\"] = np.arange(0, index_df[0].size)\n",
    "    # add this df to wvf_df with the index of the original df\n",
    "    wvf_df = pd.concat([wvf_df, index_df], axis=0)\n",
    "# display(wvf_df)\n",
    "var_df = df.drop(columns=[\"RawADC\"])\n",
    "# display(var_df)"
   ]
  },
  {
   "cell_type": "code",
   "execution_count": null,
   "metadata": {},
   "outputs": [],
   "source": [
    "def update_plot(n_clicks):\n",
    "    fig = make_subplots(rows=1, cols=len(wvf_df.index.get_level_values(\"channel\").unique()))\n",
    "    if n_clicks >= 0: \n",
    "        for idx,i in enumerate(wvf_df.index.get_level_values(\"channel\").unique()):\n",
    "            # if raw:\n",
    "            fig.add_trace(go.Scatter(line=dict(color=\"blue\"),x=wvf_df.loc[(runs[0],i),\"tick\"], y=wvf_df.loc[(runs[0],i),n_clicks], name=\"Channel \"+str(i)), row=1, col=idx+1)\n",
    "            fig.add_trace(go.Scatter(mode=\"markers\", marker=dict(color=\"red\", size=10), x=[var_df.loc[(runs[0],i),\"RawPeakTime\"][n_clicks]], y=[var_df.loc[(runs[0],i),\"RawPeakAmp\"][n_clicks]]), row=1, col=idx+1)\n",
    "            fig.add_hline(y=var_df.loc[(runs[0],i),\"RawPedMean\"][n_clicks], row=1, col=idx+1)\n",
    "            fig.add_hline(y=var_df.loc[(runs[0],i),\"RawPedMean\"][n_clicks]+var_df.loc[(runs[0],i),\"RawPedSTD\"][n_clicks], row=1, col=idx+1)\n",
    "            fig.add_hline(y=var_df.loc[(runs[0],i),\"RawPedMean\"][n_clicks]-var_df.loc[(runs[0],i),\"RawPedSTD\"][n_clicks], row=1, col=idx+1)\n",
    "            custom_plotly_layout(fig,title='Raw Waveform - Event %i'%n_clicks, xaxis_title='Time [s]', yaxis_title='ADC')\n",
    "            fig.update_layout(showlegend=False)\n",
    "            # else:\n",
    "            #     fig.add_trace(go.Scatter(line=dict(color=\"blue\"),x=wvf_df.loc[(runs[0],i),\"tick\"], y=int(info[\"CHAN_POLAR\"][idx])*(wvf_df.loc[(runs[0],i),0]-var_df.loc[(runs[0],i),\"RawPedMean\"][0]), name=\"Channel \"+str(i)), row=1, col=idx+1)\n",
    "            #     fig.add_trace(go.Scatter(mode=\"markers\", marker=dict(color=\"red\", size=10), x=[var_df.loc[(runs[0],i),\"AnaPeakTime\"][0]], y=[var_df.loc[(runs[0],i),\"AnaPeakAmp\"][0]]), row=1, col=idx+1)\n",
    "            #     fig.update_layout(title='Raw Waveform - Event %i'%column, xaxis_title='Time [s]', yaxis_title='ADC',template=\"presentation\")\n",
    "        fig.show()\n",
    "my_event = widgets.IntText(value=-1, description='#Event:')\n",
    "widgets.interact(update_plot, n_clicks=my_event)"
   ]
  }
 ],
 "metadata": {
  "kernelspec": {
   "display_name": "Python 3",
   "language": "python",
   "name": "python3"
  },
  "language_info": {
   "codemirror_mode": {
    "name": "ipython",
    "version": 3
   },
   "file_extension": ".py",
   "mimetype": "text/x-python",
   "name": "python",
   "nbconvert_exporter": "python",
   "pygments_lexer": "ipython3",
   "version": "3.8.10"
  },
  "orig_nbformat": 4
 },
 "nbformat": 4,
 "nbformat_minor": 2
}
