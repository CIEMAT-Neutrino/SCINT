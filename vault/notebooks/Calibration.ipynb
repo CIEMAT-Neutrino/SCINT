{
 "cells": [
  {
   "cell_type": "markdown",
   "metadata": {},
   "source": [
    "------------------------------------------------------------------------------------------------------------------------------------------------------\n",
    "\n",
    "## CALIBRATION NOTEBOOK\n",
    "\n",
    "------------------------------------------------------------------------------------------------------------------------------------------------------"
   ]
  },
  {
   "cell_type": "code",
   "execution_count": null,
   "metadata": {},
   "outputs": [],
   "source": [
    "import sys; sys.path.insert(0, '../'); from lib import *;"
   ]
  },
  {
   "cell_type": "code",
   "execution_count": null,
   "metadata": {},
   "outputs": [],
   "source": [
    "# Set options for general visualitation\n",
    "OPT  = {\n",
    "    \"MICRO_SEC\":   True,                # Time in microseconds (True/False)\n",
    "    \"NORM\":        False,               # Runs can be displayed normalised (True/False)\n",
    "    \"ALIGN\":       True,                # Aligns waveforms in peaktime (True/False)\n",
    "    \"LOGY\":        False,               # Runs can be displayed in logy (True/False)\n",
    "    \"SHOW_AVE\":    \"\",                  # If computed, vis will show average (AveWvf,AveWvfSPE,etc.)\n",
    "    \"SHOW_PARAM\":  False,               # Print terminal information (True/False)\n",
    "    \"CHARGE_KEY\":  \"ChargeAveRange\",    # Select charge info to be displayed. Default: \"ChargeAveRange\" (if computed)\n",
    "    \"PEAK_FINDER\": False,               # Finds possible peaks in the window (True/False)\n",
    "    \"LEGEND\":      True,                # Shows plot legend (True/False)\n",
    "    \"SHOW\":        False,\n",
    "    \"THRESHOLD\":  100,\n",
    "    \"WIDTH\":      5,\n",
    "    \"PROMINENCE\": 0.3,\n",
    "    \"ACCURACY\":   2000,\n",
    "    \"STYLE\":       \"CIEMAT_style\",      # Plot style. Default: \"CIEMAT_style\"\n",
    "    \"TERMINAL_MODE\": False\n",
    "    }\n",
    "\n",
    "style_selector(OPT)"
   ]
  },
  {
   "cell_type": "markdown",
   "metadata": {},
   "source": [
    "The following cell can be used to load the configuration file.\n",
    "Check that everything is OK and choose your runs!"
   ]
  },
  {
   "cell_type": "code",
   "execution_count": null,
   "metadata": {},
   "outputs": [],
   "source": [
    "info = read_input_file(\"TUTORIAL\")     # Read input file\n",
    "for key in info: print(key,info[key])  # Print loaded info\n",
    "for key in info: print(key,info[key])  # Print loaded info"
   ]
  },
  {
   "cell_type": "code",
   "execution_count": null,
   "metadata": {},
   "outputs": [],
   "source": [
    "chs  = [0,6]\n",
    "runs = [1] \n",
    "my_runs = load_npy(np.asarray(runs).astype(int),np.asarray(chs).astype(int),preset=\"EVA\",info=info,compressed=True) # LOAD YOUR RUNS"
   ]
  },
  {
   "cell_type": "code",
   "execution_count": null,
   "metadata": {},
   "outputs": [],
   "source": [
    "RUN2PLOT = \"CALIB_RUNS\"; ch = 6; run = 1\n",
    "xvar = \"AnaPeakAmp\"\n",
    "yvar = \"AnaChargeAveRangeSIGNAL\"\n",
    "plt.ioff()\n",
    "for c,ch in enumerate(chs):\n",
    "    plt.figure()\n",
    "    plt.hist2d(my_runs[run][ch][xvar],\n",
    "               my_runs[run][ch][yvar],\n",
    "               bins=1000,density=True, cmap = viridis, norm=LogNorm())\n",
    "    plt.xlim([-10,200])\n",
    "    plt.ylim([-100,10000])\n",
    "    plt.xlabel(xvar)\n",
    "    plt.ylabel(yvar)\n",
    "    plt.colorbar()\n",
    "    plt.ion()\n",
    "    plt.show()"
   ]
  },
  {
   "cell_type": "code",
   "execution_count": null,
   "metadata": {},
   "outputs": [],
   "source": [
    "OPT[\"THRESHOLD\"]  = 100\n",
    "OPT[\"WIDTH\"]      = 8\n",
    "OPT[\"PROMINENCE\"] = 0.1\n",
    "OPT[\"ACCURACY\"]   = 1800"
   ]
  },
  {
   "cell_type": "code",
   "execution_count": null,
   "metadata": {},
   "outputs": [],
   "source": [
    "params = {\"THRESHOLD\": 10, \"WIDTH\": 15, \"PROMINENCE\": 0.5, \"ACCURACY\": 500, \"FIT\": \"gaussian\"}\n",
    "new_params = {}\n",
    "for i,param in enumerate(params.keys()):\n",
    "    if check_key(OPT,param) == True: new_params[param] = OPT[param]\n",
    "    else:                            new_params[param] = params[param]\n",
    "print(new_params)"
   ]
  },
  {
   "cell_type": "code",
   "execution_count": null,
   "metadata": {},
   "outputs": [],
   "source": [
    "def fit_gaussians(x, y, *p0):\n",
    "    assert x.shape == y.shape, \"Input arrays must have the same shape.\"\n",
    "    # try:\n",
    "    popt, pcov = curve_fit(gaussian_train, x,y, p0=p0[0], maxfev=8000)\n",
    "    fit_y=gaussian_train(x,*popt)\n",
    "    chi_squared = np.sum((y[abs(fit_y)>0.1] - fit_y[abs(fit_y)>0.1]) ** 2 / fit_y[abs(fit_y)>0.1]) / (y.size - len(popt))\n",
    "    return popt,fit_y,chi_squared"
   ]
  },
  {
   "cell_type": "code",
   "execution_count": null,
   "metadata": {},
   "outputs": [],
   "source": [
    "keys = [\"AnaChargeAveRangeSIGNAL\"]; \n",
    "density = OPT[\"NORM\"]\n",
    "binning = OPT[\"ACCURACY\"]\n",
    "debug = True\n",
    "channels = [6]\n",
    "\n",
    "for r,run in enumerate(runs[\"CALIB_RUNS\"][\"NRun\"]):\n",
    "    for c,ch in enumerate(channels):\n",
    "        fig_cal, ax_cal = plt.subplots(1,1, figsize = (8,6)); add_grid(ax_cal)\n",
    "        for key in keys:\n",
    "            # counts, bins, bars = ax_cal.hist( runs[\"CALIB_RUNS\"][run][ch][key],bins = int(binning),histtype=\"step\", label=key, density=density);\n",
    "            counts, bins, bars = ax_cal.hist( runs[\"CALIB_RUNS\"][run][ch][key],bins = int(binning),histtype=\"step\", label=\"Data\", density=density);\n",
    "            counts,bins        = np.histogram(runs[\"CALIB_RUNS\"][run][ch][key],int(binning));#need to convert to PE\n",
    "\n",
    "            peaks = find_peaks(counts,height=new_params[\"THRESHOLD\"],width=new_params[\"WIDTH\"])\n",
    "            ax_cal.plot(bins[peaks[0]],peaks[1][\"peak_heights\"],\"x\") #a Rodrigo le gustan las x para los picos jaja\n",
    "            ax_cal.set_xlim([-1e3,bins[peaks[0][-1]]*5])\n",
    "            print(\"FOUNDED PEAKS:\", peaks)\n",
    "\n",
    "            params=np.zeros(len(peaks[0])*3)\n",
    "            params[0::3]=peaks[1][\"peak_heights\"]\n",
    "            params[1::3]=bins[peaks[0]]\n",
    "            params[2::3]=1e2\n",
    "            x=bins[peaks[0][-1]]*1.2\n",
    "            my_vars,fit_y,qs=fit_gaussians(bins[:-1],counts,params)    \n",
    "            \n",
    "            # fit_params, _ = curve_fit(multiple_gaussians, bins[:-1], counts, p0=params, maxfev=8000)\n",
    "            # plt.plot(bins[:-1], multiple_gaussians(bins[:-1], *fit_params), 'r', label='Fitted Curve')\n",
    "\n",
    "            my_vars,fit_y,qs=fit_gaussians(bins[:-1],counts,params)     \n",
    "            plt.plot(bins[:-1], fit_y, 'r-', label='Best Fit',linewidth=1)\n",
    "\n",
    "        # plt.semilogy()\n",
    "        fig_cal.suptitle(\"Run {} Ch {} - Calibration histogram\".format(runs[\"CALIB_RUNS\"][\"NRun\"][0],ch,key))\n",
    "        # fig_cal.suptitle(\"Run_{} Ch_{} - {} histogram\".format(runs[\"CALIB_RUNS\"][\"NRun\"][0],ch,key))\n",
    "        fig_cal.supxlabel(\"Charge [ADC]\"); fig_cal.supylabel(\"Counts\")\n",
    "        # fig_cal.supxlabel(key + \" [ADC]\"); fig_cal.supylabel(\"Counts\")\n",
    "        plt.grid(True, alpha = 0.7)\n",
    "        plt.legend()\n",
    "        plt.show()"
   ]
  },
  {
   "cell_type": "code",
   "execution_count": null,
   "metadata": {},
   "outputs": [],
   "source": [
    "popt, pcov, perr = calibrate(runs[\"CALIB_RUNS\"], [\"AnaChargeAveRange\"], OPT=OPT, debug=False) #TO solve: not repeated plots"
   ]
  },
  {
   "cell_type": "markdown",
   "metadata": {},
   "source": [
    "## AFTER DECONVOLUTION"
   ]
  },
  {
   "cell_type": "code",
   "execution_count": null,
   "metadata": {},
   "outputs": [],
   "source": [
    "for c, ch in enumerate(channels):\n",
    "    fast =np.sum(runs[\"CALIB_RUNS\"][runs[\"CALIB_RUNS\"][\"NRun\"][0]][ch][\"DecADC\"][:,500:1000],axis=1)\n",
    "    total=np.sum(runs[\"CALIB_RUNS\"][runs[\"CALIB_RUNS\"][\"NRun\"][0]][ch][\"DecADC\"][:,500:3000],axis=1)\n",
    "\n",
    "    plt.plot(total,fast/total,',')\n",
    "    plt.ylim([0,1])\n",
    "    plt.xlim([0,1000])\n",
    "    CUT=(fast>0.7)*(total>130)\n",
    "    plt.hist(total[CUT],200,[100,1000]);\n",
    "    plt.semilogy()\n",
    "    plt.grid()\n",
    "    plt.show()"
   ]
  },
  {
   "cell_type": "code",
   "execution_count": null,
   "metadata": {},
   "outputs": [],
   "source": [
    "# With cuts\n",
    "f90 = fast/total\n",
    "CUT_total = total>100\n",
    "CUT_tf90  = f90>0.6\n",
    "CUT = CUT_tf90*CUT_total\n",
    "\n",
    "plt.figure(dpi=200)\n",
    "Amp=np.max(runs[\"CALIB_RUNS\"][runs[\"CALIB_RUNS\"][\"NRun\"][0]][ch][\"DecADC\"],axis=1)\n",
    "plt.plot(total[~CUT], Amp[~CUT], \",\");\n",
    "plt.plot(total[CUT] , Amp[CUT] , \",\");\n",
    "plt.xlim([0,1000])\n",
    "plt.ylabel(\"Amp [Arb units]\")\n",
    "plt.xlabel(\"Charge [Arb units]\")\n",
    "x_ticks=np.arange(0,1000,1)\n",
    "plt.plot(x_ticks,0.01*x_ticks)\n",
    "plt.show()"
   ]
  },
  {
   "cell_type": "markdown",
   "metadata": {},
   "source": [
    "## GAIN FIT"
   ]
  },
  {
   "cell_type": "code",
   "execution_count": null,
   "metadata": {},
   "outputs": [],
   "source": [
    "folder_path = \"TUTORIAL\"\n",
    "channels    = [0,6];      run   = 1\n",
    "my_ov       = [[3,4,5,6],[3]]; debug = False\n",
    "\n",
    "gains, Dgain = get_gains(run,channels,folder_path=folder_path,debug=debug)\n",
    "print(\"STORED GAINS -> \",gains)\n",
    "print(\"STORED DGAIN -> \",Dgain)\n",
    "\n",
    "for c,ch in enumerate(channels):\n",
    "    filter_gains = np.array(gains[ch])[np.array(gains[ch])!=-99]\n",
    "    filter_Dgain = np.array(Dgain[ch])[np.array(Dgain[ch])!=-99]\n",
    "    if filter_gains.size == 0:\n",
    "        print(\"No valid gains for channel %i\"%ch)\n",
    "        continue\n",
    "    a, b = np.polyfit(my_ov[c], filter_gains, 1)\n",
    "    print(\"Channel %i: G = %.2f * OV + %.2f\"%(ch,a,b))\n",
    "    plt.errorbar(my_ov[c], filter_gains, yerr=filter_Dgain, label=\"Channel \"+str(ch), marker = \"o\")\n",
    "\n",
    "plt.xlabel(\"OV [V]\"); plt.ylabel(\"Gain [ADCs*ticks]\"); plt.title(\"Gains (run %i)\"%run)\n",
    "plt.grid(True)\n",
    "plt.legend()\n",
    "plt.show()\n",
    "# plt.savefig(\"gain_fit_SiPMs.png\", dpi = 400)"
   ]
  }
 ],
 "metadata": {
  "kernelspec": {
   "display_name": "Python 3",
   "language": "python",
   "name": "python3"
  },
  "language_info": {
   "codemirror_mode": {
    "name": "ipython",
    "version": 3
   },
   "file_extension": ".py",
   "mimetype": "text/x-python",
   "name": "python",
   "nbconvert_exporter": "python",
   "pygments_lexer": "ipython3",
   "version": "3.8.10"
  }
 },
 "nbformat": 4,
 "nbformat_minor": 2
}
