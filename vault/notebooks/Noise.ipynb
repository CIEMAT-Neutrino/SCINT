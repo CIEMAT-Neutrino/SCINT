{
 "cells": [
  {
   "cell_type": "markdown",
   "metadata": {},
   "source": [
    "------------------------------------------------------------------------------------------------------------------------------------------------------\n",
    "\n",
    "## NOISE NOTEBOOK\n",
    "\n",
    "------------------------------------------------------------------------------------------------------------------------------------------------------"
   ]
  },
  {
   "cell_type": "code",
   "execution_count": null,
   "metadata": {},
   "outputs": [],
   "source": [
    "import sys; sys.path.insert(0, '../'); from lib import *;\n",
    "import matplotlib.colors as mcolors"
   ]
  },
  {
   "cell_type": "code",
   "execution_count": null,
   "metadata": {},
   "outputs": [],
   "source": [
    "# Set options for general visualitation\n",
    "OPT  = {\n",
    "    \"MICRO_SEC\":   True,                # Time in microseconds (True/False)\n",
    "    \"NORM\":        False,               # Runs can be displayed normalised (True/False)\n",
    "    \"ALIGN\":       True,                # Aligns waveforms in peaktime (True/False)\n",
    "    \"LOGY\":        False,               # Runs can be displayed in logy (True/False)\n",
    "    \"SHOW_AVE\":    \"\",                  # If computed, vis will show average (AveWvf,AveWvfSPE,etc.)\n",
    "    \"SHOW_PARAM\":  False,               # Print terminal information (True/False)\n",
    "    \"CHARGE_KEY\":  \"ChargeAveRange\",    # Select charge info to be displayed. Default: \"ChargeAveRange\" (if computed)\n",
    "    \"PEAK_FINDER\": False,               # Finds possible peaks in the window (True/False)\n",
    "    \"LEGEND\":      True,                # Shows plot legend (True/False)\n",
    "    \"STYLE\":       \"CIEMAT_style\",      # Plot style. Default: \"CIEMAT_style\"\n",
    "    \"SHOW\":        True\n",
    "    }\n",
    "\n",
    "style_selector(OPT)"
   ]
  },
  {
   "cell_type": "markdown",
   "metadata": {},
   "source": [
    "The following cell can be used to load the configuration file.\n",
    "Check that everything is OK and choose your runs!"
   ]
  },
  {
   "cell_type": "code",
   "execution_count": null,
   "metadata": {},
   "outputs": [],
   "source": [
    "info = read_input_file(\"TUTORIAL\")     # Read input file\n",
    "for key in info: print(key,info[key])  # Print loaded info\n",
    "for key in info: print(key,info[key])  # Print loaded info"
   ]
  },
  {
   "cell_type": "code",
   "execution_count": null,
   "metadata": {},
   "outputs": [],
   "source": [
    "chs  = [0,6]\n",
    "runs = [1,9,25] \n",
    "my_runs = load_npy(np.asarray(runs).astype(int),np.asarray(chs).astype(int),preset=\"EVA\",info=info,compressed=True) # LOAD YOUR RUNS"
   ]
  },
  {
   "cell_type": "markdown",
   "metadata": {},
   "source": [
    "## STD"
   ]
  },
  {
   "cell_type": "code",
   "execution_count": null,
   "metadata": {},
   "outputs": [],
   "source": [
    "key = \"AnaPedSTD\"\n",
    "\n",
    "fig, axs = plt.subplots(dpi=200,ncols=len(chs),figsize=[10,3],sharey=True)\n",
    "colors=list(mcolors.TABLEAU_COLORS.keys())\n",
    "plt.suptitle(\"Pedestal Noise level over runs \"+str(runs))\n",
    "plt.ylim(0,30)\n",
    "fig.supylabel(  \"Pedestal STD [ADCs]\"  )\n",
    "for r,run in enumerate(runs):\n",
    "    for c,ch in enumerate(chs):\n",
    "        PedSTD       = my_runs[run][ch][key]\n",
    "        counts, bins = np.histogram(PedSTD, 300,[0,20])\n",
    "        MeanValue    = bins[np.argmax(counts)]\n",
    "        ErrorsSTD    = np.std(PedSTD[np.where(PedSTD<50)[0]])\n",
    "\n",
    "        axs[c].errorbar (runs[r], MeanValue, yerr=ErrorsSTD,color=colors[c],linewidth=0,marker='o',markersize=1,elinewidth=1,capsize=2)\n",
    "        axs[c].legend([chs[c]])\n",
    "        axs[c].grid()\n",
    "        axs[c].set_xlabel(\"Run number\")\n",
    "plt.show()"
   ]
  },
  {
   "cell_type": "markdown",
   "metadata": {},
   "source": [
    "## MEAN"
   ]
  },
  {
   "cell_type": "code",
   "execution_count": null,
   "metadata": {},
   "outputs": [],
   "source": [
    "key = \"AnaPedMean\"\n",
    "\n",
    "fig, axs = plt.subplots(dpi=200,ncols=len(chs),figsize=[10,3],sharey=True)\n",
    "colors=list(mcolors.TABLEAU_COLORS.keys())\n",
    "plt.suptitle(\"Baseline stability over runs \"+str(runs))\n",
    "fig.supylabel(  \"Pedestal Mean [ADCs]\"  )\n",
    "for r,run in enumerate(runs):\n",
    "    for c,ch in enumerate(chs):\n",
    "        PedMean      = my_runs[run][ch][key]\n",
    "        counts, bins = np.histogram(PedMean, 1000)\n",
    "        MeanValue    = bins[np.argmax(counts)]\n",
    "        # offset=1.26e4; MeanValue[:-1]-=offset\n",
    "        ErrorsSTD    = np.std(PedMean[np.where(PedMean<50)[0]])\n",
    "\n",
    "        axs[c].errorbar (runs[r], MeanValue, yerr=ErrorsSTD,color=colors[c],linewidth=0,marker='o',markersize=1,elinewidth=1,capsize=2)\n",
    "        axs[c].legend([chs[c]])\n",
    "        axs[c].grid()\n",
    "        axs[c].set_xlabel(\"Run number\")\n",
    "plt.show()"
   ]
  },
  {
   "cell_type": "markdown",
   "metadata": {},
   "source": [
    "## BY CHANNELS"
   ]
  },
  {
   "cell_type": "code",
   "execution_count": null,
   "metadata": {},
   "outputs": [],
   "source": [
    "keys = [\"AnaPedSTD\",\"AnaPedMean\"]\n",
    "bins = [100,100]\n",
    "rang = [[0,20],[0,20]]\n",
    "logy = [True,False]\n",
    "run = 1\n",
    "\n",
    "for k,key in enumerate(keys):\n",
    "    for c,ch in enumerate(chs):\n",
    "        PedSTD = my_runs[run][ch][key]\n",
    "        plt.hist(PedSTD, bins[k],rang[k],histtype=\"step\")\n",
    "\n",
    "    plt.legend(chs)\n",
    "    plt.title (\"Noise distributions (run \"+str(run)+\")\")\n",
    "    plt.xlabel(key+\" [ADCs]\")\n",
    "    if logy[k]: plt.semilogy()\n",
    "    plt.show()"
   ]
  }
 ],
 "metadata": {
  "kernelspec": {
   "display_name": "Python 3",
   "language": "python",
   "name": "python3"
  },
  "language_info": {
   "codemirror_mode": {
    "name": "ipython",
    "version": 3
   },
   "file_extension": ".py",
   "mimetype": "text/x-python",
   "name": "python",
   "nbconvert_exporter": "python",
   "pygments_lexer": "ipython3",
   "version": "3.8.10"
  }
 },
 "nbformat": 4,
 "nbformat_minor": 2
}
