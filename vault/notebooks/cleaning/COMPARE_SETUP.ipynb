{
 "cells": [
  {
   "cell_type": "markdown",
   "metadata": {},
   "source": [
    "------------------------------------------------------------------------------------------------------------------------------------------------------\n",
    "\n",
    "## COMPARASSON BETWEEN SETUP NOTEBOOK\n",
    "\n",
    "\n",
    "##### PLEASE! When you are done with the tutorial, move to the ```notebooks``` folder to start your own analysis \n",
    " In this way, you will be able to keep the tutorial as a reference for future use (or others to use it).\n",
    "\n",
    "------------------------------------------------------------------------------------------------------------------------------------------------------"
   ]
  },
  {
   "cell_type": "code",
   "execution_count": null,
   "metadata": {},
   "outputs": [],
   "source": [
    "import sys; sys.path.insert(0, '../'); from lib import *;\n",
    "figure_features()"
   ]
  },
  {
   "cell_type": "code",
   "execution_count": null,
   "metadata": {},
   "outputs": [],
   "source": [
    "# Set options for general visualitation\n",
    "OPT  = {\n",
    "    \"MICRO_SEC\":   True,                # Time in microseconds (True/False)\n",
    "    \"NORM\":        False,               # Runs can be displayed normalised (True/False)\n",
    "    \"ALIGN\":       True,                # Aligns waveforms in peaktime (True/False)\n",
    "    \"LOGY\":        False,               # Runs can be displayed in logy (True/False)\n",
    "    \"SHOW_AVE\":    \"\",                  # If computed, vis will show average (AveWvf,AveWvfSPE,etc.)\n",
    "    \"SHOW_PARAM\":  False,               # Print terminal information (True/False)\n",
    "    \"CHARGE_KEY\":  \"ChargeAveRange\",    # Select charge info to be displayed. Default: \"ChargeAveRange\" (if computed)\n",
    "    \"PEAK_FINDER\": False,               # Finds possible peaks in the window (True/False)\n",
    "    \"LEGEND\":      True,                # Shows plot legend (True/False)\n",
    "    \"STYLE\":       \"CIEMAT_style\",      # Plot style. Default: \"CIEMAT_style\"\n",
    "    \"SHOW\":        True\n",
    "    }\n",
    "\n",
    "style_selector(OPT)"
   ]
  },
  {
   "cell_type": "code",
   "execution_count": null,
   "metadata": {},
   "outputs": [],
   "source": [
    "setups = [\"Jan22\",\"Feb22\",\"Feb22_2\"]; OV = 1\n",
    "run_keys = [\"CALIB_RUNS\",\"LIGHT_RUNS\",\"ALPHA_RUNS\",\"MUONS_RUNS\",\"NOISE_RUNS\"]\n",
    "nruns = dict.fromkeys(run_keys)\n",
    "for key in run_keys:\n",
    "    aux = dict.fromkeys(setups)\n",
    "    for setup in setups:\n",
    "        info = read_input_file(setup) # Read input file\n",
    "        try:               aux[setup] = info[key][OV]\n",
    "        except IndexError: continue\n",
    "    nruns[key] = aux\n",
    "channels = [0,6]"
   ]
  },
  {
   "cell_type": "code",
   "execution_count": null,
   "metadata": {},
   "outputs": [],
   "source": [
    "RUN2PLOT = \"ALPHA_RUNS\"; key = \"AnaAveWvf\"\n",
    "labels = [\"(A) FBK+EJ\",\"(B) HPK+EJ\",\"(D) HPK+G2P\"]\n",
    "titles = [\"Average Waveform - SiPM\", \"Average Waveform - X-ARAPUCA\"]\n",
    "\n",
    "print(\"You are plotting %s, %s\\n\"%(RUN2PLOT,key))\n",
    "for c,ch in enumerate(channels):\n",
    "    plt.figure(dpi=200)\n",
    "    for s,setup in enumerate(nruns[RUN2PLOT]):\n",
    "        info = read_input_file(setup) # Read input file\n",
    "        run = nruns[RUN2PLOT][setup]\n",
    "        fig = plt.figure\n",
    "        my_runs = load_npy(np.asarray([run]).astype(int),np.asarray([ch]).astype(int),preset=\"EVA\",info=info,compressed=True)\n",
    "        time_wvf = np.arange(len(my_runs[run][ch][key][0]))*4e-9\n",
    "        AveWvf = my_runs[run][ch][key][0]\n",
    "        plt.plot(time_wvf, AveWvf,label=labels[s])\n",
    "        plt.legend()\n",
    "        plt.grid()\n",
    "        plt.xlabel(\"Time [s]\");\n",
    "        plt.ylabel(\"Amplitude [ADC]\")\n",
    "    plt.title(titles[c])\n",
    "    # plt.title(\"Average Waveform - Channel %i\"%ch)\n",
    "    plt.show()\n",
    "\n",
    "del my_runs, time_wvf"
   ]
  }
 ],
 "metadata": {
  "kernelspec": {
   "display_name": "Python 3 (ipykernel)",
   "language": "python",
   "name": "python3"
  }
 },
 "nbformat": 4,
 "nbformat_minor": 2
}
