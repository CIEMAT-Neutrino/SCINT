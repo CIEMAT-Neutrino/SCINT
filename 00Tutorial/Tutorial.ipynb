{
 "cells": [
  {
   "attachments": {},
   "cell_type": "markdown",
   "metadata": {},
   "source": [
    "------------------------------------------------------------------------------------------------------------------------------------------------------\n",
    "\n",
    "# CYTHON TOOLS (for begginers)\n",
    "\n",
    "This is a python library to process and analyse raw data from the IR02 lab.\n",
    "\n",
    "Access the [DOCUMENTATION](https://github.com/CIEMAT-Neutrino/CYTHON_TOOLS/wiki) for more information.\n",
    "\n",
    "You have cloned the repository into a local directory and you are ready to start. \n",
    "You can find template data in the ```data/TUTORIAL/raw``` folder which will be used to run the tutorial.\n",
    "\n",
    "## PLEASE! When you are done with the tutorial, copy the the ```00TutorialMacros``` into a ```macros``` folder to start your own analysis.\n",
    "In this way, you will be able to keep the tutorial as a reference for future use (or others to use it).\n",
    "\n",
    "------------------------------------------------------------------------------------------------------------------------------------------------------"
   ]
  },
  {
   "attachments": {},
   "cell_type": "markdown",
   "metadata": {},
   "source": [
    "## STEP 0: prepare the environment\n",
    "    \n",
    "Open a terminal and run to prepare the packages needed for the macros:\n",
    "```bash\n",
    "cd scripts\n",
    "sh setup.sh \n",
    "```\n",
    "Alternatevely, you can open /scripts/requirements.txt and install them manually."
   ]
  },
  {
   "attachments": {},
   "cell_type": "markdown",
   "metadata": {},
   "source": [
    "## STEP 1: process the raw data\n"
   ]
  },
  {
   "attachments": {},
   "cell_type": "markdown",
   "metadata": {},
   "source": [
    "```bash\n",
    "cd 00TutorialMacros\n",
    "python3 00Raw2Np.py      TUTORIAL\n",
    "```\n",
    "<img src=\"images/00Raw2Np.png\" alt=\"Raw2Np\"/>\n"
   ]
  },
  {
   "attachments": {},
   "cell_type": "markdown",
   "metadata": {},
   "source": [
    "```bash\n",
    "python3 01PreProcess.py     TUTORIAL\n",
    "```\n",
    "<img src=\"images/01PreProcess.png\" alt=\"PreProcess\"/>"
   ]
  },
  {
   "attachments": {},
   "cell_type": "markdown",
   "metadata": {},
   "source": [
    "\n",
    "```bash\n",
    "python3 02Process.py     TUTORIAL\n",
    "```\n",
    "<img src=\"images/02Process.png\" alt=\"Process\"/>"
   ]
  },
  {
   "attachments": {},
   "cell_type": "markdown",
   "metadata": {},
   "source": [
    "## STEP 2: visualize data"
   ]
  },
  {
   "cell_type": "code",
   "execution_count": 1,
   "metadata": {},
   "outputs": [
    {
     "name": "stdout",
     "output_type": "stream",
     "text": [
      "You have latex installed!. Applying default configuration (tex=True)\n"
     ]
    }
   ],
   "source": [
    "import sys; sys.path.insert(0, '../'); from lib import *;"
   ]
  },
  {
   "cell_type": "code",
   "execution_count": 2,
   "metadata": {},
   "outputs": [],
   "source": [
    "# Set options for general visualitation\n",
    "OPT  = {\n",
    "    \"MICRO_SEC\":   True,\n",
    "    \"NORM\":        False,                # Runs can be displayed normalised (True/False)\n",
    "    \"ALIGN\":       True,\n",
    "    \"LOGY\":        False,               # Runs can be displayed in logy (True/False)\n",
    "    \"SHOW_AVE\":    \"\",             # If computed, vis will show average (AveWvf,AveWvfSPE,etc.)\n",
    "    \"SHOW_PARAM\":  False,                 # Print terminal information (True/False)\n",
    "    \"CHARGE_KEY\":  \"ChargeAveRange\",     # Select charge info to be displayed. Default: \"ChargeAveRange\" (if computed)\n",
    "    \"PEAK_FINDER\": False,                # Finds possible peaks in the window (True/False)\n",
    "    \"LEGEND\":      True,                # Shows plot legend (True/False)\n",
    "    \"SHOW\":        True\n",
    "    }"
   ]
  },
  {
   "cell_type": "code",
   "execution_count": 4,
   "metadata": {},
   "outputs": [
    {
     "name": "stdout",
     "output_type": "stream",
     "text": [
      "\n",
      "\n",
      "dict_keys(['TYPE', 'MODEL', 'BITS', 'DYNAMIC_RANGE', 'SAMPLING', 'RAW_DATA', 'PATH', 'MONTH', 'OV_LABEL', 'MUONS_RUNS', 'LIGHT_RUNS', 'ALPHA_RUNS', 'CALIB_RUNS', 'CHAN_LABEL', 'CHAN_TOTAL', 'CHAN_POLAR', 'CHAN_AMPLI', 'LOAD_PRESET', 'SAVE_PRESET', 'REF', 'I_RANGE', 'F_RANGE'])\n",
      "\n",
      "\n"
     ]
    }
   ],
   "source": [
    "info     = read_input_file(\"TUTORIAL\")\n",
    "calib_runs     = [1]\n",
    "laser_runs     = [9]\n",
    "alpha_runs     = [25]\n",
    "muons_runs     = [29]\n",
    "# noise_runs     = [29]\n",
    "\n",
    "channels = [0,6]"
   ]
  },
  {
   "cell_type": "code",
   "execution_count": 5,
   "metadata": {},
   "outputs": [
    {
     "name": "stdout",
     "output_type": "stream",
     "text": [
      "\u001b[92mload_npy --> DONE!\n",
      "\u001b[0m\n",
      "\u001b[92mload_npy --> DONE!\n",
      "\u001b[0m\n",
      "\u001b[92mload_npy --> DONE!\n",
      "\u001b[0m\n",
      "\u001b[92mload_npy --> DONE!\n",
      "\u001b[0m\n",
      "\u001b[92mload_npy --> DONE!\n",
      "\u001b[0m\n",
      "\u001b[92mload_npy --> DONE!\n",
      "\u001b[0m\n",
      "\u001b[92mload_npy --> DONE!\n",
      "\u001b[0m\n",
      "\u001b[92mload_npy --> DONE!\n",
      "\u001b[0m\n"
     ]
    }
   ],
   "source": [
    "my_runs_calib = load_npy(calib_runs,channels,preset=\"EVA\",info=info,compressed=True)\n",
    "my_runs_laser = load_npy(laser_runs,channels,preset=\"EVA\",info=info,compressed=True)\n",
    "my_runs_alpha = load_npy(alpha_runs,channels,preset=\"EVA\",info=info,compressed=True)\n",
    "my_runs_muons = load_npy(muons_runs,channels,preset=\"EVA\",info=info,compressed=True)\n",
    "# my_runs_noise = load_npy(noise_runs,channels,preset=\"EVA\",info=info,compressed=True)"
   ]
  },
  {
   "cell_type": "code",
   "execution_count": 9,
   "metadata": {},
   "outputs": [],
   "source": [
    "time = np.arange(len(my_runs_calib[1][0][\"AveWvf\"][0]))*4e-9"
   ]
  },
  {
   "cell_type": "code",
   "execution_count": null,
   "metadata": {},
   "outputs": [],
   "source": []
  }
 ],
 "metadata": {
  "kernelspec": {
   "display_name": "Python 3",
   "language": "python",
   "name": "python3"
  },
  "language_info": {
   "codemirror_mode": {
    "name": "ipython",
    "version": 3
   },
   "file_extension": ".py",
   "mimetype": "text/x-python",
   "name": "python",
   "nbconvert_exporter": "python",
   "pygments_lexer": "ipython3",
   "version": "3.8.10"
  },
  "orig_nbformat": 4
 },
 "nbformat": 4,
 "nbformat_minor": 2
}
