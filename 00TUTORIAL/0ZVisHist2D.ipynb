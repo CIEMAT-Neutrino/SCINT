{
 "cells": [
  {
   "cell_type": "markdown",
   "metadata": {},
   "source": [
    "------------------------------------------------------------------------------------------------------------------------------------------------------\n",
    "\n",
    "## 2D HISTOGRAMS NOTEBOOK\n",
    "\n",
    "Make sure you have the data accesible (either mounted or running with the correct path in the input file)\n",
    "\n",
    "##### PLEASE! When you are done with the tutorial, move to the ```notebooks``` folder to start your own analysis \n",
    " In this way, you will be able to keep the tutorial as a reference for future use (or others to use it).\n",
    "\n",
    "------------------------------------------------------------------------------------------------------------------------------------------------------"
   ]
  },
  {
   "cell_type": "code",
   "execution_count": null,
   "metadata": {},
   "outputs": [],
   "source": [
    "import sys; sys.path.insert(0, '../'); from lib import *;\n",
    "figure_features()"
   ]
  },
  {
   "cell_type": "code",
   "execution_count": null,
   "metadata": {},
   "outputs": [],
   "source": [
    "# Set options for general visualitation\n",
    "OPT  = {\n",
    "    \"MICRO_SEC\":   True,                # Time in microseconds (True/False)\n",
    "    \"NORM\":        False,               # Runs can be displayed normalised (True/False)\n",
    "    \"ALIGN\":       True,                # Aligns waveforms in peaktime (True/False)\n",
    "    \"LOGY\":        False,               # Runs can be displayed in logy (True/False)\n",
    "    \"SHOW_AVE\":    \"\",                  # If computed, vis will show average (AveWvf,AveWvfSPE,etc.)\n",
    "    \"SHOW_PARAM\":  False,               # Print terminal information (True/False)\n",
    "    \"CHARGE_KEY\":  \"ChargeAveRange\",    # Select charge info to be displayed. Default: \"ChargeAveRange\" (if computed)\n",
    "    \"PEAK_FINDER\": False,               # Finds possible peaks in the window (True/False)\n",
    "    \"LEGEND\":      True,                # Shows plot legend (True/False)\n",
    "    \"SHOW\":        True\n",
    "    }"
   ]
  },
  {
   "cell_type": "markdown",
   "metadata": {},
   "source": [
    "The following cell can be used to load the configuration file.\n",
    "Check that everything is OK and choose your runs!"
   ]
  },
  {
   "cell_type": "code",
   "execution_count": null,
   "metadata": {},
   "outputs": [],
   "source": [
    "info = read_input_file(\"TUTORIAL\")      # Read input file\n",
    "for key in info: print(key,info[key])  # Print loaded info"
   ]
  },
  {
   "cell_type": "code",
   "execution_count": null,
   "metadata": {},
   "outputs": [],
   "source": [
    "chs  = [0,6]\n",
    "runs = [1] \n",
    "my_runs = load_npy(np.asarray(runs).astype(int),np.asarray(chs).astype(int),preset=\"EVA\",info=info,compressed=True) # LOAD YOUR RUNS"
   ]
  },
  {
   "cell_type": "markdown",
   "metadata": {},
   "source": [
    "Once loaded you can see the loaded variables you have available to plot"
   ]
  },
  {
   "cell_type": "code",
   "execution_count": null,
   "metadata": {},
   "outputs": [],
   "source": [
    "if check_key(my_runs[runs[0]][chs[0]], \"UnitsDict\") == False: get_units(my_runs)\n",
    "for key in my_runs[runs[0]][chs[0]]: print(key)"
   ]
  },
  {
   "cell_type": "markdown",
   "metadata": {},
   "source": [
    "### BASIC MODE\n",
    "\n",
    "Plot a histogram with the loaded channels for each run. You can change the binning and the limits of the axis to adjust the plot."
   ]
  },
  {
   "cell_type": "code",
   "execution_count": null,
   "metadata": {},
   "outputs": [],
   "source": [
    "variable2plot1 = \"AnaChargeAveRange\"\n",
    "variable2plot2 = \"AnaPeakAmp\"\n",
    "for run,ch in product(runs,chs): \n",
    "    plt.hist2d(x=my_runs[run][ch][variable2plot1],\n",
    "                                            y=my_runs[run][ch][variable2plot2],\n",
    "                                            bins=100, label = \"{}\".format(my_runs[run][ch][\"Label\"]).replace(\"#\",\" \") + \" (Ch {})\".format(ch), cmap = viridis, norm=LogNorm())\n",
    "\n",
    "    # plt.xlim([300,1500])\n",
    "    plt.title(\"Run {} - Channel {}\".format(run,ch), size = 14)\n",
    "    plt.xlabel(variable2plot1 + \" [\"+my_runs[1][0][\"UnitsDict\"][variable2plot1]+\"]\")\n",
    "    plt.ylabel(variable2plot2 + \" [\"+my_runs[1][0][\"UnitsDict\"][variable2plot2]+\"]\")\n",
    "    plt.show()"
   ]
  }
 ],
 "metadata": {
  "kernelspec": {
   "display_name": "Python 3",
   "language": "python",
   "name": "python3"
  },
  "language_info": {
   "codemirror_mode": {
    "name": "ipython",
    "version": 3
   },
   "file_extension": ".py",
   "mimetype": "text/x-python",
   "name": "python",
   "nbconvert_exporter": "python",
   "pygments_lexer": "ipython3",
   "version": "3.7.3"
  },
  "orig_nbformat": 4
 },
 "nbformat": 4,
 "nbformat_minor": 2
}
