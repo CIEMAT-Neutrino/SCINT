{
 "cells": [
  {
   "cell_type": "markdown",
   "metadata": {},
   "source": [
    "------------------------------------------------------------------------------------------------------------------------------------------------------\n",
    "\n",
    "## INTEGRATION NOTEBOOK\n",
    "\n",
    "\n",
    "##### PLEASE! When you are done with the tutorial, move to the ```notebooks``` folder to start your own analysis \n",
    " In this way, you will be able to keep the tutorial as a reference for future use (or others to use it).\n",
    "\n",
    "------------------------------------------------------------------------------------------------------------------------------------------------------"
   ]
  },
  {
   "cell_type": "code",
   "execution_count": null,
   "metadata": {},
   "outputs": [],
   "source": [
    "import sys; sys.path.insert(0, '../'); from lib import *;\n",
    "figure_features()"
   ]
  },
  {
   "cell_type": "code",
   "execution_count": null,
   "metadata": {},
   "outputs": [],
   "source": [
    "INPUT_FILE = \"TUTORIAL\"; OV = 1; PRESET =\"EVA\"\n",
    "info = read_input_file(INPUT_FILE)  # Read input file\n",
    "channels = [0,6]\n",
    "\n",
    "#-------------------------------- LOAD RUNS ---------------------------------#\n",
    "run_keys = [\"CALIB_RUNS\",\"LIGHT_RUNS\",\"ALPHA_RUNS\",\"MUONS_RUNS\",\"NOISE_RUNS\"]\n",
    "nruns = dict.fromkeys(run_keys)\n",
    "for key in run_keys:\n",
    "    try:               nruns[key] = info[key][OV] # Store runs in dictionary\n",
    "    except IndexError: nruns.pop(key)\n",
    "print(nruns)\n",
    "\n",
    "runs = dict.fromkeys(nruns.keys())\n",
    "for run in runs: runs[run] = load_npy(np.asarray([nruns[run]]).astype(int),np.asarray(channels).astype(int),preset=PRESET,info=info,compressed=True)\n",
    "#----------------------------------------------------------------------------#"
   ]
  }
 ],
 "metadata": {
  "language_info": {
   "name": "python"
  },
  "orig_nbformat": 4
 },
 "nbformat": 4,
 "nbformat_minor": 2
}
