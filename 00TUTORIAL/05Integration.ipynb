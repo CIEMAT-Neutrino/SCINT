{
 "cells": [
  {
   "cell_type": "markdown",
   "metadata": {},
   "source": [
    "------------------------------------------------------------------------------------------------------------------------------------------------------\n",
    "\n",
    "## INTEGRATION NOTEBOOK\n",
    "\n",
    "\n",
    "##### PLEASE! When you are done with the tutorial, move to the ```notebooks``` folder to start your own analysis \n",
    " In this way, you will be able to keep the tutorial as a reference for future use (or others to use it).\n",
    "\n",
    "------------------------------------------------------------------------------------------------------------------------------------------------------"
   ]
  },
  {
   "cell_type": "code",
   "execution_count": null,
   "metadata": {},
   "outputs": [],
   "source": [
    "import sys; sys.path.insert(0, '../'); from lib import *;\n",
    "figure_features()"
   ]
  },
  {
   "cell_type": "code",
   "execution_count": null,
   "metadata": {},
   "outputs": [],
   "source": []
  }
 ],
 "metadata": {
  "language_info": {
   "name": "python"
  },
  "orig_nbformat": 4
 },
 "nbformat": 4,
 "nbformat_minor": 2
}
