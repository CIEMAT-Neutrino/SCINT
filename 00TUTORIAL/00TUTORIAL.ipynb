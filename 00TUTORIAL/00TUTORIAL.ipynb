{
 "cells": [
  {
   "attachments": {},
   "cell_type": "markdown",
   "metadata": {},
   "source": [
    "------------------------------------------------------------------------------------------------------------------------------------------------------\n",
    "\n",
    "# SCINT (for begginers)\n",
    "\n",
    "This is a python library to process and analyse raw data from the IR02 lab.\n",
    "\n",
    "Access the [DOCUMENTATION](https://scint.readthedocs.io/en/latest/index.html) for more information.\n",
    "\n",
    "You have cloned the repository into a local directory and you are ready to start. \n",
    "\n",
    "### PLEASE! When you are done with the tutorial, move to the ```notebooks``` folder to start your own analysis \n",
    "\n",
    "In this way, you will be able to keep the tutorial as a reference for future use (or others to use it).\n",
    "\n",
    "------------------------------------------------------------------------------------------------------------------------------------------------------"
   ]
  },
  {
   "attachments": {},
   "cell_type": "markdown",
   "metadata": {},
   "source": [
    "- - -\n",
    "## STEP 0: prepare the environment\n",
    "\n",
    "- - -\n",
    "1. INSTALL:\n",
    "- **VSCode with extensions (Remote-SSH, Jupyter, vscode-numpy-viewer, Python Environment Manager)**\n",
    "- python + pip3\n",
    "\n",
    "2. VIRTUAL ENVIROMENT to install all the packages we need there:\n",
    "- **VSCode venv extension. It will recomend you the ```/scripts/requirements.txt``` packages and it will automatially install them :)**\n",
    "\n",
    "- At CIEMAT:\n",
    "    ```bash\n",
    "    mkdir venv_python3.7\n",
    "    cd venv_python3.7\n",
    "    /cvmfs/sft.cern.ch/lcg/releases/Python/3.7.3-f4f57/x86_64-centos7-gcc7-opt/bin/python3 -m venv .\n",
    "    source bin/activate\n",
    "    ```\n",
    "\n",
    "    ACTIVATE THE VENV and install the packages needed for the macros:\n",
    "    ```bash\n",
    "    source venv_python3.7/bin/activate\n",
    "    cd SCINT/scripts\n",
    "    sh setup.sh \n",
    "    ```\n",
    "- - -\n",
    "\n",
    "For start running the code you can:\n",
    "\n",
    "### 1) FROM CIEMAT: connect to gaeuidc1.ciemat.es and run with the configuration set in ```input/TUTORIAL.txt``` (i.e. your data will be stored in ```/pc/choozdsk01/palomare/SCINT/TUTORIAL/```)\n",
    "\n",
    "2) Less optimal option is to have the data locally\n",
    "\n",
    "    a) Download the data\n",
    "    ```bash\n",
    "    sh copy_data.sh AFS_USER\n",
    "    ```\n",
    "\n",
    "    b) Mount in an empty data folder the ```TUTORIAL```:\n",
    "    ```bash\n",
    "    sshfs AFS_USER@pcaeXYZ.ciemat.es:/pc/choozdsk01/palomare/SCINT/TUTORIAL/ ../data\n",
    "    ```\n",
    "- - -\n"
   ]
  },
  {
   "cell_type": "markdown",
   "metadata": {},
   "source": [
    "## STEP 1: understand the library"
   ]
  },
  {
   "cell_type": "markdown",
   "metadata": {},
   "source": [
    "Once you have setup the environment, you can start to play with the library. You can see different folders:\n",
    "```bash\n",
    "00TUTORIAL -> this folder contains a tutorial notebook (this one) and template notebooks you can use as reference\n",
    "input      -> input files needed to run the macros\n",
    "lib        -> all the functions of the library itself\n",
    "macros     -> macros to run the analysis. The are sorted by order of execution\n",
    "notebooks  -> notebooks to run the analysis, PREPARED TO BE CHANGED AND NOT UPDATED IN THE REPOSITORY\n",
    "```"
   ]
  },
  {
   "cell_type": "markdown",
   "metadata": {},
   "source": [
    "Everytime you run a macro you can choose two options: \n",
    "1) Run it in the `guide` mode and the macro will ask you for the input variables needed (see an example for the input file)\n",
    "\n",
    "<img src=\"images/starting_macro.png\" alt=\"start\"/>\n",
    "\n",
    "2) Once you are sure about the variables to use you can run the macro with the defined flags:\n",
    "\n",
    "```python\n",
    "-h or --help\n",
    "-i or --input_file\n",
    "-l or --load_preset\n",
    "-s or --save_preset\n",
    "-k or --key\n",
    "-v or --variables\n",
    "-r or --runs\n",
    "-c or --channels\n",
    "-f or --filter\n",
    "-d or --debug\n",
    "```\n",
    "\n",
    "### **Time to start the tutorial!**\n",
    "\n",
    "----"
   ]
  },
  {
   "attachments": {},
   "cell_type": "markdown",
   "metadata": {},
   "source": [
    "## STEP 2: process the raw data\n"
   ]
  },
  {
   "attachments": {},
   "cell_type": "markdown",
   "metadata": {},
   "source": [
    "```bash\n",
    "cd macros\n",
    "python3 00Raw2Np.py        (-i TUTORIAL -d y)\n",
    "```\n",
    "<img src=\"images/00Raw2Np.png\" alt=\"Raw2Np\"/>\n"
   ]
  },
  {
   "attachments": {},
   "cell_type": "markdown",
   "metadata": {},
   "source": [
    "```bash\n",
    "python3 01PreProcess.py     (-i TUTORIAL -k RawADC -d y)\n",
    "```\n",
    "<img src=\"images/01PreProcess.png\" alt=\"PreProcess\"/>"
   ]
  },
  {
   "attachments": {},
   "cell_type": "markdown",
   "metadata": {},
   "source": [
    "```bash\n",
    "python3 02AnaProcess.py     (-i TUTORIAL -k AnaADC -d y)\n",
    "```\n",
    "<img src=\"images/02Process.png\" alt=\"Process\"/>"
   ]
  },
  {
   "cell_type": "markdown",
   "metadata": {},
   "source": [
    "```bash\n",
    "python3 03Integration.py     (-i TUTORIAL -k RawADC -d y)\n",
    "```\n",
    "\n",
    "<img src=\"images/03Integration.png\" alt=\"Integration\"/>"
   ]
  },
  {
   "attachments": {},
   "cell_type": "markdown",
   "metadata": {},
   "source": [
    "## STEP 2: visualize data"
   ]
  },
  {
   "cell_type": "code",
   "execution_count": null,
   "metadata": {},
   "outputs": [],
   "source": [
    "# The first line in every macro should be the following for importing all the packages\n",
    "import sys; sys.path.insert(0, '../'); from lib import *;\n",
    "figure_features()"
   ]
  },
  {
   "cell_type": "code",
   "execution_count": null,
   "metadata": {},
   "outputs": [],
   "source": [
    "# Set options for general visualitation\n",
    "OPT  = {\n",
    "    \"MICRO_SEC\":   True,                # Time in microseconds (True/False)\n",
    "    \"NORM\":        False,               # Runs can be displayed normalised (True/False)\n",
    "    \"ALIGN\":       True,                # Aligns waveforms in peaktime (True/False)\n",
    "    \"LOGY\":        False,               # Runs can be displayed in logy (True/False)\n",
    "    \"SHOW_AVE\":    \"\",                  # If computed, vis will show average (AveWvf,AveWvfSPE,etc.)\n",
    "    \"SHOW_PARAM\":  False,               # Print terminal information (True/False)\n",
    "    \"CHARGE_KEY\":  \"ChargeAveRange\",    # Select charge info to be displayed. Default: \"ChargeAveRange\" (if computed)\n",
    "    \"PEAK_FINDER\": False,               # Finds possible peaks in the window (True/False)\n",
    "    \"LEGEND\":      True,                # Shows plot legend (True/False)\n",
    "    \"SHOW\":        True\n",
    "    }"
   ]
  },
  {
   "cell_type": "code",
   "execution_count": null,
   "metadata": {},
   "outputs": [],
   "source": [
    "INPUT_FILE = \"TUTORIAL\"; OV = 1; PRESET =\"EVA\"\n",
    "info = read_input_file(INPUT_FILE)  # Read input file\n",
    "channels = [0,6]\n",
    "\n",
    "#-------------------------------- LOAD RUNS ---------------------------------#\n",
    "run_keys = [\"CALIB_RUNS\",\"LIGHT_RUNS\",\"ALPHA_RUNS\",\"MUONS_RUNS\",\"NOISE_RUNS\"]\n",
    "nruns = dict.fromkeys(run_keys)\n",
    "for key in run_keys:\n",
    "    try:               nruns[key] = info[key][OV] # Store runs in dictionary\n",
    "    except IndexError: nruns.pop(key)\n",
    "print(nruns)\n",
    "\n",
    "runs = dict.fromkeys(nruns.keys())\n",
    "for run in runs: runs[run] = load_npy(np.asarray([nruns[run]]).astype(int),np.asarray(channels).astype(int),preset=PRESET,info=info,compressed=True)\n",
    "#----------------------------------------------------------------------------#\n",
    "\n",
    "time = np.arange(len(runs[list(nruns.keys())[0]][runs[list(nruns.keys())[0]][\"NRun\"][0]][channels[0]][\"AnaAveWvf\"][0]))*4e-9"
   ]
  },
  {
   "attachments": {},
   "cell_type": "markdown",
   "metadata": {},
   "source": [
    "## INDIVIDUAL EVENTS\n",
    "\n",
    "By running the next function you can dynamically visualize the RAW events of the selected run to see everything is OK.\n",
    "\n",
    "(In future versions we will make possible to visualize any kind of event with the same function.)\n",
    "\n",
    "\n",
    "\n",
    "```bash\n",
    "%run run ../macros/0UVisEvent.py\n",
    "```\n",
    "\n",
    "And then browse your ```waveW.dat``` file (or the preprocessed one ```RawADC.npz```) to see the events. You can go to the next one or the previus one with the arrows."
   ]
  },
  {
   "cell_type": "code",
   "execution_count": null,
   "metadata": {},
   "outputs": [],
   "source": [
    "%run ../macros/0UVisEvent.py"
   ]
  },
  {
   "cell_type": "markdown",
   "metadata": {},
   "source": [
    "Check also ``EventDisplay.ipynb``"
   ]
  },
  {
   "attachments": {},
   "cell_type": "markdown",
   "metadata": {},
   "source": [
    "## NOISE "
   ]
  },
  {
   "cell_type": "code",
   "execution_count": null,
   "metadata": {},
   "outputs": [],
   "source": [
    "noise = runs[\"NOISE_RUNS\"][runs[\"NOISE_RUNS\"][\"NRun\"][0]][channels[0]][\"AnaAveWvf\"][0]\n",
    "sp    = np.fft.rfft(noise)\n",
    "freq  = np.fft.rfftfreq(len(time), d = 4e-9)\n",
    "\n",
    "fig = px.line(x=freq, y=sp.imag)\n",
    "custom_plotly_layout(fig, title='FFT', xaxis_title='Frequency [Hz]', yaxis_title='FFT').show()\n"
   ]
  },
  {
   "cell_type": "markdown",
   "metadata": {},
   "source": [
    "Check also ``Noise.ipynb`` and ``PeakPedVariables.ipynb``"
   ]
  },
  {
   "attachments": {},
   "cell_type": "markdown",
   "metadata": {},
   "source": [
    "## LASER"
   ]
  },
  {
   "cell_type": "code",
   "execution_count": null,
   "metadata": {},
   "outputs": [],
   "source": [
    "LASER = []\n",
    "for c,ch in enumerate(channels):\n",
    "    laser = runs[\"LIGHT_RUNS\"][runs[\"LIGHT_RUNS\"][\"NRun\"][0]][channels[c]][\"AnaAveWvf\"][0]\n",
    "    laser = laser / np.max(laser)\n",
    "    \n",
    "    ref_max_idx = np.argmax(laser)\n",
    "    idx_move    = np.argmax(laser)\n",
    "    laser       = shift(laser, ref_max_idx-idx_move, cval = 0)\n",
    "\n",
    "    LASER.append(laser)\n",
    "    \n",
    "df_laser = pd.DataFrame({\"Time\":time,\"Laser_ch0\":LASER[0],\"Laser_ch6\":LASER[1]})"
   ]
  },
  {
   "cell_type": "code",
   "execution_count": null,
   "metadata": {},
   "outputs": [],
   "source": [
    "fig_laser = px.line(df_laser, x=\"Time\", y=[\"Laser_ch0\",\"Laser_ch6\"], height=700, width = 900, line_shape = \"hv\", log_y = False, template=\"presentation\")\n",
    "fig_laser.update_traces(line_width=2) # Modifica el grosor de las líneas\n",
    "custom_legend_name(fig_laser,[\"Laser (SiPM)\",\"Laser (XA)\"])\n",
    "custom_plotly_layout(fig_laser,\"Time\",\"Normalized ADC\",\"Laser signals\").show()"
   ]
  },
  {
   "attachments": {},
   "cell_type": "markdown",
   "metadata": {},
   "source": [
    "## ALPHA"
   ]
  },
  {
   "cell_type": "code",
   "execution_count": null,
   "metadata": {},
   "outputs": [],
   "source": [
    "ALPHA = []\n",
    "for c,ch in enumerate(channels):\n",
    "    alpha = runs[\"ALPHA_RUNS\"][runs[\"ALPHA_RUNS\"][\"NRun\"][0]][channels[c]][\"AnaAveWvf\"][0]\n",
    "    alpha = alpha / np.max(alpha)\n",
    "\n",
    "    ref_max_idx = np.argmax(alpha)\n",
    "    idx_move    = np.argmax(alpha)\n",
    "    alpha       = shift(alpha, ref_max_idx-idx_move, cval = 0)\n",
    "    ALPHA.append(alpha)\n",
    "\n",
    "\n",
    "df_alpha = pd.DataFrame({\"Time\":time,\"Alpha_ch0\":ALPHA[0],\"Alpha_ch6\":ALPHA[1]})"
   ]
  },
  {
   "cell_type": "code",
   "execution_count": null,
   "metadata": {},
   "outputs": [],
   "source": [
    "fig_alpha = px.line(df_alpha, x=\"Time\", y=[\"Alpha_ch0\",\"Alpha_ch6\"], height=700, width = 900, line_shape = \"hv\", log_y = False, template=\"presentation\")\n",
    "fig_alpha.update_traces(line_width=2) # Modifica el grosor de las líneas\n",
    "custom_legend_name(fig_alpha,[\"Alpha (SiPM)\", \"Alpha (XA)\"])\n",
    "custom_plotly_layout(fig_alpha,\"Time\",\"Normalized ADC\",\"Alpha signals\").show()"
   ]
  },
  {
   "cell_type": "markdown",
   "metadata": {},
   "source": [
    "Check also ``AverageWvfs.ipynb``"
   ]
  },
  {
   "attachments": {},
   "cell_type": "markdown",
   "metadata": {},
   "source": [
    "## PedSTD"
   ]
  },
  {
   "cell_type": "code",
   "execution_count": null,
   "metadata": {},
   "outputs": [],
   "source": [
    "alpha_runs = runs[\"ALPHA_RUNS\"][runs[\"ALPHA_RUNS\"][\"NRun\"]]\n",
    "my_runs_alpha = load_npy(np.asarray(alpha_runs).astype(int),np.asarray(channels).astype(int),preset=\"ALL\",info=info,compressed=True)\n",
    "cut_dict = {'cut_df': [True,[[[\"0\"],\"AnaPeakTime\",\"bigger_than\",700,False]]], 'cut_lin_rel': [False,[]], 'cut_peak_finder': [False,[]]}\n",
    "label, my_runs_alpha = cut_selector(my_runs_alpha, {'runs': ['25'], 'input_file': ['TUTORIAL'], 'filter':cut_dict,'debug': True, 'channels': ['0']}, debug=True)\n",
    "average_wvfs(my_runs_alpha, key=\"RawADC\", label=\"Ana\",cut_label=\"Pedestal\", centering=\"NONE\", debug=True)\n",
    "\n",
    "print(my_runs_alpha[alpha_runs[0]][channels[0]].keys())\n",
    "AlphaNoise = my_runs_alpha[alpha_runs[0]][channels[0]][\"AnaAveWvfPedestal\"][0]\n",
    "df_alphanoise = pd.DataFrame({\"Time\":time,\"AlphaNoise\":AlphaNoise})"
   ]
  },
  {
   "cell_type": "code",
   "execution_count": null,
   "metadata": {},
   "outputs": [],
   "source": [
    "fig_alphanoise = px.line(df_alphanoise, x=\"Time\", y=[\"AlphaNoise\"], height=700, width = 900, line_shape = \"hv\", log_y = False, template=\"presentation\")\n",
    "fig_alphanoise.update_traces(line_width=2) # Modifica el grosor de las líneas\n",
    "custom_legend_name(fig_alphanoise,[\"AlphaNoise (SiPM)\"])\n",
    "custom_plotly_layout(fig_alphanoise,\"\",\"Normalized ADC\",\"Alpha Noise\").show()"
   ]
  }
 ],
 "metadata": {
  "kernelspec": {
   "display_name": "Python 3",
   "language": "python",
   "name": "python3"
  },
  "language_info": {
   "codemirror_mode": {
    "name": "ipython",
    "version": 3
   },
   "file_extension": ".py",
   "mimetype": "text/x-python",
   "name": "python",
   "nbconvert_exporter": "python",
   "pygments_lexer": "ipython3",
   "version": "3.7.3"
  },
  "orig_nbformat": 4
 },
 "nbformat": 4,
 "nbformat_minor": 2
}
