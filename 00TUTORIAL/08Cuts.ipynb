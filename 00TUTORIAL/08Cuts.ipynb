{
 "cells": [
  {
   "cell_type": "markdown",
   "metadata": {},
   "source": [
    "------------------------------------------------------------------------------------------------------------------------------------------------------\n",
    "\n",
    "## CUTTING NOTEBOOK\n",
    "\n",
    "\n",
    "##### PLEASE! When you are done with the tutorial, move to the ```notebooks``` folder to start your own analysis \n",
    " In this way, you will be able to keep the tutorial as a reference for future use (or others to use it).\n",
    "\n",
    "------------------------------------------------------------------------------------------------------------------------------------------------------"
   ]
  },
  {
   "cell_type": "code",
   "execution_count": null,
   "metadata": {},
   "outputs": [],
   "source": [
    "import sys; sys.path.insert(0, '../'); from lib import *;\n",
    "figure_features()"
   ]
  },
  {
   "cell_type": "code",
   "execution_count": null,
   "metadata": {},
   "outputs": [],
   "source": [
    "# Set options for general visualitation\n",
    "OPT  = {\n",
    "    \"MICRO_SEC\":   True,                # Time in microseconds (True/False)\n",
    "    \"NORM\":        False,               # Runs can be displayed normalised (True/False)\n",
    "    \"ALIGN\":       True,                # Aligns waveforms in peaktime (True/False)\n",
    "    \"LOGY\":        False,               # Runs can be displayed in logy (True/False)\n",
    "    \"SHOW_AVE\":    \"\",                  # If computed, vis will show average (AveWvf,AveWvfSPE,etc.)\n",
    "    \"SHOW_PARAM\":  False,               # Print terminal information (True/False)\n",
    "    \"CHARGE_KEY\":  \"ChargeAveRange\",    # Select charge info to be displayed. Default: \"ChargeAveRange\" (if computed)\n",
    "    \"PEAK_FINDER\": False,               # Finds possible peaks in the window (True/False)\n",
    "    \"LEGEND\":      True,                # Shows plot legend (True/False)\n",
    "    \"SHOW\":        True\n",
    "    }"
   ]
  },
  {
   "cell_type": "code",
   "execution_count": null,
   "metadata": {},
   "outputs": [],
   "source": [
    "INPUT_FILE = \"TUTORIAL\"; OV = 1; PRESET =\"EVA\"\n",
    "info = read_input_file(INPUT_FILE)  # Read input file\n",
    "channels = [0,6]\n",
    "\n",
    "#-------------------------------- LOAD RUNS ---------------------------------#\n",
    "run_keys = [\"CALIB_RUNS\",\"LIGHT_RUNS\",\"ALPHA_RUNS\",\"MUONS_RUNS\",\"NOISE_RUNS\"]\n",
    "nruns = dict.fromkeys(run_keys)\n",
    "for key in run_keys:\n",
    "    try:               nruns[key] = info[key][OV] # Store runs in dictionary\n",
    "    except IndexError: nruns.pop(key)\n",
    "print(nruns)\n",
    "\n",
    "runs = dict.fromkeys(nruns.keys())\n",
    "for run in runs: runs[run] = load_npy(np.asarray([nruns[run]]).astype(int),np.asarray(channels).astype(int),preset=PRESET,info=info,compressed=True)\n",
    "#----------------------------------------------------------------------------#\n",
    "\n",
    "time = np.arange(len(runs[list(nruns.keys())[0]][runs[list(nruns.keys())[0]][\"NRun\"][0]][channels[0]][\"AnaAveWvf\"][0]))*4e-9"
   ]
  },
  {
   "cell_type": "code",
   "execution_count": null,
   "metadata": {},
   "outputs": [],
   "source": [
    "my_runs_alpha = load_npy(np.asarray(runs[\"ALPHA_RUNS\"][runs[\"ALPHA_RUNS\"][\"NRun\"]]).astype(int),np.asarray(channels).astype(int),preset=\"ALL\",info=info,compressed=True)\n",
    "cut_dict = {'cut_df': [True,[[[\"0\"],\"AnaPeakTime\",\"bigger_than\",1000,False]]], 'cut_lin_rel': [False,[]], 'cut_peak_finder': [False,[]]}\n",
    "label, my_runs_alpha = cut_selector(my_runs_alpha, {'runs': ['25'], 'input_file': ['TUTORIAL'], 'filter':cut_dict,'debug': True, 'channels': ['0']}, debug=True)\n",
    "average_wvfs(my_runs_alpha, key=\"RawADC\", label=\"Ana\",cut_label=\"Pedestal\", centering=\"NONE\", debug=True)"
   ]
  }
 ],
 "metadata": {
  "language_info": {
   "name": "python"
  },
  "orig_nbformat": 4
 },
 "nbformat": 4,
 "nbformat_minor": 2
}
