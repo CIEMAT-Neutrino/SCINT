{
 "cells": [
  {
   "cell_type": "markdown",
   "metadata": {},
   "source": [
    "------------------------------------------------------------------------------------------------------------------------------------------------------\n",
    "\n",
    "## CROSSTALK NOTEBOOK\n",
    "\n",
    "\n",
    "##### PLEASE! When you are done with the tutorial, move to the ```notebooks``` folder to start your own analysis \n",
    " In this way, you will be able to keep the tutorial as a reference for future use (or others to use it).\n",
    "\n",
    "------------------------------------------------------------------------------------------------------------------------------------------------------"
   ]
  },
  {
   "cell_type": "code",
   "execution_count": 2,
   "metadata": {},
   "outputs": [
    {
     "name": "stdout",
     "output_type": "stream",
     "text": [
      "Welcome to JupyROOT 6.28/00\n",
      "You have latex installed!. Applying default configuration (tex=True)\n"
     ]
    }
   ],
   "source": [
    "import sys; sys.path.insert(0, '../'); from lib import *;\n",
    "figure_features()"
   ]
  },
  {
   "cell_type": "code",
   "execution_count": 3,
   "metadata": {},
   "outputs": [],
   "source": [
    "# Set options for general visualitation\n",
    "OPT  = {\n",
    "    \"MICRO_SEC\":   True,                # Time in microseconds (True/False)\n",
    "    \"NORM\":        False,               # Runs can be displayed normalised (True/False)\n",
    "    \"ALIGN\":       True,                # Aligns waveforms in peaktime (True/False)\n",
    "    \"LOGY\":        False,               # Runs can be displayed in logy (True/False)\n",
    "    \"SHOW_AVE\":    \"\",                  # If computed, vis will show average (AveWvf,AveWvfSPE,etc.)\n",
    "    \"SHOW_PARAM\":  False,               # Print terminal information (True/False)\n",
    "    \"CHARGE_KEY\":  \"ChargeAveRange\",    # Select charge info to be displayed. Default: \"ChargeAveRange\" (if computed)\n",
    "    \"PEAK_FINDER\": False,               # Finds possible peaks in the window (True/False)\n",
    "    \"LEGEND\":      True,                # Shows plot legend (True/False)\n",
    "    \"SHOW\":        True\n",
    "    }"
   ]
  },
  {
   "cell_type": "code",
   "execution_count": 4,
   "metadata": {},
   "outputs": [],
   "source": [
    "info           = read_input_file(\"TUTORIAL\") # Read input file\n",
    "calib_runs     = [ 1]                        # Calibration runs\n",
    "laser_runs     = [ 9]                        # Laser runs\n",
    "alpha_runs     = [25]                        # Alpha runs\n",
    "muons_runs     = [29]                        # Muons runs\n",
    "noise_runs     = [128]                       # Noise runs\n",
    "\n",
    "channels = [0,6]"
   ]
  },
  {
   "cell_type": "code",
   "execution_count": 5,
   "metadata": {},
   "outputs": [
    {
     "name": "stdout",
     "output_type": "stream",
     "text": [
      "\u001b[92mload_npy --> DONE!\n",
      "\u001b[0m\n",
      "\u001b[92mload_npy --> DONE!\n",
      "\u001b[0m\n"
     ]
    }
   ],
   "source": [
    "my_runs_calib = load_npy(np.asarray(calib_runs).astype(int),np.asarray(channels).astype(int),preset=\"EVA\",info=info,compressed=True)\n",
    "\n",
    "time_wvf = np.arange(len(my_runs_calib[calib_runs[0]][channels[0]][\"AnaAveWvf\"][0]))*4e-9\n",
    "time_all = np.arange(len(my_runs_calib[calib_runs[0]][channels[0]][\"TimeStamp\"]))*4e-9"
   ]
  },
  {
   "cell_type": "markdown",
   "metadata": {},
   "source": [
    "# Vinogradov model (Poisson+Binomial distribution)"
   ]
  },
  {
   "cell_type": "code",
   "execution_count": 6,
   "metadata": {},
   "outputs": [],
   "source": [
    "def fit_gaussians(x, y, *p0):\n",
    "    assert x.shape == y.shape, \"Input arrays must have the same shape.\"\n",
    "    popt, pcov = curve_fit(gaussian_train, x,y, p0=p0[0])\n",
    "    fit_y=gaussian_train(x,*popt)\n",
    "    chi_squared = np.sum((y[abs(fit_y)>0.1] - fit_y[abs(fit_y)>0.1]) ** 2 / fit_y[abs(fit_y)>0.1]) / (y.size - len(popt))\n",
    "    return popt,fit_y, chi_squared\n"
   ]
  },
  {
   "cell_type": "code",
   "execution_count": 7,
   "metadata": {},
   "outputs": [
    {
     "name": "stdout",
     "output_type": "stream",
     "text": [
      "FOUNDED PEAKS: (array([30, 56]), {'peak_heights': array([1179.,  361.]), 'prominences': array([1179.,  145.]), 'left_bases': array([ 6, 48]), 'right_bases': array([195, 195]), 'widths': array([14.23659122,  7.84615385]), 'width_heights': array([589.5, 288.5]), 'left_ips': array([24.17549669, 50.75      ]), 'right_ips': array([38.41208791, 58.59615385])})\n"
     ]
    },
    {
     "name": "stderr",
     "output_type": "stream",
     "text": [
      "/home/laura/.local/lib/python3.8/site-packages/scipy/optimize/_minpack_py.py:881: OptimizeWarning:\n",
      "\n",
      "Covariance of the parameters could not be estimated\n",
      "\n"
     ]
    },
    {
     "ename": "NameError",
     "evalue": "name 'Bins' is not defined",
     "output_type": "error",
     "traceback": [
      "\u001b[0;31m---------------------------------------------------------------------------\u001b[0m",
      "\u001b[0;31mNameError\u001b[0m                                 Traceback (most recent call last)",
      "\u001b[1;32m/home/laura/Analysis_Laura/SCINT/00TUTORIAL/Cross-talk.ipynb Cell 8\u001b[0m line \u001b[0;36m2\n\u001b[1;32m     <a href='vscode-notebook-cell:/home/laura/Analysis_Laura/SCINT/00TUTORIAL/Cross-talk.ipynb#X10sZmlsZQ%3D%3D?line=26'>27</a>\u001b[0m \u001b[39m# 1st Plot: gaussian fits\u001b[39;00m\n\u001b[1;32m     <a href='vscode-notebook-cell:/home/laura/Analysis_Laura/SCINT/00TUTORIAL/Cross-talk.ipynb#X10sZmlsZQ%3D%3D?line=27'>28</a>\u001b[0m plt\u001b[39m.\u001b[39mfigure(dpi\u001b[39m=\u001b[39m\u001b[39m200\u001b[39m,figsize\u001b[39m=\u001b[39m(\u001b[39m5\u001b[39m,\u001b[39m3\u001b[39m))\n\u001b[0;32m---> <a href='vscode-notebook-cell:/home/laura/Analysis_Laura/SCINT/00TUTORIAL/Cross-talk.ipynb#X10sZmlsZQ%3D%3D?line=28'>29</a>\u001b[0m plt\u001b[39m.\u001b[39mhist(my_runs_calib[calib_runs[\u001b[39m0\u001b[39m]][\u001b[39m0\u001b[39m][\u001b[39m\"\u001b[39m\u001b[39mAnaChargePedRange1\u001b[39m\u001b[39m\"\u001b[39m]\u001b[39m*\u001b[39mfactor2PE,bins\u001b[39m=\u001b[39mBins,\u001b[39mrange\u001b[39m\u001b[39m=\u001b[39mr,histtype\u001b[39m=\u001b[39m\u001b[39m\"\u001b[39m\u001b[39mstep\u001b[39m\u001b[39m\"\u001b[39m,label\u001b[39m=\u001b[39m\u001b[39m\"\u001b[39m\u001b[39mData\u001b[39m\u001b[39m\"\u001b[39m,linewidth\u001b[39m=\u001b[39m\u001b[39m1.5\u001b[39m)\n\u001b[1;32m     <a href='vscode-notebook-cell:/home/laura/Analysis_Laura/SCINT/00TUTORIAL/Cross-talk.ipynb#X10sZmlsZQ%3D%3D?line=29'>30</a>\u001b[0m plt\u001b[39m.\u001b[39mxlim([\u001b[39m-\u001b[39m\u001b[39m1\u001b[39m,\u001b[39m7\u001b[39m]) \n\u001b[1;32m     <a href='vscode-notebook-cell:/home/laura/Analysis_Laura/SCINT/00TUTORIAL/Cross-talk.ipynb#X10sZmlsZQ%3D%3D?line=30'>31</a>\u001b[0m plt\u001b[39m.\u001b[39mplot(bins[peaks[\u001b[39m0\u001b[39m]],peaks[\u001b[39m1\u001b[39m][\u001b[39m\"\u001b[39m\u001b[39mpeak_heights\u001b[39m\u001b[39m\"\u001b[39m],\u001b[39m\"\u001b[39m\u001b[39mx\u001b[39m\u001b[39m\"\u001b[39m,label\u001b[39m=\u001b[39m\u001b[39m\"\u001b[39m\u001b[39mPeaks\u001b[39m\u001b[39m\"\u001b[39m)\n",
      "\u001b[0;31mNameError\u001b[0m: name 'Bins' is not defined"
     ]
    },
    {
     "data": {
      "text/plain": [
       "<Figure size 1000x600 with 0 Axes>"
      ]
     },
     "metadata": {},
     "output_type": "display_data"
    }
   ],
   "source": [
    "# file_CT=[];\n",
    "debug = True\n",
    "factor2PE = 1/3.48e2 # GAIN IN ADC*ticks TO CONVER CHARGE INTO PE\n",
    "my_bins   = 350\n",
    "my_range  = [-1,10]\n",
    "\n",
    "#get counts\n",
    "counts,bins= np.histogram(my_runs_calib[calib_runs[0]][0][\"AnaChargePedRange1\"]*factor2PE,my_bins,my_range);#need to convert to PE\n",
    "# plt.hist(my_runs_calib[calib_runs[0]][0][\"AnaChargePedRange1\"]*factor2PE,bins=my_bins,histtype=\"step\",label=\"Data\",linewidth=1.5)\n",
    "\n",
    "#find peaks\n",
    "peaks = find_peaks(counts,height=150,width=4,distance=int(my_bins/((my_range[1]-my_range[0])*1.2))  )\n",
    "print(\"FOUNDED PEAKS:\", peaks)\n",
    "\n",
    "# right limit:(supossing same space between peaks, prevents adding more gaussians that the ones considered to be fitted)\n",
    "r_lim = peaks[0][-1]+ int (((peaks[0][-1]-peaks[0][-2]))/2)\n",
    "l_lim = peaks[0][ 0]- int (((peaks[0][ 1]-peaks[0][ 0]))/2)\n",
    "\n",
    "params       = np.zeros(len(peaks[0])*3)\n",
    "params[0::3] = peaks[1][\"peak_heights\"]\n",
    "params[1::3] = bins[peaks[0]]\n",
    "params[2::3] = 0.5\n",
    "\n",
    "my_vars,fit_y,qs = fit_gaussians(bins[:-1][l_lim:r_lim],counts[l_lim:r_lim],params)\n",
    "\n",
    "\n",
    "# 1st Plot: gaussian fits\n",
    "plt.figure(dpi=200,figsize=(5,3))\n",
    "plt.hist(my_runs_calib[calib_runs[0]][0][\"AnaChargePedRange1\"]*factor2PE,bins=Bins,range=r,histtype=\"step\",label=\"Data\",linewidth=1.5)\n",
    "plt.xlim([-1,7]) \n",
    "plt.plot(bins[peaks[0]],peaks[1][\"peak_heights\"],\"x\",label=\"Peaks\")\n",
    "plt.plot(bins[:-1][l_lim:r_lim] +(bins[1]-bins[0])/2  ,fit_y,'--',color=\"red\",label=\"Best fit\")        \n",
    "plt.legend(fontsize=10)\n",
    "plt.xlabel(my_runs_calib[calib_runs[0]][0][\"Label\"] +\" Charge [PEs]\")\n",
    "plt.ylabel(\"Counts\")\n",
    "plt.grid()\n",
    "\n",
    "#Compute Gaussian areas\n",
    "Amp=vars[0::3]\n",
    "sigma=np.abs(vars[2::3])\n",
    "\n",
    "#prob is proportional to A*sigma (sqrt(2pi))\n",
    "PNs=Amp*sigma/sum(Amp*sigma)\n",
    "\n",
    "#assuming error propt to sqrt(N)\n",
    "PNs_err=(Amp*sigma)**0.5/sum(Amp*sigma)\n",
    "\n",
    "if debug:\n",
    "    print(\"Amplitude:\" ,Amp)\n",
    "    print(\"Sigma: \",sigma)\n",
    "    print(\"PNs: \", PNs)\n",
    "    print(\"PNs_error: \",PNs_err)\n",
    "\n",
    "P0 = PNs[0]\n",
    "P1 = PNs[1]\n",
    "l  = -np.log(P0)\n",
    "p  = 1-P1/(l*P0)\n",
    "print(\"Initial vars:\",p,\"\\t\",l)\n",
    "\n",
    "# 2nd plot, Vinogradov fit\n",
    "fig, ax = plt.subplots(1,dpi=200,figsize=(5,3))\n",
    "plt.xlim([-.5,5.5]) \n",
    "# Get the peaks that were fitted\n",
    "a     = np.arange(my_bins)*(my_range[1]-my_range[0])/my_bins\n",
    "b     = a[peaks[0]]-1\n",
    "xdata = b.round().astype(int).tolist()\n",
    "if debug: print(b,xdata)\n",
    "\n",
    "\n",
    "plt.errorbar(x=xdata,y=PNs,yerr=PNs_err, color=\"k\",linestyle=\"none\",marker=\"s\",markersize=2,capsize=2,)\n",
    "plt.bar(np.array(xdata),PNs,label=\"Data\",width=0.4)\n",
    "\n",
    "p0 = [p,l]\n",
    "popt, pcov = curve_fit(PoissonPlusBinomial, xdata,PNs,sigma=PNs_err, p0=p0)\n",
    "plt.plot(xdata, PoissonPlusBinomial(xdata, *popt), 'x',label=\"Fit: CT=\" +str(int(popt[0]*100)) +\"%\",color=\"red\")\n",
    "\n",
    "plt.ylabel(\"Counts [Density]\")\n",
    "plt.xlabel(\"N. of photoelectrons\")\n",
    "plt.legend(fontsize=10)\n",
    "# Display also the ideal poisson dist\n",
    "ideal=poisson.pmf(xdata, mu=popt[1])\n",
    "plt.bar(np.array(xdata)+.3,ideal,width=.3)\n",
    "\n",
    "print(\"Fitted vars: \",popt)\n",
    "perr = np.sqrt(np.diag(pcov))\n",
    "print(\"Rel Error: \", perr/popt*100)\n",
    "\n",
    "#save values to file\n",
    "# file_CT.append([OV,popt[0],perr[0]])\n",
    "# arr = np.asarray(file_CT)\n",
    "# np.savetxt('CT_'+WEEK+\"_CH_\"+Calib_run[\"ChannelName\"][Chan_dic[ch]]+ '_.csv',arr, delimiter=\",\")  "
   ]
  },
  {
   "cell_type": "markdown",
   "metadata": {},
   "source": [
    "## Demostration plot: poisson vs poisson+binomial"
   ]
  },
  {
   "cell_type": "code",
   "execution_count": null,
   "metadata": {},
   "outputs": [
    {
     "ename": "NameError",
     "evalue": "name 'poisson' is not defined",
     "output_type": "error",
     "traceback": [
      "\u001b[0;31m---------------------------------------------------------------------------\u001b[0m",
      "\u001b[0;31mNameError\u001b[0m                                 Traceback (most recent call last)",
      "\u001b[1;32m/home/laura/Analysis_Laura/SCINT/00TUTORIAL/Cross-talk.ipynb Cell 10\u001b[0m line \u001b[0;36m2\n\u001b[1;32m      <a href='vscode-notebook-cell:/home/laura/Analysis_Laura/SCINT/00TUTORIAL/Cross-talk.ipynb#X12sZmlsZQ%3D%3D?line=0'>1</a>\u001b[0m L\u001b[39m=\u001b[39m\u001b[39m5\u001b[39m\n\u001b[0;32m----> <a href='vscode-notebook-cell:/home/laura/Analysis_Laura/SCINT/00TUTORIAL/Cross-talk.ipynb#X12sZmlsZQ%3D%3D?line=1'>2</a>\u001b[0m x\u001b[39m=\u001b[39mpoisson\u001b[39m.\u001b[39mpmf(\u001b[39mrange\u001b[39m(\u001b[39m20\u001b[39m), mu\u001b[39m=\u001b[39mL)\n\u001b[1;32m      <a href='vscode-notebook-cell:/home/laura/Analysis_Laura/SCINT/00TUTORIAL/Cross-talk.ipynb#X12sZmlsZQ%3D%3D?line=3'>4</a>\u001b[0m plt\u001b[39m.\u001b[39mfigure(dpi\u001b[39m=\u001b[39m\u001b[39m200\u001b[39m)\n\u001b[1;32m      <a href='vscode-notebook-cell:/home/laura/Analysis_Laura/SCINT/00TUTORIAL/Cross-talk.ipynb#X12sZmlsZQ%3D%3D?line=4'>5</a>\u001b[0m plt\u001b[39m.\u001b[39mplot(x,label\u001b[39m=\u001b[39m\u001b[39m\"\u001b[39m\u001b[39mPure Poisson dist\u001b[39m\u001b[39m\"\u001b[39m)\n",
      "\u001b[0;31mNameError\u001b[0m: name 'poisson' is not defined"
     ]
    }
   ],
   "source": [
    "L=5\n",
    "x=poisson.pmf(range(20), mu=L)\n",
    "\n",
    "plt.figure(dpi=200)\n",
    "plt.plot(x,label=\"Pure Poisson dist\")\n",
    "for ct in np.arange(0.05,.4,0.1):\n",
    "    # x=[F(i,ct,L) for i in range(20)]\n",
    "    x=PoissonPlusBinomial(range(20), ct, L)\n",
    "    plt.plot(x,'o-',label=\"Poisson +  Binomial p*100=\"+str(int(ct*100)) )\n",
    "\n",
    "plt.legend()\n",
    "plt.show()"
   ]
  }
 ],
 "metadata": {
  "kernelspec": {
   "display_name": "Python 3",
   "language": "python",
   "name": "python3"
  },
  "language_info": {
   "codemirror_mode": {
    "name": "ipython",
    "version": 3
   },
   "file_extension": ".py",
   "mimetype": "text/x-python",
   "name": "python",
   "nbconvert_exporter": "python",
   "pygments_lexer": "ipython3",
   "version": "3.8.10"
  },
  "orig_nbformat": 4
 },
 "nbformat": 4,
 "nbformat_minor": 2
}
