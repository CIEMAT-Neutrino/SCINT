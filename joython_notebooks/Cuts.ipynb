{
 "cells": [
  {
   "cell_type": "code",
   "execution_count": 1,
   "metadata": {},
   "outputs": [],
   "source": [
    "import sys\n",
    "sys.path.insert(0, '../')\n",
    "from lib_new import *\n",
    "\n",
    "path=\"/media/rodrigoa/DiscoDuro/SBND_XA_VIS/joython/\"\n",
    "%matplotlib inline\n",
    "DEBUG=False"
   ]
  },
  {
   "cell_type": "code",
   "execution_count": 2,
   "metadata": {},
   "outputs": [],
   "source": [
    "# path =\"/media/rodrigoa/2Gb/data/SBND_XA_PDE/SBND_XA_VIS/joython/\"\n",
    "path=\"/media/rodrigoa/DiscoDuro/SBND_XA_VIS/joython/\"\n",
    "\n",
    "for run in range(6,7):\n",
    "    if run==3:continue # Rodrigo forgot one run :D\n",
    "    Run_props=open_run_properties(run,\"../new_macros/Runs_list.xlsx\")\n",
    "    run_path=path+\"run\"+str(run).zfill(2)+\"/\";\n",
    "\n",
    "    compress=False\n",
    "    Pedestal_vars=open_run_var(run_path,\"Pedestal_vars\",Run_props[\"Channels\"],compressed=compress)\n",
    "    Peak_vars    =open_run_var(run_path,\"Peak_vars\"    ,Run_props[\"Channels\"],compressed=compress)\n",
    "\n",
    "peak_cut=VARsAsDataFrame((Peak_vars,));\n"
   ]
  },
  {
   "cell_type": "code",
   "execution_count": 3,
   "metadata": {},
   "outputs": [
    {
     "name": "stdout",
     "output_type": "stream",
     "text": [
      "(29972,) (30001,)\n",
      "(29972, 5000) (30001, 5000)\n"
     ]
    }
   ],
   "source": [
    "for run in range(6,7):\n",
    "    RawADC=open_run_var(run_path,\"RawADC\",[0],compressed=compress)\n",
    "\n",
    "cutted_Peak_vars=Apply_cut_to_VAR(peak_cut[\"PeakTime\"]>925,Peak_vars)\n",
    "cutted_RawADC   =Apply_cut_to_VAR(peak_cut[\"PeakTime\"]>925,RawADC   )\n",
    "print(cutted_Peak_vars[0][\"PeakTime\"].shape ,Peak_vars[0][\"PeakTime\"].shape)\n",
    "print(cutted_RawADC   [0]            .shape ,RawADC   [0]            .shape)"
   ]
  }
 ],
 "metadata": {
  "kernelspec": {
   "display_name": "Python 3",
   "language": "python",
   "name": "python3"
  },
  "language_info": {
   "codemirror_mode": {
    "name": "ipython",
    "version": 3
   },
   "file_extension": ".py",
   "mimetype": "text/x-python",
   "name": "python",
   "nbconvert_exporter": "python",
   "pygments_lexer": "ipython3",
   "version": "3.10.6"
  },
  "orig_nbformat": 4,
  "vscode": {
   "interpreter": {
    "hash": "916dbcbb3f70747c44a77c7bcd40155683ae19c65e1c03b4aa3499c5328201f1"
   }
  }
 },
 "nbformat": 4,
 "nbformat_minor": 2
}
