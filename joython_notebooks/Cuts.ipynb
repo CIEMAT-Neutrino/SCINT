{
 "cells": [
  {
   "cell_type": "code",
   "execution_count": 1,
   "metadata": {},
   "outputs": [],
   "source": [
    "import sys\n",
    "sys.path.insert(0, '../')\n",
    "import matplotlib.pyplot as plt\n",
    "from lib_new.io_lib import *\n",
    "from lib_new.average_waveforms import *\n",
    "from lib_new.ped_lib import *\n",
    "from lib_new.cuts import *\n",
    "import numpy as np\n",
    "import copy\n",
    "\n",
    "path=\"/media/rodrigoa/DiscoDuro/SBND_XA_VIS/joython/\"\n",
    "%matplotlib inline\n",
    "DEBUG=False"
   ]
  },
  {
   "cell_type": "code",
   "execution_count": 2,
   "metadata": {},
   "outputs": [
    {
     "name": "stderr",
     "output_type": "stream",
     "text": [
      "/home/rodrigoa/CYTHON_TOOLS_2/joython_notebooks/../lib_new/cuts.py:25: FutureWarning: In a future version of pandas all arguments of DataFrame.sort_index will be keyword-only.\n",
      "  return DF.swaplevel(0,1,1).sort_index(1)\n"
     ]
    }
   ],
   "source": [
    "# path =\"/media/rodrigoa/2Gb/data/SBND_XA_PDE/SBND_XA_VIS/joython/\"\n",
    "path=\"/media/rodrigoa/DiscoDuro/SBND_XA_VIS/joython/\"\n",
    "\n",
    "for run in range(6,7):\n",
    "    if run==3:continue # Rodrigo forgot one run :D\n",
    "    Run_props=open_run_properties(run,\"../new_macros/Runs_list.xlsx\")\n",
    "    run_path=path+\"run\"+str(run).zfill(2)+\"/\";\n",
    "\n",
    "    compress=False\n",
    "    Pedestal_vars=open_run_var(run_path,\"Pedestal_vars\",Run_props[\"Channels\"],compressed=compress)\n",
    "    Peak_vars    =open_run_var(run_path,\"Peak_vars\"    ,Run_props[\"Channels\"],compressed=compress)\n",
    "\n",
    "peak_cut=SWAP_COLUM_LEVELS(VARsAsDataFrame((Peak_vars,)));"
   ]
  },
  {
   "cell_type": "code",
   "execution_count": 8,
   "metadata": {},
   "outputs": [],
   "source": [
    "\n",
    "def Apply_cut_toVAR(df:pd.DataFrame,VAR)->dict:\n",
    "    \n",
    "    aux_VAR=copy.deepcopy(VAR) #copy\n",
    "     \n",
    "    cut_as_dict=df.to_dict('series')\n",
    "    if type(VAR[  list(VAR.keys())[0]  ])==dict: #nested dictionaries, apply on subdictionary\n",
    "        for channel in VAR:\n",
    "            for var in VAR[channel]: \n",
    "                aux_VAR[channel][var]=VAR[channel][var][cut_as_dict[channel]]\n",
    "        return aux_VAR;\n",
    "    else:#single dictionary, one key per channel\n",
    "        for channel in VAR:\n",
    "            aux_VAR[channel]=VAR[channel][cut_as_dict[channel]]\n",
    "        return aux_VAR;\n",
    "    \n",
    "x=Apply_cut_toVAR(peak_cut[\"PeakTime\"]>925,Peak_vars)"
   ]
  },
  {
   "cell_type": "code",
   "execution_count": 4,
   "metadata": {},
   "outputs": [
    {
     "data": {
      "text/plain": [
       "(30001,)"
      ]
     },
     "execution_count": 4,
     "metadata": {},
     "output_type": "execute_result"
    }
   ],
   "source": [
    "Peak_vars[0][\"PeakTime\"].shape\n",
    "\n",
    "for run in range(6,7):\n",
    "    Peak_vars=open_run_var(run_path,\"Peak_vars\",Run_props[\"Channels\"],compressed=compress)\n",
    "    "
   ]
  }
 ],
 "metadata": {
  "kernelspec": {
   "display_name": "Python 3",
   "language": "python",
   "name": "python3"
  },
  "language_info": {
   "codemirror_mode": {
    "name": "ipython",
    "version": 3
   },
   "file_extension": ".py",
   "mimetype": "text/x-python",
   "name": "python",
   "nbconvert_exporter": "python",
   "pygments_lexer": "ipython3",
   "version": "3.10.6"
  },
  "orig_nbformat": 4,
  "vscode": {
   "interpreter": {
    "hash": "916dbcbb3f70747c44a77c7bcd40155683ae19c65e1c03b4aa3499c5328201f1"
   }
  }
 },
 "nbformat": 4,
 "nbformat_minor": 2
}
