{
 "cells": [
  {
   "cell_type": "code",
   "execution_count": 1,
   "metadata": {},
   "outputs": [],
   "source": [
    "import pandas as pd\n",
    "import numpy as np\n",
    "import matplotlib.pyplot as plt"
   ]
  },
  {
   "cell_type": "code",
   "execution_count": 11,
   "metadata": {},
   "outputs": [
    {
     "ename": "TypeError",
     "evalue": "unsupported operand type(s) for *: 'NoneType' and 'int'",
     "output_type": "error",
     "traceback": [
      "\u001b[0;31m---------------------------------------------------------------------------\u001b[0m",
      "\u001b[0;31mTypeError\u001b[0m                                 Traceback (most recent call last)",
      "\u001b[1;32m/home/rodrigoa/CYTHON_TOOLS_2/aux.ipynb Cell 2\u001b[0m in \u001b[0;36m<cell line: 8>\u001b[0;34m()\u001b[0m\n\u001b[1;32m      <a href='vscode-notebook-cell://ssh-remote%2Brodralva_remote/home/rodrigoa/CYTHON_TOOLS_2/aux.ipynb#W1sdnNjb2RlLXJlbW90ZQ%3D%3D?line=4'>5</a>\u001b[0m \u001b[39mdef\u001b[39;00m \u001b[39mmy_print\u001b[39m(func,x):\n\u001b[1;32m      <a href='vscode-notebook-cell://ssh-remote%2Brodralva_remote/home/rodrigoa/CYTHON_TOOLS_2/aux.ipynb#W1sdnNjb2RlLXJlbW90ZQ%3D%3D?line=5'>6</a>\u001b[0m     \u001b[39mprint\u001b[39m(func(y\u001b[39m=\u001b[39mx))\n\u001b[0;32m----> <a href='vscode-notebook-cell://ssh-remote%2Brodralva_remote/home/rodrigoa/CYTHON_TOOLS_2/aux.ipynb#W1sdnNjb2RlLXJlbW90ZQ%3D%3D?line=7'>8</a>\u001b[0m my_print(my_cross(cross\u001b[39m=\u001b[39;49m\u001b[39m3\u001b[39;49m),\u001b[39m3\u001b[39m)\n",
      "\u001b[1;32m/home/rodrigoa/CYTHON_TOOLS_2/aux.ipynb Cell 2\u001b[0m in \u001b[0;36mmy_cross\u001b[0;34m(cross, y)\u001b[0m\n\u001b[1;32m      <a href='vscode-notebook-cell://ssh-remote%2Brodralva_remote/home/rodrigoa/CYTHON_TOOLS_2/aux.ipynb#W1sdnNjb2RlLXJlbW90ZQ%3D%3D?line=0'>1</a>\u001b[0m \u001b[39mdef\u001b[39;00m \u001b[39mmy_cross\u001b[39m(cross\u001b[39m=\u001b[39m\u001b[39m2\u001b[39m,y\u001b[39m=\u001b[39m\u001b[39mNone\u001b[39;00m):\n\u001b[0;32m----> <a href='vscode-notebook-cell://ssh-remote%2Brodralva_remote/home/rodrigoa/CYTHON_TOOLS_2/aux.ipynb#W1sdnNjb2RlLXJlbW90ZQ%3D%3D?line=1'>2</a>\u001b[0m     y\u001b[39m=\u001b[39my\u001b[39m*\u001b[39;49mcross;\n\u001b[1;32m      <a href='vscode-notebook-cell://ssh-remote%2Brodralva_remote/home/rodrigoa/CYTHON_TOOLS_2/aux.ipynb#W1sdnNjb2RlLXJlbW90ZQ%3D%3D?line=2'>3</a>\u001b[0m     \u001b[39mreturn\u001b[39;00m y\n",
      "\u001b[0;31mTypeError\u001b[0m: unsupported operand type(s) for *: 'NoneType' and 'int'"
     ]
    }
   ],
   "source": [
    "def my_cross(cross=2,y=None):\n",
    "    if type(i)==int:\n",
    "        y=y*cross;\n",
    "        return y;\n",
    "\n",
    "def my_print(func,x):\n",
    "    print(func(y=x))\n",
    "\n",
    "my_print(my_cross(cross=3),3)"
   ]
  },
  {
   "cell_type": "code",
   "execution_count": null,
   "metadata": {},
   "outputs": [],
   "source": []
  }
 ],
 "metadata": {
  "kernelspec": {
   "display_name": "Python 3",
   "language": "python",
   "name": "python3"
  },
  "language_info": {
   "codemirror_mode": {
    "name": "ipython",
    "version": 3
   },
   "file_extension": ".py",
   "mimetype": "text/x-python",
   "name": "python",
   "nbconvert_exporter": "python",
   "pygments_lexer": "ipython3",
   "version": "3.10.6"
  },
  "orig_nbformat": 4,
  "vscode": {
   "interpreter": {
    "hash": "916dbcbb3f70747c44a77c7bcd40155683ae19c65e1c03b4aa3499c5328201f1"
   }
  }
 },
 "nbformat": 4,
 "nbformat_minor": 2
}
