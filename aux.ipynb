{
 "cells": [
  {
   "cell_type": "code",
   "execution_count": 1,
   "metadata": {},
   "outputs": [
    {
     "ename": "FileNotFoundError",
     "evalue": "[Errno 2] No such file or directory: 'data/raw/run10/wave7.dat'",
     "output_type": "error",
     "traceback": [
      "\u001b[0;31m---------------------------------------------------------------------------\u001b[0m",
      "\u001b[0;31mFileNotFoundError\u001b[0m                         Traceback (most recent call last)",
      "\u001b[1;32m/home/rodrigoa/CYTHON_TOOLS_2/aux.ipynb Cell 1\u001b[0m in \u001b[0;36m<cell line: 6>\u001b[0;34m()\u001b[0m\n\u001b[1;32m      <a href='vscode-notebook-cell:/home/rodrigoa/CYTHON_TOOLS_2/aux.ipynb#W0sZmlsZQ%3D%3D?line=1'>2</a>\u001b[0m \u001b[39mfrom\u001b[39;00m \u001b[39mlib_new\u001b[39;00m\u001b[39m.\u001b[39;00m\u001b[39mfirst_data_process\u001b[39;00m \u001b[39mimport\u001b[39;00m Bin2Npz_excel\n\u001b[1;32m      <a href='vscode-notebook-cell:/home/rodrigoa/CYTHON_TOOLS_2/aux.ipynb#W0sZmlsZQ%3D%3D?line=3'>4</a>\u001b[0m \u001b[39m# df = pd.read_excel(r'Runs_list.xlsx', sheet_name='Sheet1')\u001b[39;00m\n\u001b[1;32m      <a href='vscode-notebook-cell:/home/rodrigoa/CYTHON_TOOLS_2/aux.ipynb#W0sZmlsZQ%3D%3D?line=4'>5</a>\u001b[0m \u001b[39m# df['Channel']=df['Channel'].apply(lambda x: list(map(int,x.split(\",\")))) #excell only allows one value per cell, convert string to array of channels\u001b[39;00m\n\u001b[0;32m----> <a href='vscode-notebook-cell:/home/rodrigoa/CYTHON_TOOLS_2/aux.ipynb#W0sZmlsZQ%3D%3D?line=5'>6</a>\u001b[0m Bin2Npz_excel(\u001b[39m\"\u001b[39;49m\u001b[39mRuns_list.xlsx\u001b[39;49m\u001b[39m\"\u001b[39;49m)\n",
      "File \u001b[0;32m~/CYTHON_TOOLS_2/lib_new/first_data_process.py:54\u001b[0m, in \u001b[0;36mBin2Npz_excel\u001b[0;34m(excel_file_path)\u001b[0m\n\u001b[1;32m     51\u001b[0m df[\u001b[39m'\u001b[39m\u001b[39mChannel\u001b[39m\u001b[39m'\u001b[39m]\u001b[39m=\u001b[39mdf[\u001b[39m'\u001b[39m\u001b[39mChannel\u001b[39m\u001b[39m'\u001b[39m]\u001b[39m.\u001b[39mapply(\u001b[39mlambda\u001b[39;00m x: \u001b[39mlist\u001b[39m(\u001b[39mmap\u001b[39m(\u001b[39mint\u001b[39m,x\u001b[39m.\u001b[39msplit(\u001b[39m\"\u001b[39m\u001b[39m,\u001b[39m\u001b[39m\"\u001b[39m)))) \u001b[39m#excell only allows one value per cell, convert string to array of channels\u001b[39;00m\n\u001b[1;32m     53\u001b[0m \u001b[39m# branches = [\"RawADC\", \"NBinsWvf\", \"Sampling\", \"Label\", \"RawPChannel\"]\u001b[39;00m\n\u001b[0;32m---> 54\u001b[0m df\u001b[39m.\u001b[39;49mapply(\u001b[39mlambda\u001b[39;49;00m x: DumpBin2Npz(x[\u001b[39m\"\u001b[39;49m\u001b[39mRun\u001b[39;49m\u001b[39m\"\u001b[39;49m],x[\u001b[39m\"\u001b[39;49m\u001b[39mChannel\u001b[39;49m\u001b[39m\"\u001b[39;49m]),axis\u001b[39m=\u001b[39;49m\u001b[39m1\u001b[39;49m)\n",
      "File \u001b[0;32m~/.local/lib/python3.10/site-packages/pandas/core/frame.py:8845\u001b[0m, in \u001b[0;36mDataFrame.apply\u001b[0;34m(self, func, axis, raw, result_type, args, **kwargs)\u001b[0m\n\u001b[1;32m   8834\u001b[0m \u001b[39mfrom\u001b[39;00m \u001b[39mpandas\u001b[39;00m\u001b[39m.\u001b[39;00m\u001b[39mcore\u001b[39;00m\u001b[39m.\u001b[39;00m\u001b[39mapply\u001b[39;00m \u001b[39mimport\u001b[39;00m frame_apply\n\u001b[1;32m   8836\u001b[0m op \u001b[39m=\u001b[39m frame_apply(\n\u001b[1;32m   8837\u001b[0m     \u001b[39mself\u001b[39m,\n\u001b[1;32m   8838\u001b[0m     func\u001b[39m=\u001b[39mfunc,\n\u001b[0;32m   (...)\u001b[0m\n\u001b[1;32m   8843\u001b[0m     kwargs\u001b[39m=\u001b[39mkwargs,\n\u001b[1;32m   8844\u001b[0m )\n\u001b[0;32m-> 8845\u001b[0m \u001b[39mreturn\u001b[39;00m op\u001b[39m.\u001b[39;49mapply()\u001b[39m.\u001b[39m__finalize__(\u001b[39mself\u001b[39m, method\u001b[39m=\u001b[39m\u001b[39m\"\u001b[39m\u001b[39mapply\u001b[39m\u001b[39m\"\u001b[39m)\n",
      "File \u001b[0;32m~/.local/lib/python3.10/site-packages/pandas/core/apply.py:733\u001b[0m, in \u001b[0;36mFrameApply.apply\u001b[0;34m(self)\u001b[0m\n\u001b[1;32m    730\u001b[0m \u001b[39melif\u001b[39;00m \u001b[39mself\u001b[39m\u001b[39m.\u001b[39mraw:\n\u001b[1;32m    731\u001b[0m     \u001b[39mreturn\u001b[39;00m \u001b[39mself\u001b[39m\u001b[39m.\u001b[39mapply_raw()\n\u001b[0;32m--> 733\u001b[0m \u001b[39mreturn\u001b[39;00m \u001b[39mself\u001b[39;49m\u001b[39m.\u001b[39;49mapply_standard()\n",
      "File \u001b[0;32m~/.local/lib/python3.10/site-packages/pandas/core/apply.py:857\u001b[0m, in \u001b[0;36mFrameApply.apply_standard\u001b[0;34m(self)\u001b[0m\n\u001b[1;32m    856\u001b[0m \u001b[39mdef\u001b[39;00m \u001b[39mapply_standard\u001b[39m(\u001b[39mself\u001b[39m):\n\u001b[0;32m--> 857\u001b[0m     results, res_index \u001b[39m=\u001b[39m \u001b[39mself\u001b[39;49m\u001b[39m.\u001b[39;49mapply_series_generator()\n\u001b[1;32m    859\u001b[0m     \u001b[39m# wrap results\u001b[39;00m\n\u001b[1;32m    860\u001b[0m     \u001b[39mreturn\u001b[39;00m \u001b[39mself\u001b[39m\u001b[39m.\u001b[39mwrap_results(results, res_index)\n",
      "File \u001b[0;32m~/.local/lib/python3.10/site-packages/pandas/core/apply.py:873\u001b[0m, in \u001b[0;36mFrameApply.apply_series_generator\u001b[0;34m(self)\u001b[0m\n\u001b[1;32m    870\u001b[0m \u001b[39mwith\u001b[39;00m option_context(\u001b[39m\"\u001b[39m\u001b[39mmode.chained_assignment\u001b[39m\u001b[39m\"\u001b[39m, \u001b[39mNone\u001b[39;00m):\n\u001b[1;32m    871\u001b[0m     \u001b[39mfor\u001b[39;00m i, v \u001b[39min\u001b[39;00m \u001b[39menumerate\u001b[39m(series_gen):\n\u001b[1;32m    872\u001b[0m         \u001b[39m# ignore SettingWithCopy here in case the user mutates\u001b[39;00m\n\u001b[0;32m--> 873\u001b[0m         results[i] \u001b[39m=\u001b[39m \u001b[39mself\u001b[39;49m\u001b[39m.\u001b[39;49mf(v)\n\u001b[1;32m    874\u001b[0m         \u001b[39mif\u001b[39;00m \u001b[39misinstance\u001b[39m(results[i], ABCSeries):\n\u001b[1;32m    875\u001b[0m             \u001b[39m# If we have a view on v, we need to make a copy because\u001b[39;00m\n\u001b[1;32m    876\u001b[0m             \u001b[39m#  series_generator will swap out the underlying data\u001b[39;00m\n\u001b[1;32m    877\u001b[0m             results[i] \u001b[39m=\u001b[39m results[i]\u001b[39m.\u001b[39mcopy(deep\u001b[39m=\u001b[39m\u001b[39mFalse\u001b[39;00m)\n",
      "File \u001b[0;32m~/CYTHON_TOOLS_2/lib_new/first_data_process.py:54\u001b[0m, in \u001b[0;36mBin2Npz_excel.<locals>.<lambda>\u001b[0;34m(x)\u001b[0m\n\u001b[1;32m     51\u001b[0m df[\u001b[39m'\u001b[39m\u001b[39mChannel\u001b[39m\u001b[39m'\u001b[39m]\u001b[39m=\u001b[39mdf[\u001b[39m'\u001b[39m\u001b[39mChannel\u001b[39m\u001b[39m'\u001b[39m]\u001b[39m.\u001b[39mapply(\u001b[39mlambda\u001b[39;00m x: \u001b[39mlist\u001b[39m(\u001b[39mmap\u001b[39m(\u001b[39mint\u001b[39m,x\u001b[39m.\u001b[39msplit(\u001b[39m\"\u001b[39m\u001b[39m,\u001b[39m\u001b[39m\"\u001b[39m)))) \u001b[39m#excell only allows one value per cell, convert string to array of channels\u001b[39;00m\n\u001b[1;32m     53\u001b[0m \u001b[39m# branches = [\"RawADC\", \"NBinsWvf\", \"Sampling\", \"Label\", \"RawPChannel\"]\u001b[39;00m\n\u001b[0;32m---> 54\u001b[0m df\u001b[39m.\u001b[39mapply(\u001b[39mlambda\u001b[39;00m x: DumpBin2Npz(x[\u001b[39m\"\u001b[39;49m\u001b[39mRun\u001b[39;49m\u001b[39m\"\u001b[39;49m],x[\u001b[39m\"\u001b[39;49m\u001b[39mChannel\u001b[39;49m\u001b[39m\"\u001b[39;49m]),axis\u001b[39m=\u001b[39m\u001b[39m1\u001b[39m)\n",
      "File \u001b[0;32m~/CYTHON_TOOLS_2/lib_new/first_data_process.py:42\u001b[0m, in \u001b[0;36mDumpBin2Npz\u001b[0;34m(Run, Channel, in_path, out_path)\u001b[0m\n\u001b[1;32m     39\u001b[0m \u001b[39mdef\u001b[39;00m \u001b[39mDumpBin2Npz\u001b[39m(Run,Channel,in_path\u001b[39m=\u001b[39m\u001b[39m\"\u001b[39m\u001b[39mdata/raw/\u001b[39m\u001b[39m\"\u001b[39m,out_path\u001b[39m=\u001b[39m\u001b[39m\"\u001b[39m\u001b[39mdata/raw/\u001b[39m\u001b[39m\"\u001b[39m) :\n\u001b[1;32m     41\u001b[0m     \u001b[39mfor\u001b[39;00m ch \u001b[39min\u001b[39;00m Channel:\n\u001b[0;32m---> 42\u001b[0m         bin2npy_compressed(\n\u001b[1;32m     43\u001b[0m                             in_path\u001b[39m+\u001b[39;49m\u001b[39m\"\u001b[39;49m\u001b[39mrun\u001b[39;49m\u001b[39m\"\u001b[39;49m\u001b[39m+\u001b[39;49m\u001b[39mstr\u001b[39;49m(Run)\u001b[39m.\u001b[39;49mzfill(\u001b[39m2\u001b[39;49m)\u001b[39m+\u001b[39;49m\u001b[39m\"\u001b[39;49m\u001b[39m/wave\u001b[39;49m\u001b[39m\"\u001b[39;49m\u001b[39m+\u001b[39;49m\u001b[39mstr\u001b[39;49m(ch)\u001b[39m+\u001b[39;49m\u001b[39m\"\u001b[39;49m\u001b[39m.dat\u001b[39;49m\u001b[39m\"\u001b[39;49m\n\u001b[1;32m     44\u001b[0m                            ,out_path\u001b[39m+\u001b[39;49m\u001b[39m\"\u001b[39;49m\u001b[39mrun\u001b[39;49m\u001b[39m\"\u001b[39;49m\u001b[39m+\u001b[39;49m\u001b[39mstr\u001b[39;49m(Run)\u001b[39m.\u001b[39;49mzfill(\u001b[39m2\u001b[39;49m)\u001b[39m+\u001b[39;49m\u001b[39m\"\u001b[39;49m\u001b[39m/RawADC\u001b[39;49m\u001b[39m\"\u001b[39;49m\u001b[39m+\u001b[39;49m\u001b[39mstr\u001b[39;49m(ch)  \n\u001b[1;32m     45\u001b[0m                            )\n",
      "File \u001b[0;32m~/CYTHON_TOOLS_2/lib_new/first_data_process.py:35\u001b[0m, in \u001b[0;36mbin2npy_compressed\u001b[0;34m(file_in, file_out)\u001b[0m\n\u001b[1;32m     33\u001b[0m \u001b[39mdef\u001b[39;00m \u001b[39mbin2npy_compressed\u001b[39m(file_in,file_out):\n\u001b[1;32m     34\u001b[0m     \u001b[39m\"\"\"Self-explainatory. Computation time x10 slower than un-compresed, size x3 times smaller\"\"\"\u001b[39;00m\n\u001b[0;32m---> 35\u001b[0m     data_npy\u001b[39m=\u001b[39mbinary2npy(file_in)\n\u001b[1;32m     36\u001b[0m     np\u001b[39m.\u001b[39msavez_compressed(file_out,data_npy)\n",
      "File \u001b[0;32m~/CYTHON_TOOLS_2/lib_new/first_data_process.py:13\u001b[0m, in \u001b[0;36mbinary2npy\u001b[0;34m(FileName, header_lines)\u001b[0m\n\u001b[1;32m      7\u001b[0m \u001b[39m\"\"\"Dumps root file with given header lines(6) and wvf size defined in header. \\n\u001b[39;00m\n\u001b[1;32m      8\u001b[0m \u001b[39mReturns a npy array with Raw Wvf \u001b[39;00m\n\u001b[1;32m      9\u001b[0m \u001b[39mIf binary files are modified(header/data types), ask your local engineer\"\"\"\u001b[39;00m\n\u001b[1;32m     11\u001b[0m DEBUG\u001b[39m=\u001b[39m\u001b[39mFalse\u001b[39;00m\n\u001b[0;32m---> 13\u001b[0m header\u001b[39m=\u001b[39mnp\u001b[39m.\u001b[39;49mfromfile(FileName, dtype\u001b[39m=\u001b[39;49m\u001b[39m'\u001b[39;49m\u001b[39mI\u001b[39;49m\u001b[39m'\u001b[39;49m)[:\u001b[39m6\u001b[39m] \u001b[39m#read first event header\u001b[39;00m\n\u001b[1;32m     14\u001b[0m NSamples\u001b[39m=\u001b[39m\u001b[39mint\u001b[39m(header[\u001b[39m0\u001b[39m]\u001b[39m/\u001b[39m\u001b[39m2\u001b[39m\u001b[39m-\u001b[39mheader_lines\u001b[39m*\u001b[39m\u001b[39m2\u001b[39m)\n\u001b[1;32m     15\u001b[0m Event_size\u001b[39m=\u001b[39mheader_lines\u001b[39m*\u001b[39m\u001b[39m2\u001b[39m\u001b[39m+\u001b[39mNSamples\n",
      "\u001b[0;31mFileNotFoundError\u001b[0m: [Errno 2] No such file or directory: 'data/raw/run10/wave7.dat'"
     ]
    }
   ],
   "source": [
    "import pandas as pd\n",
    "from lib_new.first_data_process import Bin2Npz_excel\n",
    "\n",
    "# df = pd.read_excel(r'Runs_list.xlsx', sheet_name='Sheet1')\n",
    "# df['Channel']=df['Channel'].apply(lambda x: list(map(int,x.split(\",\")))) #excell only allows one value per cell, convert string to array of channels\n",
    "Bin2Npz_excel(\"Runs_list.xlsx\")\n"
   ]
  },
  {
   "cell_type": "code",
   "execution_count": null,
   "metadata": {},
   "outputs": [
    {
     "name": "stdout",
     "output_type": "stream",
     "text": [
      "1 [0, 1, 6]\n",
      "2 [0, 1, 6]\n",
      "3 [0, 1, 6]\n",
      "9 [0, 1, 4, 6]\n",
      "10 [0, 1, 4, 7]\n",
      "11 [0, 1, 4, 8]\n",
      "25 [0, 1, 4, 9]\n",
      "26 [0, 1, 4, 10]\n",
      "27 [0, 1, 4, 11]\n"
     ]
    }
   ],
   "source": [
    "# df.apply(lambda x: print(x[\"Run\"],x[\"Channel\"]),axis=1);"
   ]
  }
 ],
 "metadata": {
  "kernelspec": {
   "display_name": "Python 3",
   "language": "python",
   "name": "python3"
  },
  "language_info": {
   "codemirror_mode": {
    "name": "ipython",
    "version": 3
   },
   "file_extension": ".py",
   "mimetype": "text/x-python",
   "name": "python",
   "nbconvert_exporter": "python",
   "pygments_lexer": "ipython3",
   "version": "3.10.6"
  },
  "orig_nbformat": 4,
  "vscode": {
   "interpreter": {
    "hash": "916dbcbb3f70747c44a77c7bcd40155683ae19c65e1c03b4aa3499c5328201f1"
   }
  }
 },
 "nbformat": 4,
 "nbformat_minor": 2
}
